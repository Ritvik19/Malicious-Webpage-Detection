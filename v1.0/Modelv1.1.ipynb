{
 "cells": [
  {
   "cell_type": "markdown",
   "metadata": {},
   "source": [
    "# Libraries"
   ]
  },
  {
   "cell_type": "code",
   "execution_count": 1,
   "metadata": {},
   "outputs": [
    {
     "name": "stderr",
     "output_type": "stream",
     "text": [
      "Using TensorFlow backend.\n"
     ]
    }
   ],
   "source": [
    "import numpy as np\n",
    "import pandas as pd\n",
    "import tensorflow as tf\n",
    "import keras"
   ]
  },
  {
   "cell_type": "markdown",
   "metadata": {},
   "source": [
    "# Data"
   ]
  },
  {
   "cell_type": "code",
   "execution_count": 2,
   "metadata": {
    "collapsed": true
   },
   "outputs": [],
   "source": [
    "dataset = pd.read_csv('featureset.csv')"
   ]
  },
  {
   "cell_type": "code",
   "execution_count": 3,
   "metadata": {
    "collapsed": true
   },
   "outputs": [],
   "source": [
    "testset = pd.read_csv('testset.csv')"
   ]
  },
  {
   "cell_type": "code",
   "execution_count": 4,
   "metadata": {},
   "outputs": [
    {
     "data": {
      "text/html": [
       "<div>\n",
       "<style scoped>\n",
       "    .dataframe tbody tr th:only-of-type {\n",
       "        vertical-align: middle;\n",
       "    }\n",
       "\n",
       "    .dataframe tbody tr th {\n",
       "        vertical-align: top;\n",
       "    }\n",
       "\n",
       "    .dataframe thead th {\n",
       "        text-align: right;\n",
       "    }\n",
       "</style>\n",
       "<table border=\"1\" class=\"dataframe\">\n",
       "  <thead>\n",
       "    <tr style=\"text-align: right;\">\n",
       "      <th></th>\n",
       "      <th>URL</th>\n",
       "      <th>length</th>\n",
       "      <th>isIp</th>\n",
       "      <th>countAt</th>\n",
       "      <th>countDoubleSlash</th>\n",
       "      <th>countHyphen</th>\n",
       "      <th>countDots</th>\n",
       "      <th>countDelimeters</th>\n",
       "      <th>countSubDirectory</th>\n",
       "      <th>countQueries</th>\n",
       "      <th>alexaGlobalRank</th>\n",
       "      <th>domainRegistrationLength</th>\n",
       "      <th>label</th>\n",
       "    </tr>\n",
       "  </thead>\n",
       "  <tbody>\n",
       "    <tr>\n",
       "      <th>0</th>\n",
       "      <td>http://shagali.com/shiro/437594df261a1e7222745...</td>\n",
       "      <td>205</td>\n",
       "      <td>0</td>\n",
       "      <td>0</td>\n",
       "      <td>1</td>\n",
       "      <td>0</td>\n",
       "      <td>2</td>\n",
       "      <td>16</td>\n",
       "      <td>11</td>\n",
       "      <td>4</td>\n",
       "      <td>-1.0</td>\n",
       "      <td>-1</td>\n",
       "      <td>1</td>\n",
       "    </tr>\n",
       "    <tr>\n",
       "      <th>1</th>\n",
       "      <td>http://https-security.esy.es/recovery-chekpoin...</td>\n",
       "      <td>58</td>\n",
       "      <td>0</td>\n",
       "      <td>0</td>\n",
       "      <td>1</td>\n",
       "      <td>3</td>\n",
       "      <td>3</td>\n",
       "      <td>0</td>\n",
       "      <td>3</td>\n",
       "      <td>1</td>\n",
       "      <td>-1.0</td>\n",
       "      <td>-1</td>\n",
       "      <td>1</td>\n",
       "    </tr>\n",
       "    <tr>\n",
       "      <th>2</th>\n",
       "      <td>http://www.netflix-notifications.com/</td>\n",
       "      <td>37</td>\n",
       "      <td>0</td>\n",
       "      <td>0</td>\n",
       "      <td>1</td>\n",
       "      <td>1</td>\n",
       "      <td>2</td>\n",
       "      <td>0</td>\n",
       "      <td>3</td>\n",
       "      <td>1</td>\n",
       "      <td>-1.0</td>\n",
       "      <td>-1</td>\n",
       "      <td>1</td>\n",
       "    </tr>\n",
       "    <tr>\n",
       "      <th>3</th>\n",
       "      <td>http://sec-verifyfb-login-fbpages.esy.es/recov...</td>\n",
       "      <td>70</td>\n",
       "      <td>0</td>\n",
       "      <td>0</td>\n",
       "      <td>1</td>\n",
       "      <td>5</td>\n",
       "      <td>3</td>\n",
       "      <td>0</td>\n",
       "      <td>3</td>\n",
       "      <td>1</td>\n",
       "      <td>-1.0</td>\n",
       "      <td>-1</td>\n",
       "      <td>1</td>\n",
       "    </tr>\n",
       "    <tr>\n",
       "      <th>4</th>\n",
       "      <td>http://recever0076.esy.es/recovery-chekpoint-l...</td>\n",
       "      <td>55</td>\n",
       "      <td>0</td>\n",
       "      <td>0</td>\n",
       "      <td>1</td>\n",
       "      <td>2</td>\n",
       "      <td>3</td>\n",
       "      <td>0</td>\n",
       "      <td>3</td>\n",
       "      <td>1</td>\n",
       "      <td>-1.0</td>\n",
       "      <td>-1</td>\n",
       "      <td>1</td>\n",
       "    </tr>\n",
       "  </tbody>\n",
       "</table>\n",
       "</div>"
      ],
      "text/plain": [
       "                                                 URL  length  isIp  countAt  \\\n",
       "0  http://shagali.com/shiro/437594df261a1e7222745...     205     0        0   \n",
       "1  http://https-security.esy.es/recovery-chekpoin...      58     0        0   \n",
       "2              http://www.netflix-notifications.com/      37     0        0   \n",
       "3  http://sec-verifyfb-login-fbpages.esy.es/recov...      70     0        0   \n",
       "4  http://recever0076.esy.es/recovery-chekpoint-l...      55     0        0   \n",
       "\n",
       "   countDoubleSlash  countHyphen  countDots  countDelimeters  \\\n",
       "0                 1            0          2               16   \n",
       "1                 1            3          3                0   \n",
       "2                 1            1          2                0   \n",
       "3                 1            5          3                0   \n",
       "4                 1            2          3                0   \n",
       "\n",
       "   countSubDirectory  countQueries  alexaGlobalRank  domainRegistrationLength  \\\n",
       "0                 11             4             -1.0                        -1   \n",
       "1                  3             1             -1.0                        -1   \n",
       "2                  3             1             -1.0                        -1   \n",
       "3                  3             1             -1.0                        -1   \n",
       "4                  3             1             -1.0                        -1   \n",
       "\n",
       "   label  \n",
       "0      1  \n",
       "1      1  \n",
       "2      1  \n",
       "3      1  \n",
       "4      1  "
      ]
     },
     "execution_count": 4,
     "metadata": {},
     "output_type": "execute_result"
    }
   ],
   "source": [
    "dataset.head()"
   ]
  },
  {
   "cell_type": "code",
   "execution_count": 5,
   "metadata": {},
   "outputs": [
    {
     "data": {
      "text/html": [
       "<div>\n",
       "<style scoped>\n",
       "    .dataframe tbody tr th:only-of-type {\n",
       "        vertical-align: middle;\n",
       "    }\n",
       "\n",
       "    .dataframe tbody tr th {\n",
       "        vertical-align: top;\n",
       "    }\n",
       "\n",
       "    .dataframe thead th {\n",
       "        text-align: right;\n",
       "    }\n",
       "</style>\n",
       "<table border=\"1\" class=\"dataframe\">\n",
       "  <thead>\n",
       "    <tr style=\"text-align: right;\">\n",
       "      <th></th>\n",
       "      <th>length</th>\n",
       "      <th>isIp</th>\n",
       "      <th>countAt</th>\n",
       "      <th>countDoubleSlash</th>\n",
       "      <th>countHyphen</th>\n",
       "      <th>countDots</th>\n",
       "      <th>countDelimeters</th>\n",
       "      <th>countSubDirectory</th>\n",
       "      <th>countQueries</th>\n",
       "      <th>alexaGlobalRank</th>\n",
       "      <th>domainRegistrationLength</th>\n",
       "      <th>label</th>\n",
       "    </tr>\n",
       "  </thead>\n",
       "  <tbody>\n",
       "    <tr>\n",
       "      <th>0</th>\n",
       "      <td>39.0</td>\n",
       "      <td>0.0</td>\n",
       "      <td>0.0</td>\n",
       "      <td>1.0</td>\n",
       "      <td>0.0</td>\n",
       "      <td>2.0</td>\n",
       "      <td>0.0</td>\n",
       "      <td>2.0</td>\n",
       "      <td>1.0</td>\n",
       "      <td>-1.0</td>\n",
       "      <td>-1.0</td>\n",
       "      <td>1</td>\n",
       "    </tr>\n",
       "    <tr>\n",
       "      <th>1</th>\n",
       "      <td>31.0</td>\n",
       "      <td>0.0</td>\n",
       "      <td>0.0</td>\n",
       "      <td>1.0</td>\n",
       "      <td>0.0</td>\n",
       "      <td>2.0</td>\n",
       "      <td>0.0</td>\n",
       "      <td>2.0</td>\n",
       "      <td>1.0</td>\n",
       "      <td>-1.0</td>\n",
       "      <td>-1.0</td>\n",
       "      <td>1</td>\n",
       "    </tr>\n",
       "    <tr>\n",
       "      <th>2</th>\n",
       "      <td>34.0</td>\n",
       "      <td>0.0</td>\n",
       "      <td>0.0</td>\n",
       "      <td>1.0</td>\n",
       "      <td>0.0</td>\n",
       "      <td>2.0</td>\n",
       "      <td>0.0</td>\n",
       "      <td>2.0</td>\n",
       "      <td>1.0</td>\n",
       "      <td>-1.0</td>\n",
       "      <td>0.0</td>\n",
       "      <td>1</td>\n",
       "    </tr>\n",
       "    <tr>\n",
       "      <th>3</th>\n",
       "      <td>37.0</td>\n",
       "      <td>0.0</td>\n",
       "      <td>0.0</td>\n",
       "      <td>1.0</td>\n",
       "      <td>0.0</td>\n",
       "      <td>2.0</td>\n",
       "      <td>0.0</td>\n",
       "      <td>2.0</td>\n",
       "      <td>1.0</td>\n",
       "      <td>-1.0</td>\n",
       "      <td>-1.0</td>\n",
       "      <td>1</td>\n",
       "    </tr>\n",
       "    <tr>\n",
       "      <th>4</th>\n",
       "      <td>33.0</td>\n",
       "      <td>0.0</td>\n",
       "      <td>0.0</td>\n",
       "      <td>1.0</td>\n",
       "      <td>0.0</td>\n",
       "      <td>2.0</td>\n",
       "      <td>0.0</td>\n",
       "      <td>2.0</td>\n",
       "      <td>1.0</td>\n",
       "      <td>-1.0</td>\n",
       "      <td>-1.0</td>\n",
       "      <td>1</td>\n",
       "    </tr>\n",
       "  </tbody>\n",
       "</table>\n",
       "</div>"
      ],
      "text/plain": [
       "   length  isIp  countAt  countDoubleSlash  countHyphen  countDots  \\\n",
       "0    39.0   0.0      0.0               1.0          0.0        2.0   \n",
       "1    31.0   0.0      0.0               1.0          0.0        2.0   \n",
       "2    34.0   0.0      0.0               1.0          0.0        2.0   \n",
       "3    37.0   0.0      0.0               1.0          0.0        2.0   \n",
       "4    33.0   0.0      0.0               1.0          0.0        2.0   \n",
       "\n",
       "   countDelimeters  countSubDirectory  countQueries  alexaGlobalRank  \\\n",
       "0              0.0                2.0           1.0             -1.0   \n",
       "1              0.0                2.0           1.0             -1.0   \n",
       "2              0.0                2.0           1.0             -1.0   \n",
       "3              0.0                2.0           1.0             -1.0   \n",
       "4              0.0                2.0           1.0             -1.0   \n",
       "\n",
       "   domainRegistrationLength  label  \n",
       "0                      -1.0      1  \n",
       "1                      -1.0      1  \n",
       "2                       0.0      1  \n",
       "3                      -1.0      1  \n",
       "4                      -1.0      1  "
      ]
     },
     "execution_count": 5,
     "metadata": {},
     "output_type": "execute_result"
    }
   ],
   "source": [
    "testset.head()"
   ]
  },
  {
   "cell_type": "code",
   "execution_count": 6,
   "metadata": {
    "collapsed": true
   },
   "outputs": [],
   "source": [
    "X = dataset.drop(['URL', 'label'], axis=1)\n",
    "y = dataset['label']"
   ]
  },
  {
   "cell_type": "code",
   "execution_count": 7,
   "metadata": {
    "collapsed": true
   },
   "outputs": [],
   "source": [
    "from sklearn.model_selection import train_test_split"
   ]
  },
  {
   "cell_type": "code",
   "execution_count": 8,
   "metadata": {
    "collapsed": true
   },
   "outputs": [],
   "source": [
    "X_train, X_eval, y_train, y_eval = train_test_split(X, y, test_size=0.2887, random_state=101)"
   ]
  },
  {
   "cell_type": "code",
   "execution_count": 9,
   "metadata": {
    "collapsed": true
   },
   "outputs": [],
   "source": [
    "X_test = testset.drop(['label'], axis=1)\n",
    "y_test = testset['label']"
   ]
  },
  {
   "cell_type": "markdown",
   "metadata": {},
   "source": [
    "# Scaled Features"
   ]
  },
  {
   "cell_type": "code",
   "execution_count": 10,
   "metadata": {
    "collapsed": true
   },
   "outputs": [],
   "source": [
    "from sklearn.preprocessing import MinMaxScaler"
   ]
  },
  {
   "cell_type": "code",
   "execution_count": 11,
   "metadata": {},
   "outputs": [
    {
     "data": {
      "text/plain": [
       "MinMaxScaler(copy=True, feature_range=(0, 1))"
      ]
     },
     "execution_count": 11,
     "metadata": {},
     "output_type": "execute_result"
    }
   ],
   "source": [
    "scaler = MinMaxScaler()\n",
    "scaler.fit(X)"
   ]
  },
  {
   "cell_type": "code",
   "execution_count": 12,
   "metadata": {
    "collapsed": true
   },
   "outputs": [],
   "source": [
    "Xs = scaler.transform(X)"
   ]
  },
  {
   "cell_type": "code",
   "execution_count": 13,
   "metadata": {
    "collapsed": true
   },
   "outputs": [],
   "source": [
    "Xs_train, Xs_eval, ys_train, ys_eval = train_test_split(Xs, y, test_size=0.2887, random_state=101)"
   ]
  },
  {
   "cell_type": "code",
   "execution_count": 14,
   "metadata": {
    "collapsed": true
   },
   "outputs": [],
   "source": [
    "Xs_test = scaler.transform(X_test)"
   ]
  },
  {
   "cell_type": "code",
   "execution_count": 15,
   "metadata": {
    "collapsed": true
   },
   "outputs": [],
   "source": [
    "ys_test = y_test"
   ]
  },
  {
   "cell_type": "markdown",
   "metadata": {},
   "source": [
    "# Machine Learning"
   ]
  },
  {
   "cell_type": "code",
   "execution_count": 16,
   "metadata": {
    "collapsed": true
   },
   "outputs": [],
   "source": [
    "from sklearn.metrics import classification_report, confusion_matrix"
   ]
  },
  {
   "cell_type": "markdown",
   "metadata": {},
   "source": [
    "### Neural Networks"
   ]
  },
  {
   "cell_type": "code",
   "execution_count": 17,
   "metadata": {
    "collapsed": true
   },
   "outputs": [],
   "source": [
    "from keras.models import Sequential\n",
    "from keras.layers import Dense\n",
    "from keras.wrappers.scikit_learn import KerasClassifier\n",
    "from sklearn.model_selection import cross_val_score"
   ]
  },
  {
   "cell_type": "code",
   "execution_count": 18,
   "metadata": {
    "collapsed": true
   },
   "outputs": [],
   "source": [
    "def neuralnet():\n",
    "    model = Sequential()\n",
    "    model.add(Dense(84, activation='relu', input_dim=11))\n",
    "    model.add(Dense(232, activation='relu'))\n",
    "    model.add(Dense(640, activation='relu'))\n",
    "    model.add(Dense(24, activation='relu'))\n",
    "    model.add(Dense(1, activation='sigmoid'))\n",
    "    model.compile(loss='binary_crossentropy', metrics=['accuracy'], optimizer='rmsprop')\n",
    "    return model"
   ]
  },
  {
   "cell_type": "code",
   "execution_count": 19,
   "metadata": {
    "collapsed": true
   },
   "outputs": [],
   "source": [
    "network = KerasClassifier(build_fn=neuralnet, batch_size=25, nb_epoch=100)"
   ]
  },
  {
   "cell_type": "code",
   "execution_count": 20,
   "metadata": {},
   "outputs": [
    {
     "name": "stdout",
     "output_type": "stream",
     "text": [
      "Epoch 1/1\n",
      "6327/6327 [==============================] - 3s 471us/step - loss: 0.4200 - acc: 0.8284\n",
      "703/703 [==============================] - 0s 203us/step\n",
      "Epoch 1/1\n",
      "6327/6327 [==============================] - 3s 469us/step - loss: 0.3975 - acc: 0.8375\n",
      "703/703 [==============================] - 0s 207us/step\n",
      "Epoch 1/1\n",
      "6327/6327 [==============================] - 3s 406us/step - loss: 0.4165 - acc: 0.8296\n",
      "703/703 [==============================] - 0s 206us/step\n",
      "Epoch 1/1\n",
      "6327/6327 [==============================] - 2s 366us/step - loss: 0.4183 - acc: 0.8318\n",
      "703/703 [==============================] - 0s 233us/step\n",
      "Epoch 1/1\n",
      "6327/6327 [==============================] - 2s 378us/step - loss: 0.4278 - acc: 0.8244\n",
      "703/703 [==============================] - 0s 252us/step\n",
      "Epoch 1/1\n",
      "6327/6327 [==============================] - 2s 382us/step - loss: 0.4063 - acc: 0.8333\n",
      "703/703 [==============================] - 0s 272us/step\n",
      "Epoch 1/1\n",
      "6327/6327 [==============================] - 2s 384us/step - loss: 0.3969 - acc: 0.8446\n",
      "703/703 [==============================] - 0s 292us/step\n",
      "Epoch 1/1\n",
      "6327/6327 [==============================] - 3s 399us/step - loss: 0.4447 - acc: 0.8091\n",
      "703/703 [==============================] - 0s 318us/step\n",
      "Epoch 1/1\n",
      "6327/6327 [==============================] - 3s 396us/step - loss: 0.4418 - acc: 0.8092\n",
      "703/703 [==============================] - 0s 328us/step\n",
      "Epoch 1/1\n",
      "6327/6327 [==============================] - 3s 411us/step - loss: 0.4124 - acc: 0.8285\n",
      "703/703 [==============================] - 0s 350us/step\n",
      "0.8479374063684795 +- (0.08083476541271979)\n"
     ]
    }
   ],
   "source": [
    "accuracies = cross_val_score(estimator=network, X=Xs, y=y, cv=10)\n",
    "print(\"{} +- ({})\".format(accuracies.mean(), accuracies.std()))"
   ]
  },
  {
   "cell_type": "code",
   "execution_count": 21,
   "metadata": {},
   "outputs": [
    {
     "name": "stderr",
     "output_type": "stream",
     "text": [
      "D:\\Users\\Ritvik\\Anaconda3\\envs\\tfdeeplearning\\lib\\site-packages\\ipykernel_launcher.py:2: UserWarning: The `nb_epoch` argument in `fit` has been renamed `epochs`.\n",
      "  \n"
     ]
    },
    {
     "name": "stdout",
     "output_type": "stream",
     "text": [
      "Epoch 1/100\n",
      "7030/7030 [==============================] - 3s 400us/step - loss: 0.4236 - acc: 0.8252\n",
      "Epoch 2/100\n",
      "7030/7030 [==============================] - 2s 290us/step - loss: 0.3634 - acc: 0.8486\n",
      "Epoch 3/100\n",
      "7030/7030 [==============================] - 2s 302us/step - loss: 0.3500 - acc: 0.8511\n",
      "Epoch 4/100\n",
      "7030/7030 [==============================] - 2s 281us/step - loss: 0.3400 - acc: 0.8590\n",
      "Epoch 5/100\n",
      "7030/7030 [==============================] - 2s 279us/step - loss: 0.3372 - acc: 0.8569\n",
      "Epoch 6/100\n",
      "7030/7030 [==============================] - 2s 281us/step - loss: 0.3329 - acc: 0.8587\n",
      "Epoch 7/100\n",
      "7030/7030 [==============================] - 2s 286us/step - loss: 0.3292 - acc: 0.8626\n",
      "Epoch 8/100\n",
      "7030/7030 [==============================] - 2s 286us/step - loss: 0.3256 - acc: 0.8642\n",
      "Epoch 9/100\n",
      "7030/7030 [==============================] - 2s 278us/step - loss: 0.3234 - acc: 0.8632\n",
      "Epoch 10/100\n",
      "7030/7030 [==============================] - 2s 277us/step - loss: 0.3233 - acc: 0.8646\n",
      "Epoch 11/100\n",
      "7030/7030 [==============================] - 2s 287us/step - loss: 0.3187 - acc: 0.8670\n",
      "Epoch 12/100\n",
      "7030/7030 [==============================] - 2s 294us/step - loss: 0.3198 - acc: 0.8649\n",
      "Epoch 13/100\n",
      "7030/7030 [==============================] - 2s 296us/step - loss: 0.3174 - acc: 0.8659\n",
      "Epoch 14/100\n",
      "7030/7030 [==============================] - 2s 296us/step - loss: 0.3184 - acc: 0.8663\n",
      "Epoch 15/100\n",
      "7030/7030 [==============================] - 2s 278us/step - loss: 0.3168 - acc: 0.8676\n",
      "Epoch 16/100\n",
      "7030/7030 [==============================] - 2s 294us/step - loss: 0.3148 - acc: 0.8674\n",
      "Epoch 17/100\n",
      "7030/7030 [==============================] - 2s 330us/step - loss: 0.3137 - acc: 0.8669\n",
      "Epoch 18/100\n",
      "7030/7030 [==============================] - 2s 286us/step - loss: 0.3108 - acc: 0.8684\n",
      "Epoch 19/100\n",
      "7030/7030 [==============================] - 2s 283us/step - loss: 0.3128 - acc: 0.8716\n",
      "Epoch 20/100\n",
      "7030/7030 [==============================] - 2s 281us/step - loss: 0.3115 - acc: 0.8700\n",
      "Epoch 21/100\n",
      "7030/7030 [==============================] - 2s 283us/step - loss: 0.3080 - acc: 0.8717\n",
      "Epoch 22/100\n",
      "7030/7030 [==============================] - 2s 286us/step - loss: 0.3064 - acc: 0.8703\n",
      "Epoch 23/100\n",
      "7030/7030 [==============================] - 2s 283us/step - loss: 0.3049 - acc: 0.8724\n",
      "Epoch 24/100\n",
      "7030/7030 [==============================] - 2s 290us/step - loss: 0.3067 - acc: 0.8710\n",
      "Epoch 25/100\n",
      "7030/7030 [==============================] - 2s 283us/step - loss: 0.3062 - acc: 0.8690\n",
      "Epoch 26/100\n",
      "7030/7030 [==============================] - 2s 291us/step - loss: 0.3064 - acc: 0.8690\n",
      "Epoch 27/100\n",
      "7030/7030 [==============================] - 2s 289us/step - loss: 0.3044 - acc: 0.8740\n",
      "Epoch 28/100\n",
      "7030/7030 [==============================] - 2s 288us/step - loss: 0.3035 - acc: 0.8708\n",
      "Epoch 29/100\n",
      "7030/7030 [==============================] - 2s 291us/step - loss: 0.3075 - acc: 0.8751\n",
      "Epoch 30/100\n",
      "7030/7030 [==============================] - 2s 294us/step - loss: 0.3033 - acc: 0.8751\n",
      "Epoch 31/100\n",
      "7030/7030 [==============================] - 2s 287us/step - loss: 0.3026 - acc: 0.8748\n",
      "Epoch 32/100\n",
      "7030/7030 [==============================] - 2s 291us/step - loss: 0.3044 - acc: 0.8751\n",
      "Epoch 33/100\n",
      "7030/7030 [==============================] - 2s 313us/step - loss: 0.3014 - acc: 0.8750\n",
      "Epoch 34/100\n",
      "7030/7030 [==============================] - 2s 299us/step - loss: 0.3008 - acc: 0.8724\n",
      "Epoch 35/100\n",
      "7030/7030 [==============================] - 2s 298us/step - loss: 0.3017 - acc: 0.8735\n",
      "Epoch 36/100\n",
      "7030/7030 [==============================] - 2s 299us/step - loss: 0.2982 - acc: 0.8740\n",
      "Epoch 37/100\n",
      "7030/7030 [==============================] - 2s 302us/step - loss: 0.2994 - acc: 0.8741\n",
      "Epoch 38/100\n",
      "7030/7030 [==============================] - 2s 304us/step - loss: 0.3019 - acc: 0.8755\n",
      "Epoch 39/100\n",
      "7030/7030 [==============================] - 2s 313us/step - loss: 0.2977 - acc: 0.8775\n",
      "Epoch 40/100\n",
      "7030/7030 [==============================] - 2s 291us/step - loss: 0.2985 - acc: 0.8754\n",
      "Epoch 41/100\n",
      "7030/7030 [==============================] - 2s 295us/step - loss: 0.2966 - acc: 0.8761\n",
      "Epoch 42/100\n",
      "7030/7030 [==============================] - 2s 300us/step - loss: 0.2951 - acc: 0.8772\n",
      "Epoch 43/100\n",
      "7030/7030 [==============================] - 2s 308us/step - loss: 0.2979 - acc: 0.8755\n",
      "Epoch 44/100\n",
      "7030/7030 [==============================] - 2s 345us/step - loss: 0.2989 - acc: 0.8751\n",
      "Epoch 45/100\n",
      "7030/7030 [==============================] - 3s 388us/step - loss: 0.2957 - acc: 0.8768\n",
      "Epoch 46/100\n",
      "7030/7030 [==============================] - 3s 392us/step - loss: 0.3011 - acc: 0.8771\n",
      "Epoch 47/100\n",
      "7030/7030 [==============================] - 2s 342us/step - loss: 0.2965 - acc: 0.8765\n",
      "Epoch 48/100\n",
      "7030/7030 [==============================] - 2s 321us/step - loss: 0.2953 - acc: 0.8754\n",
      "Epoch 49/100\n",
      "7030/7030 [==============================] - 2s 318us/step - loss: 0.2969 - acc: 0.8775\n",
      "Epoch 50/100\n",
      "7030/7030 [==============================] - 2s 323us/step - loss: 0.2977 - acc: 0.8765\n",
      "Epoch 51/100\n",
      "7030/7030 [==============================] - 2s 326us/step - loss: 0.3023 - acc: 0.8768\n",
      "Epoch 52/100\n",
      "7030/7030 [==============================] - 2s 323us/step - loss: 0.2954 - acc: 0.8785\n",
      "Epoch 53/100\n",
      "7030/7030 [==============================] - 2s 319us/step - loss: 0.2946 - acc: 0.8764\n",
      "Epoch 54/100\n",
      "7030/7030 [==============================] - 2s 316us/step - loss: 0.2993 - acc: 0.8757\n",
      "Epoch 55/100\n",
      "7030/7030 [==============================] - 2s 315us/step - loss: 0.3003 - acc: 0.8738\n",
      "Epoch 56/100\n",
      "7030/7030 [==============================] - 2s 312us/step - loss: 0.2960 - acc: 0.8771\n",
      "Epoch 57/100\n",
      "7030/7030 [==============================] - 2s 306us/step - loss: 0.2981 - acc: 0.8775\n",
      "Epoch 58/100\n",
      "7030/7030 [==============================] - 2s 323us/step - loss: 0.3009 - acc: 0.8764\n",
      "Epoch 59/100\n",
      "7030/7030 [==============================] - 2s 346us/step - loss: 0.3069 - acc: 0.8760\n",
      "Epoch 60/100\n",
      "7030/7030 [==============================] - 2s 319us/step - loss: 0.2980 - acc: 0.8752\n",
      "Epoch 61/100\n",
      "7030/7030 [==============================] - 2s 335us/step - loss: 0.2999 - acc: 0.8747\n",
      "Epoch 62/100\n",
      "7030/7030 [==============================] - 2s 314us/step - loss: 0.3002 - acc: 0.8757\n",
      "Epoch 63/100\n",
      "7030/7030 [==============================] - 2s 324us/step - loss: 0.3001 - acc: 0.8737\n",
      "Epoch 64/100\n",
      "7030/7030 [==============================] - 2s 321us/step - loss: 0.2953 - acc: 0.8728\n",
      "Epoch 65/100\n",
      "7030/7030 [==============================] - 2s 317us/step - loss: 0.2985 - acc: 0.8750\n",
      "Epoch 66/100\n",
      "7030/7030 [==============================] - 2s 321us/step - loss: 0.3067 - acc: 0.8752\n",
      "Epoch 67/100\n",
      "7030/7030 [==============================] - 2s 320us/step - loss: 0.3065 - acc: 0.8762\n",
      "Epoch 68/100\n",
      "7030/7030 [==============================] - 2s 325us/step - loss: 0.3012 - acc: 0.8733\n",
      "Epoch 69/100\n",
      "7030/7030 [==============================] - 2s 329us/step - loss: 0.3037 - acc: 0.8754\n",
      "Epoch 70/100\n",
      "7030/7030 [==============================] - 2s 316us/step - loss: 0.2975 - acc: 0.8772\n",
      "Epoch 71/100\n",
      "7030/7030 [==============================] - 2s 319us/step - loss: 0.3054 - acc: 0.8735\n",
      "Epoch 72/100\n",
      "7030/7030 [==============================] - 2s 327us/step - loss: 0.3050 - acc: 0.8743\n",
      "Epoch 73/100\n",
      "7030/7030 [==============================] - 2s 318us/step - loss: 0.3093 - acc: 0.8734\n",
      "Epoch 74/100\n",
      "7030/7030 [==============================] - 2s 354us/step - loss: 0.3068 - acc: 0.8760\n",
      "Epoch 75/100\n",
      "7030/7030 [==============================] - 3s 365us/step - loss: 0.3039 - acc: 0.8768\n",
      "Epoch 76/100\n",
      "7030/7030 [==============================] - 2s 338us/step - loss: 0.3054 - acc: 0.8771\n",
      "Epoch 77/100\n",
      "7030/7030 [==============================] - 2s 330us/step - loss: 0.3141 - acc: 0.8738\n",
      "Epoch 78/100\n",
      "7030/7030 [==============================] - 2s 338us/step - loss: 0.3075 - acc: 0.8740\n",
      "Epoch 79/100\n",
      "7030/7030 [==============================] - 2s 335us/step - loss: 0.2986 - acc: 0.8755\n",
      "Epoch 80/100\n",
      "7030/7030 [==============================] - 3s 357us/step - loss: 0.3055 - acc: 0.8755\n",
      "Epoch 81/100\n",
      "7030/7030 [==============================] - 2s 336us/step - loss: 0.3097 - acc: 0.8721\n",
      "Epoch 82/100\n"
     ]
    },
    {
     "name": "stdout",
     "output_type": "stream",
     "text": [
      "7030/7030 [==============================] - 2s 312us/step - loss: 0.3072 - acc: 0.8765\n",
      "Epoch 83/100\n",
      "7030/7030 [==============================] - 2s 284us/step - loss: 0.3086 - acc: 0.8752\n",
      "Epoch 84/100\n",
      "7030/7030 [==============================] - 2s 289us/step - loss: 0.3094 - acc: 0.8733\n",
      "Epoch 85/100\n",
      "7030/7030 [==============================] - 2s 295us/step - loss: 0.3054 - acc: 0.8750\n",
      "Epoch 86/100\n",
      "7030/7030 [==============================] - 2s 291us/step - loss: 0.3100 - acc: 0.8738\n",
      "Epoch 87/100\n",
      "7030/7030 [==============================] - 2s 291us/step - loss: 0.3174 - acc: 0.8740\n",
      "Epoch 88/100\n",
      "7030/7030 [==============================] - 2s 298us/step - loss: 0.3032 - acc: 0.8750\n",
      "Epoch 89/100\n",
      "7030/7030 [==============================] - 2s 290us/step - loss: 0.3017 - acc: 0.8758\n",
      "Epoch 90/100\n",
      "7030/7030 [==============================] - 2s 290us/step - loss: 0.3047 - acc: 0.8774\n",
      "Epoch 91/100\n",
      "7030/7030 [==============================] - 2s 293us/step - loss: 0.3044 - acc: 0.8741\n",
      "Epoch 92/100\n",
      "7030/7030 [==============================] - 2s 290us/step - loss: 0.3063 - acc: 0.8758\n",
      "Epoch 93/100\n",
      "7030/7030 [==============================] - 2s 296us/step - loss: 0.3099 - acc: 0.8740\n",
      "Epoch 94/100\n",
      "7030/7030 [==============================] - 2s 304us/step - loss: 0.3106 - acc: 0.8738\n",
      "Epoch 95/100\n",
      "7030/7030 [==============================] - ETA: 0s - loss: 0.3028 - acc: 0.874 - 2s 313us/step - loss: 0.3029 - acc: 0.8743\n",
      "Epoch 96/100\n",
      "7030/7030 [==============================] - 2s 315us/step - loss: 0.3060 - acc: 0.8764\n",
      "Epoch 97/100\n",
      "7030/7030 [==============================] - 2s 315us/step - loss: 0.3083 - acc: 0.8744\n",
      "Epoch 98/100\n",
      "7030/7030 [==============================] - 2s 311us/step - loss: 0.3015 - acc: 0.8764\n",
      "Epoch 99/100\n",
      "7030/7030 [==============================] - 2s 310us/step - loss: 0.3088 - acc: 0.8765\n",
      "Epoch 100/100\n",
      "7030/7030 [==============================] - 2s 318us/step - loss: 0.3053 - acc: 0.8747\n"
     ]
    }
   ],
   "source": [
    "network = neuralnet()\n",
    "network.fit(Xs, y, batch_size=25, nb_epoch=100)\n",
    "y_pred = network.predict(Xs_test)"
   ]
  },
  {
   "cell_type": "code",
   "execution_count": 22,
   "metadata": {
    "collapsed": true
   },
   "outputs": [],
   "source": [
    "y_p = []\n",
    "for y in y_pred:\n",
    "    y_p.append(int(y.round()))"
   ]
  },
  {
   "cell_type": "code",
   "execution_count": 23,
   "metadata": {},
   "outputs": [
    {
     "name": "stdout",
     "output_type": "stream",
     "text": [
      "[[31 18]\n",
      " [ 1 49]]\n",
      "             precision    recall  f1-score   support\n",
      "\n",
      "          0       0.97      0.63      0.77        49\n",
      "          1       0.73      0.98      0.84        50\n",
      "\n",
      "avg / total       0.85      0.81      0.80        99\n",
      "\n"
     ]
    }
   ],
   "source": [
    "print(confusion_matrix(y_test, y_p))\n",
    "print(classification_report(y_test, y_p))"
   ]
  },
  {
   "cell_type": "markdown",
   "metadata": {},
   "source": [
    "# Model Pickeling"
   ]
  },
  {
   "cell_type": "code",
   "execution_count": 24,
   "metadata": {
    "collapsed": true
   },
   "outputs": [],
   "source": [
    "network.save('Kerasv1.1.h5')"
   ]
  },
  {
   "cell_type": "code",
   "execution_count": 25,
   "metadata": {},
   "outputs": [
    {
     "name": "stdout",
     "output_type": "stream",
     "text": [
      "_________________________________________________________________\n",
      "Layer (type)                 Output Shape              Param #   \n",
      "=================================================================\n",
      "dense_51 (Dense)             (None, 84)                1008      \n",
      "_________________________________________________________________\n",
      "dense_52 (Dense)             (None, 232)               19720     \n",
      "_________________________________________________________________\n",
      "dense_53 (Dense)             (None, 640)               149120    \n",
      "_________________________________________________________________\n",
      "dense_54 (Dense)             (None, 24)                15384     \n",
      "_________________________________________________________________\n",
      "dense_55 (Dense)             (None, 1)                 25        \n",
      "=================================================================\n",
      "Total params: 185,257\n",
      "Trainable params: 185,257\n",
      "Non-trainable params: 0\n",
      "_________________________________________________________________\n"
     ]
    }
   ],
   "source": [
    "new_model = keras.models.load_model('Kerasv1.1.h5')\n",
    "new_model.summary()"
   ]
  },
  {
   "cell_type": "code",
   "execution_count": null,
   "metadata": {
    "collapsed": true
   },
   "outputs": [],
   "source": []
  }
 ],
 "metadata": {
  "kernelspec": {
   "display_name": "Python 3",
   "language": "python",
   "name": "python3"
  },
  "language_info": {
   "codemirror_mode": {
    "name": "ipython",
    "version": 3
   },
   "file_extension": ".py",
   "mimetype": "text/x-python",
   "name": "python",
   "nbconvert_exporter": "python",
   "pygments_lexer": "ipython3",
   "version": "3.5.4"
  }
 },
 "nbformat": 4,
 "nbformat_minor": 2
}

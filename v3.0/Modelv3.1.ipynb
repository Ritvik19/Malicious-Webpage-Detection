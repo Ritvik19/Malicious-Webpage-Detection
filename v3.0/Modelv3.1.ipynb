{
 "cells": [
  {
   "cell_type": "markdown",
   "metadata": {},
   "source": [
    "# Libraries"
   ]
  },
  {
   "cell_type": "code",
   "execution_count": 1,
   "metadata": {},
   "outputs": [
    {
     "name": "stderr",
     "output_type": "stream",
     "text": [
      "Using TensorFlow backend.\n"
     ]
    }
   ],
   "source": [
    "import numpy as np\n",
    "import pandas as pd\n",
    "import tensorflow as tf\n",
    "import keras"
   ]
  },
  {
   "cell_type": "markdown",
   "metadata": {},
   "source": [
    "# Data"
   ]
  },
  {
   "cell_type": "code",
   "execution_count": 2,
   "metadata": {
    "collapsed": true
   },
   "outputs": [],
   "source": [
    "dataset = pd.read_csv('featureset.csv')"
   ]
  },
  {
   "cell_type": "code",
   "execution_count": 3,
   "metadata": {
    "collapsed": true
   },
   "outputs": [],
   "source": [
    "testset = pd.read_csv('testset.csv')"
   ]
  },
  {
   "cell_type": "code",
   "execution_count": 4,
   "metadata": {},
   "outputs": [
    {
     "data": {
      "text/html": [
       "<div>\n",
       "<style scoped>\n",
       "    .dataframe tbody tr th:only-of-type {\n",
       "        vertical-align: middle;\n",
       "    }\n",
       "\n",
       "    .dataframe tbody tr th {\n",
       "        vertical-align: top;\n",
       "    }\n",
       "\n",
       "    .dataframe thead th {\n",
       "        text-align: right;\n",
       "    }\n",
       "</style>\n",
       "<table border=\"1\" class=\"dataframe\">\n",
       "  <thead>\n",
       "    <tr style=\"text-align: right;\">\n",
       "      <th></th>\n",
       "      <th>URL</th>\n",
       "      <th>length</th>\n",
       "      <th>isIp</th>\n",
       "      <th>countAt</th>\n",
       "      <th>countDoubleSlash</th>\n",
       "      <th>countHyphen</th>\n",
       "      <th>countDots</th>\n",
       "      <th>countDelimeters</th>\n",
       "      <th>countSubDirectory</th>\n",
       "      <th>countQueries</th>\n",
       "      <th>domainRegistrationLength</th>\n",
       "      <th>alexaGlobalRank</th>\n",
       "      <th>bounceRate</th>\n",
       "      <th>dailyPageViewsPerVisitor</th>\n",
       "      <th>dailyTimeOnSite</th>\n",
       "      <th>searchVisits</th>\n",
       "      <th>totalSitesLinkingIn</th>\n",
       "      <th>label</th>\n",
       "    </tr>\n",
       "  </thead>\n",
       "  <tbody>\n",
       "    <tr>\n",
       "      <th>0</th>\n",
       "      <td>https://nih.gov</td>\n",
       "      <td>15</td>\n",
       "      <td>0</td>\n",
       "      <td>0</td>\n",
       "      <td>1</td>\n",
       "      <td>0</td>\n",
       "      <td>1</td>\n",
       "      <td>0</td>\n",
       "      <td>2</td>\n",
       "      <td>1</td>\n",
       "      <td>-1</td>\n",
       "      <td>0.007874</td>\n",
       "      <td>57.4</td>\n",
       "      <td>3.23</td>\n",
       "      <td>236</td>\n",
       "      <td>57.3</td>\n",
       "      <td>155696.0</td>\n",
       "      <td>0</td>\n",
       "    </tr>\n",
       "    <tr>\n",
       "      <th>1</th>\n",
       "      <td>http://www.perfumemart.com/</td>\n",
       "      <td>27</td>\n",
       "      <td>0</td>\n",
       "      <td>0</td>\n",
       "      <td>1</td>\n",
       "      <td>0</td>\n",
       "      <td>2</td>\n",
       "      <td>0</td>\n",
       "      <td>3</td>\n",
       "      <td>1</td>\n",
       "      <td>-1</td>\n",
       "      <td>-1.000000</td>\n",
       "      <td>-1.0</td>\n",
       "      <td>-1.00</td>\n",
       "      <td>-1</td>\n",
       "      <td>-1.0</td>\n",
       "      <td>-1.0</td>\n",
       "      <td>0</td>\n",
       "    </tr>\n",
       "    <tr>\n",
       "      <th>2</th>\n",
       "      <td>http://chronopost-service-enligne.net/56123s/r...</td>\n",
       "      <td>116</td>\n",
       "      <td>0</td>\n",
       "      <td>0</td>\n",
       "      <td>1</td>\n",
       "      <td>2</td>\n",
       "      <td>1</td>\n",
       "      <td>0</td>\n",
       "      <td>8</td>\n",
       "      <td>1</td>\n",
       "      <td>-1</td>\n",
       "      <td>-1.000000</td>\n",
       "      <td>-1.0</td>\n",
       "      <td>-1.00</td>\n",
       "      <td>-1</td>\n",
       "      <td>-1.0</td>\n",
       "      <td>-1.0</td>\n",
       "      <td>1</td>\n",
       "    </tr>\n",
       "    <tr>\n",
       "      <th>3</th>\n",
       "      <td>http://wvw.micloudappel.security-updates-myacc...</td>\n",
       "      <td>75</td>\n",
       "      <td>0</td>\n",
       "      <td>0</td>\n",
       "      <td>1</td>\n",
       "      <td>2</td>\n",
       "      <td>3</td>\n",
       "      <td>0</td>\n",
       "      <td>5</td>\n",
       "      <td>1</td>\n",
       "      <td>-1</td>\n",
       "      <td>-1.000000</td>\n",
       "      <td>-1.0</td>\n",
       "      <td>-1.00</td>\n",
       "      <td>-1</td>\n",
       "      <td>-1.0</td>\n",
       "      <td>-1.0</td>\n",
       "      <td>1</td>\n",
       "    </tr>\n",
       "    <tr>\n",
       "      <th>4</th>\n",
       "      <td>http://colach8x.beget.tech/likon/mqnger/drwx/P...</td>\n",
       "      <td>139</td>\n",
       "      <td>0</td>\n",
       "      <td>0</td>\n",
       "      <td>1</td>\n",
       "      <td>0</td>\n",
       "      <td>3</td>\n",
       "      <td>3</td>\n",
       "      <td>11</td>\n",
       "      <td>1</td>\n",
       "      <td>4</td>\n",
       "      <td>-1.000000</td>\n",
       "      <td>-1.0</td>\n",
       "      <td>-1.00</td>\n",
       "      <td>-1</td>\n",
       "      <td>-1.0</td>\n",
       "      <td>-1.0</td>\n",
       "      <td>1</td>\n",
       "    </tr>\n",
       "  </tbody>\n",
       "</table>\n",
       "</div>"
      ],
      "text/plain": [
       "                                                 URL  length  isIp  countAt  \\\n",
       "0                                    https://nih.gov      15     0        0   \n",
       "1                        http://www.perfumemart.com/      27     0        0   \n",
       "2  http://chronopost-service-enligne.net/56123s/r...     116     0        0   \n",
       "3  http://wvw.micloudappel.security-updates-myacc...      75     0        0   \n",
       "4  http://colach8x.beget.tech/likon/mqnger/drwx/P...     139     0        0   \n",
       "\n",
       "   countDoubleSlash  countHyphen  countDots  countDelimeters  \\\n",
       "0                 1            0          1                0   \n",
       "1                 1            0          2                0   \n",
       "2                 1            2          1                0   \n",
       "3                 1            2          3                0   \n",
       "4                 1            0          3                3   \n",
       "\n",
       "   countSubDirectory  countQueries  domainRegistrationLength  alexaGlobalRank  \\\n",
       "0                  2             1                        -1         0.007874   \n",
       "1                  3             1                        -1        -1.000000   \n",
       "2                  8             1                        -1        -1.000000   \n",
       "3                  5             1                        -1        -1.000000   \n",
       "4                 11             1                         4        -1.000000   \n",
       "\n",
       "   bounceRate  dailyPageViewsPerVisitor  dailyTimeOnSite  searchVisits  \\\n",
       "0        57.4                      3.23              236          57.3   \n",
       "1        -1.0                     -1.00               -1          -1.0   \n",
       "2        -1.0                     -1.00               -1          -1.0   \n",
       "3        -1.0                     -1.00               -1          -1.0   \n",
       "4        -1.0                     -1.00               -1          -1.0   \n",
       "\n",
       "   totalSitesLinkingIn  label  \n",
       "0             155696.0      0  \n",
       "1                 -1.0      0  \n",
       "2                 -1.0      1  \n",
       "3                 -1.0      1  \n",
       "4                 -1.0      1  "
      ]
     },
     "execution_count": 4,
     "metadata": {},
     "output_type": "execute_result"
    }
   ],
   "source": [
    "dataset.head()"
   ]
  },
  {
   "cell_type": "code",
   "execution_count": 5,
   "metadata": {},
   "outputs": [
    {
     "data": {
      "text/html": [
       "<div>\n",
       "<style scoped>\n",
       "    .dataframe tbody tr th:only-of-type {\n",
       "        vertical-align: middle;\n",
       "    }\n",
       "\n",
       "    .dataframe tbody tr th {\n",
       "        vertical-align: top;\n",
       "    }\n",
       "\n",
       "    .dataframe thead th {\n",
       "        text-align: right;\n",
       "    }\n",
       "</style>\n",
       "<table border=\"1\" class=\"dataframe\">\n",
       "  <thead>\n",
       "    <tr style=\"text-align: right;\">\n",
       "      <th></th>\n",
       "      <th>length</th>\n",
       "      <th>isIp</th>\n",
       "      <th>countAt</th>\n",
       "      <th>countDoubleSlash</th>\n",
       "      <th>countHyphen</th>\n",
       "      <th>countDots</th>\n",
       "      <th>countDelimeters</th>\n",
       "      <th>countSubDirectory</th>\n",
       "      <th>countQueries</th>\n",
       "      <th>domainRegistrationLength</th>\n",
       "      <th>alexaGlobalRank</th>\n",
       "      <th>bounceRate</th>\n",
       "      <th>dailyPageViewsPerVisitor</th>\n",
       "      <th>dailyTimeOnSite</th>\n",
       "      <th>searchVisits</th>\n",
       "      <th>totalSitesLinkingIn</th>\n",
       "      <th>label</th>\n",
       "    </tr>\n",
       "  </thead>\n",
       "  <tbody>\n",
       "    <tr>\n",
       "      <th>0</th>\n",
       "      <td>39.0</td>\n",
       "      <td>0.0</td>\n",
       "      <td>0.0</td>\n",
       "      <td>1.0</td>\n",
       "      <td>0.0</td>\n",
       "      <td>2.0</td>\n",
       "      <td>0.0</td>\n",
       "      <td>2.0</td>\n",
       "      <td>1.0</td>\n",
       "      <td>0.0</td>\n",
       "      <td>-1.0</td>\n",
       "      <td>-1.0</td>\n",
       "      <td>-1.0</td>\n",
       "      <td>-1.0</td>\n",
       "      <td>-1.0</td>\n",
       "      <td>-1.0</td>\n",
       "      <td>1</td>\n",
       "    </tr>\n",
       "    <tr>\n",
       "      <th>1</th>\n",
       "      <td>31.0</td>\n",
       "      <td>0.0</td>\n",
       "      <td>0.0</td>\n",
       "      <td>1.0</td>\n",
       "      <td>0.0</td>\n",
       "      <td>2.0</td>\n",
       "      <td>0.0</td>\n",
       "      <td>2.0</td>\n",
       "      <td>1.0</td>\n",
       "      <td>-1.0</td>\n",
       "      <td>-1.0</td>\n",
       "      <td>-1.0</td>\n",
       "      <td>-1.0</td>\n",
       "      <td>-1.0</td>\n",
       "      <td>-1.0</td>\n",
       "      <td>-1.0</td>\n",
       "      <td>1</td>\n",
       "    </tr>\n",
       "    <tr>\n",
       "      <th>2</th>\n",
       "      <td>34.0</td>\n",
       "      <td>0.0</td>\n",
       "      <td>0.0</td>\n",
       "      <td>1.0</td>\n",
       "      <td>0.0</td>\n",
       "      <td>2.0</td>\n",
       "      <td>0.0</td>\n",
       "      <td>2.0</td>\n",
       "      <td>1.0</td>\n",
       "      <td>-1.0</td>\n",
       "      <td>-1.0</td>\n",
       "      <td>-1.0</td>\n",
       "      <td>-1.0</td>\n",
       "      <td>-1.0</td>\n",
       "      <td>-1.0</td>\n",
       "      <td>-1.0</td>\n",
       "      <td>1</td>\n",
       "    </tr>\n",
       "    <tr>\n",
       "      <th>3</th>\n",
       "      <td>37.0</td>\n",
       "      <td>0.0</td>\n",
       "      <td>0.0</td>\n",
       "      <td>1.0</td>\n",
       "      <td>0.0</td>\n",
       "      <td>2.0</td>\n",
       "      <td>0.0</td>\n",
       "      <td>2.0</td>\n",
       "      <td>1.0</td>\n",
       "      <td>-1.0</td>\n",
       "      <td>-1.0</td>\n",
       "      <td>-1.0</td>\n",
       "      <td>-1.0</td>\n",
       "      <td>-1.0</td>\n",
       "      <td>-1.0</td>\n",
       "      <td>-1.0</td>\n",
       "      <td>1</td>\n",
       "    </tr>\n",
       "    <tr>\n",
       "      <th>4</th>\n",
       "      <td>33.0</td>\n",
       "      <td>0.0</td>\n",
       "      <td>0.0</td>\n",
       "      <td>1.0</td>\n",
       "      <td>0.0</td>\n",
       "      <td>2.0</td>\n",
       "      <td>0.0</td>\n",
       "      <td>2.0</td>\n",
       "      <td>1.0</td>\n",
       "      <td>-1.0</td>\n",
       "      <td>-1.0</td>\n",
       "      <td>-1.0</td>\n",
       "      <td>-1.0</td>\n",
       "      <td>-1.0</td>\n",
       "      <td>-1.0</td>\n",
       "      <td>-1.0</td>\n",
       "      <td>1</td>\n",
       "    </tr>\n",
       "  </tbody>\n",
       "</table>\n",
       "</div>"
      ],
      "text/plain": [
       "   length  isIp  countAt  countDoubleSlash  countHyphen  countDots  \\\n",
       "0    39.0   0.0      0.0               1.0          0.0        2.0   \n",
       "1    31.0   0.0      0.0               1.0          0.0        2.0   \n",
       "2    34.0   0.0      0.0               1.0          0.0        2.0   \n",
       "3    37.0   0.0      0.0               1.0          0.0        2.0   \n",
       "4    33.0   0.0      0.0               1.0          0.0        2.0   \n",
       "\n",
       "   countDelimeters  countSubDirectory  countQueries  domainRegistrationLength  \\\n",
       "0              0.0                2.0           1.0                       0.0   \n",
       "1              0.0                2.0           1.0                      -1.0   \n",
       "2              0.0                2.0           1.0                      -1.0   \n",
       "3              0.0                2.0           1.0                      -1.0   \n",
       "4              0.0                2.0           1.0                      -1.0   \n",
       "\n",
       "   alexaGlobalRank  bounceRate  dailyPageViewsPerVisitor  dailyTimeOnSite  \\\n",
       "0             -1.0        -1.0                      -1.0             -1.0   \n",
       "1             -1.0        -1.0                      -1.0             -1.0   \n",
       "2             -1.0        -1.0                      -1.0             -1.0   \n",
       "3             -1.0        -1.0                      -1.0             -1.0   \n",
       "4             -1.0        -1.0                      -1.0             -1.0   \n",
       "\n",
       "   searchVisits  totalSitesLinkingIn  label  \n",
       "0          -1.0                 -1.0      1  \n",
       "1          -1.0                 -1.0      1  \n",
       "2          -1.0                 -1.0      1  \n",
       "3          -1.0                 -1.0      1  \n",
       "4          -1.0                 -1.0      1  "
      ]
     },
     "execution_count": 5,
     "metadata": {},
     "output_type": "execute_result"
    }
   ],
   "source": [
    "testset.head()"
   ]
  },
  {
   "cell_type": "code",
   "execution_count": 6,
   "metadata": {
    "collapsed": true
   },
   "outputs": [],
   "source": [
    "X = dataset.drop(['URL', 'label'], axis=1)\n",
    "y = dataset['label']"
   ]
  },
  {
   "cell_type": "code",
   "execution_count": 7,
   "metadata": {
    "collapsed": true
   },
   "outputs": [],
   "source": [
    "from sklearn.model_selection import train_test_split"
   ]
  },
  {
   "cell_type": "code",
   "execution_count": 8,
   "metadata": {
    "collapsed": true
   },
   "outputs": [],
   "source": [
    "X_train, X_eval, y_train, y_eval = train_test_split(X, y, test_size=0.2887, random_state=101)"
   ]
  },
  {
   "cell_type": "code",
   "execution_count": 9,
   "metadata": {
    "collapsed": true
   },
   "outputs": [],
   "source": [
    "X_test = testset.drop(['label'], axis=1)\n",
    "y_test = testset['label']"
   ]
  },
  {
   "cell_type": "markdown",
   "metadata": {},
   "source": [
    "# Scaled Features"
   ]
  },
  {
   "cell_type": "code",
   "execution_count": 10,
   "metadata": {
    "collapsed": true
   },
   "outputs": [],
   "source": [
    "from sklearn.preprocessing import MinMaxScaler"
   ]
  },
  {
   "cell_type": "code",
   "execution_count": 11,
   "metadata": {},
   "outputs": [
    {
     "data": {
      "text/plain": [
       "MinMaxScaler(copy=True, feature_range=(0, 1))"
      ]
     },
     "execution_count": 11,
     "metadata": {},
     "output_type": "execute_result"
    }
   ],
   "source": [
    "scaler = MinMaxScaler()\n",
    "scaler.fit(X)"
   ]
  },
  {
   "cell_type": "code",
   "execution_count": 12,
   "metadata": {
    "collapsed": true
   },
   "outputs": [],
   "source": [
    "Xs = scaler.transform(X)"
   ]
  },
  {
   "cell_type": "code",
   "execution_count": 13,
   "metadata": {
    "collapsed": true
   },
   "outputs": [],
   "source": [
    "Xs_train, Xs_eval, ys_train, ys_eval = train_test_split(Xs, y, test_size=0.2887, random_state=101)"
   ]
  },
  {
   "cell_type": "code",
   "execution_count": 14,
   "metadata": {
    "collapsed": true
   },
   "outputs": [],
   "source": [
    "Xs_test = scaler.transform(X_test)"
   ]
  },
  {
   "cell_type": "code",
   "execution_count": 15,
   "metadata": {
    "collapsed": true
   },
   "outputs": [],
   "source": [
    "ys_test = y_test"
   ]
  },
  {
   "cell_type": "markdown",
   "metadata": {},
   "source": [
    "# Machine Learning"
   ]
  },
  {
   "cell_type": "code",
   "execution_count": 16,
   "metadata": {
    "collapsed": true
   },
   "outputs": [],
   "source": [
    "from sklearn.metrics import classification_report, confusion_matrix"
   ]
  },
  {
   "cell_type": "markdown",
   "metadata": {},
   "source": [
    "### Neural Networks"
   ]
  },
  {
   "cell_type": "code",
   "execution_count": 17,
   "metadata": {
    "collapsed": true
   },
   "outputs": [],
   "source": [
    "from keras.models import Sequential\n",
    "from keras.layers import Dense\n",
    "from keras.wrappers.scikit_learn import KerasClassifier\n",
    "from sklearn.model_selection import cross_val_score"
   ]
  },
  {
   "cell_type": "code",
   "execution_count": 18,
   "metadata": {
    "collapsed": true
   },
   "outputs": [],
   "source": [
    "def neuralnet():\n",
    "    model = Sequential()\n",
    "    model.add(Dense(90, activation='relu', input_dim=16))\n",
    "    model.add(Dense(212, activation='relu'))\n",
    "    model.add(Dense(500, activation='relu'))\n",
    "    model.add(Dense(106, activation='relu'))\n",
    "    model.add(Dense(22, activation='relu'))\n",
    "    model.add(Dense(1, activation='sigmoid'))\n",
    "    model.compile(loss='binary_crossentropy', metrics=['accuracy'], optimizer='rmsprop')\n",
    "    return model"
   ]
  },
  {
   "cell_type": "code",
   "execution_count": 19,
   "metadata": {
    "collapsed": true
   },
   "outputs": [],
   "source": [
    "network = KerasClassifier(build_fn=neuralnet, batch_size=25, nb_epoch=100)"
   ]
  },
  {
   "cell_type": "code",
   "execution_count": 20,
   "metadata": {},
   "outputs": [
    {
     "name": "stdout",
     "output_type": "stream",
     "text": [
      "Epoch 1/1\n",
      "7200/7200 [==============================] - 5s 693us/step - loss: 0.3053 - acc: 0.8831\n",
      "800/800 [==============================] - 0s 319us/step\n",
      "Epoch 1/1\n",
      "7200/7200 [==============================] - 5s 679us/step - loss: 0.2998 - acc: 0.8828\n",
      "800/800 [==============================] - 0s 291us/step\n",
      "Epoch 1/1\n",
      "7200/7200 [==============================] - 4s 492us/step - loss: 0.3030 - acc: 0.8799\n",
      "800/800 [==============================] - 0s 287us/step\n",
      "Epoch 1/1\n",
      "7200/7200 [==============================] - 4s 507us/step - loss: 0.3012 - acc: 0.8807\n",
      "800/800 [==============================] - 0s 323us/step\n",
      "Epoch 1/1\n",
      "7200/7200 [==============================] - 4s 509us/step - loss: 0.3011 - acc: 0.8839\n",
      "800/800 [==============================] - 0s 340us/step\n",
      "Epoch 1/1\n",
      "7200/7200 [==============================] - 4s 520us/step - loss: 0.3052 - acc: 0.8792\n",
      "800/800 [==============================] - 0s 390us/step\n",
      "Epoch 1/1\n",
      "7200/7200 [==============================] - 4s 531us/step - loss: 0.3019 - acc: 0.8812\n",
      "800/800 [==============================] - 0s 410us/step\n",
      "Epoch 1/1\n",
      "7200/7200 [==============================] - 4s 537us/step - loss: 0.3048 - acc: 0.8814\n",
      "800/800 [==============================] - 0s 453us/step\n",
      "Epoch 1/1\n",
      "7200/7200 [==============================] - 4s 533us/step - loss: 0.3052 - acc: 0.8810\n",
      "800/800 [==============================] - 0s 450us/step\n",
      "Epoch 1/1\n",
      "7200/7200 [==============================] - 4s 554us/step - loss: 0.3074 - acc: 0.8797\n",
      "800/800 [==============================] - 0s 491us/step\n",
      "0.8986249955371022 +- (0.00946127003147251)\n"
     ]
    }
   ],
   "source": [
    "accuracies = cross_val_score(estimator=network, X=Xs, y=y, cv=10)\n",
    "print(\"{} +- ({})\".format(accuracies.mean(), accuracies.std()))"
   ]
  },
  {
   "cell_type": "code",
   "execution_count": 21,
   "metadata": {},
   "outputs": [
    {
     "name": "stderr",
     "output_type": "stream",
     "text": [
      "D:\\Users\\Ritvik\\Anaconda3\\envs\\tfdeeplearning\\lib\\site-packages\\ipykernel_launcher.py:2: UserWarning: The `nb_epoch` argument in `fit` has been renamed `epochs`.\n",
      "  \n"
     ]
    },
    {
     "name": "stdout",
     "output_type": "stream",
     "text": [
      "Epoch 1/100\n",
      "8000/8000 [==============================] - 4s 531us/step - loss: 0.2987 - acc: 0.8837\n",
      "Epoch 2/100\n",
      "8000/8000 [==============================] - 3s 358us/step - loss: 0.2614 - acc: 0.9017\n",
      "Epoch 3/100\n",
      "8000/8000 [==============================] - 3s 362us/step - loss: 0.2466 - acc: 0.9080\n",
      "Epoch 4/100\n",
      "8000/8000 [==============================] - 3s 359us/step - loss: 0.2399 - acc: 0.9070\n",
      "Epoch 5/100\n",
      "8000/8000 [==============================] - 3s 408us/step - loss: 0.2368 - acc: 0.9084\n",
      "Epoch 6/100\n",
      "8000/8000 [==============================] - 3s 366us/step - loss: 0.2347 - acc: 0.9097\n",
      "Epoch 7/100\n",
      "8000/8000 [==============================] - 3s 370us/step - loss: 0.2325 - acc: 0.9119\n",
      "Epoch 8/100\n",
      "8000/8000 [==============================] - 3s 357us/step - loss: 0.2316 - acc: 0.9105\n",
      "Epoch 9/100\n",
      "8000/8000 [==============================] - 3s 364us/step - loss: 0.2286 - acc: 0.9115\n",
      "Epoch 10/100\n",
      "8000/8000 [==============================] - 3s 368us/step - loss: 0.2254 - acc: 0.9139\n",
      "Epoch 11/100\n",
      "8000/8000 [==============================] - 3s 366us/step - loss: 0.2255 - acc: 0.9112\n",
      "Epoch 12/100\n",
      "8000/8000 [==============================] - 3s 367us/step - loss: 0.2258 - acc: 0.9105\n",
      "Epoch 13/100\n",
      "8000/8000 [==============================] - 3s 357us/step - loss: 0.2242 - acc: 0.9117\n",
      "Epoch 14/100\n",
      "8000/8000 [==============================] - 3s 363us/step - loss: 0.2245 - acc: 0.9116\n",
      "Epoch 15/100\n",
      "8000/8000 [==============================] - 3s 359us/step - loss: 0.2229 - acc: 0.9131\n",
      "Epoch 16/100\n",
      "8000/8000 [==============================] - 3s 361us/step - loss: 0.2215 - acc: 0.9140\n",
      "Epoch 17/100\n",
      "8000/8000 [==============================] - 3s 363us/step - loss: 0.2187 - acc: 0.9136\n",
      "Epoch 18/100\n",
      "8000/8000 [==============================] - 3s 363us/step - loss: 0.2195 - acc: 0.9131\n",
      "Epoch 19/100\n",
      "8000/8000 [==============================] - 3s 367us/step - loss: 0.2193 - acc: 0.9127\n",
      "Epoch 20/100\n",
      "8000/8000 [==============================] - 3s 360us/step - loss: 0.2183 - acc: 0.9155\n",
      "Epoch 21/100\n",
      "8000/8000 [==============================] - 3s 357us/step - loss: 0.2178 - acc: 0.9157\n",
      "Epoch 22/100\n",
      "8000/8000 [==============================] - 3s 368us/step - loss: 0.2207 - acc: 0.9145\n",
      "Epoch 23/100\n",
      "8000/8000 [==============================] - 3s 355us/step - loss: 0.2162 - acc: 0.9149\n",
      "Epoch 24/100\n",
      "8000/8000 [==============================] - 3s 358us/step - loss: 0.2221 - acc: 0.9147\n",
      "Epoch 25/100\n",
      "8000/8000 [==============================] - 3s 358us/step - loss: 0.2161 - acc: 0.9144\n",
      "Epoch 26/100\n",
      "8000/8000 [==============================] - 3s 367us/step - loss: 0.2184 - acc: 0.9191\n",
      "Epoch 27/100\n",
      "8000/8000 [==============================] - 3s 360us/step - loss: 0.2171 - acc: 0.9149\n",
      "Epoch 28/100\n",
      "8000/8000 [==============================] - 3s 358us/step - loss: 0.2162 - acc: 0.9167\n",
      "Epoch 29/100\n",
      "8000/8000 [==============================] - 3s 361us/step - loss: 0.2157 - acc: 0.9167\n",
      "Epoch 30/100\n",
      "8000/8000 [==============================] - 3s 360us/step - loss: 0.2214 - acc: 0.9157\n",
      "Epoch 31/100\n",
      "8000/8000 [==============================] - 3s 381us/step - loss: 0.2161 - acc: 0.9171\n",
      "Epoch 32/100\n",
      "8000/8000 [==============================] - 3s 357us/step - loss: 0.2160 - acc: 0.9134\n",
      "Epoch 33/100\n",
      "8000/8000 [==============================] - 3s 364us/step - loss: 0.2171 - acc: 0.9160\n",
      "Epoch 34/100\n",
      "8000/8000 [==============================] - 3s 356us/step - loss: 0.2108 - acc: 0.9157\n",
      "Epoch 35/100\n",
      "8000/8000 [==============================] - 3s 361us/step - loss: 0.2142 - acc: 0.9172\n",
      "Epoch 36/100\n",
      "8000/8000 [==============================] - 3s 357us/step - loss: 0.2197 - acc: 0.9170\n",
      "Epoch 37/100\n",
      "8000/8000 [==============================] - 3s 353us/step - loss: 0.2145 - acc: 0.9172\n",
      "Epoch 38/100\n",
      "8000/8000 [==============================] - 3s 366us/step - loss: 0.2200 - acc: 0.9151\n",
      "Epoch 39/100\n",
      "8000/8000 [==============================] - 3s 357us/step - loss: 0.2285 - acc: 0.9157\n",
      "Epoch 40/100\n",
      "8000/8000 [==============================] - 3s 369us/step - loss: 0.2144 - acc: 0.9169\n",
      "Epoch 41/100\n",
      "8000/8000 [==============================] - 3s 364us/step - loss: 0.2200 - acc: 0.9159\n",
      "Epoch 42/100\n",
      "8000/8000 [==============================] - 3s 359us/step - loss: 0.2218 - acc: 0.9174\n",
      "Epoch 43/100\n",
      "8000/8000 [==============================] - 3s 350us/step - loss: 0.2163 - acc: 0.9180\n",
      "Epoch 44/100\n",
      "8000/8000 [==============================] - 3s 367us/step - loss: 0.2196 - acc: 0.9176\n",
      "Epoch 45/100\n",
      "8000/8000 [==============================] - 3s 359us/step - loss: 0.2148 - acc: 0.9157\n",
      "Epoch 46/100\n",
      "8000/8000 [==============================] - 3s 364us/step - loss: 0.2167 - acc: 0.9189\n",
      "Epoch 47/100\n",
      "8000/8000 [==============================] - 3s 359us/step - loss: 0.2170 - acc: 0.9185\n",
      "Epoch 48/100\n",
      "8000/8000 [==============================] - 3s 389us/step - loss: 0.2271 - acc: 0.9179\n",
      "Epoch 49/100\n",
      "8000/8000 [==============================] - 3s 353us/step - loss: 0.2355 - acc: 0.9174\n",
      "Epoch 50/100\n",
      "8000/8000 [==============================] - 3s 355us/step - loss: 0.2301 - acc: 0.9141\n",
      "Epoch 51/100\n",
      "8000/8000 [==============================] - 3s 352us/step - loss: 0.2329 - acc: 0.9180\n",
      "Epoch 52/100\n",
      "8000/8000 [==============================] - 3s 349us/step - loss: 0.2320 - acc: 0.9170\n",
      "Epoch 53/100\n",
      "8000/8000 [==============================] - 3s 351us/step - loss: 0.2423 - acc: 0.9170\n",
      "Epoch 54/100\n",
      "8000/8000 [==============================] - 3s 365us/step - loss: 0.2266 - acc: 0.9161\n",
      "Epoch 55/100\n",
      "8000/8000 [==============================] - 3s 359us/step - loss: 0.2337 - acc: 0.9170\n",
      "Epoch 56/100\n",
      "8000/8000 [==============================] - 3s 402us/step - loss: 0.2357 - acc: 0.9177\n",
      "Epoch 57/100\n",
      "8000/8000 [==============================] - 3s 382us/step - loss: 0.2301 - acc: 0.9160\n",
      "Epoch 58/100\n",
      "8000/8000 [==============================] - 3s 342us/step - loss: 0.2346 - acc: 0.9170\n",
      "Epoch 59/100\n",
      "8000/8000 [==============================] - 3s 363us/step - loss: 0.2382 - acc: 0.9160\n",
      "Epoch 60/100\n",
      "8000/8000 [==============================] - 3s 356us/step - loss: 0.2482 - acc: 0.9164\n",
      "Epoch 61/100\n",
      "8000/8000 [==============================] - 3s 357us/step - loss: 0.2567 - acc: 0.9167\n",
      "Epoch 62/100\n",
      "8000/8000 [==============================] - 3s 359us/step - loss: 0.2795 - acc: 0.9145\n",
      "Epoch 63/100\n",
      "8000/8000 [==============================] - 3s 349us/step - loss: 0.2414 - acc: 0.9157\n",
      "Epoch 64/100\n",
      "8000/8000 [==============================] - 3s 375us/step - loss: 0.2470 - acc: 0.9156\n",
      "Epoch 65/100\n",
      "8000/8000 [==============================] - 3s 368us/step - loss: 0.2550 - acc: 0.9152\n",
      "Epoch 66/100\n",
      "8000/8000 [==============================] - 3s 353us/step - loss: 0.2474 - acc: 0.9156\n",
      "Epoch 67/100\n",
      "8000/8000 [==============================] - 3s 349us/step - loss: 0.2361 - acc: 0.9167\n",
      "Epoch 68/100\n",
      "8000/8000 [==============================] - 3s 361us/step - loss: 0.2366 - acc: 0.9186\n",
      "Epoch 69/100\n",
      "8000/8000 [==============================] - 3s 358us/step - loss: 0.2546 - acc: 0.9171\n",
      "Epoch 70/100\n",
      "8000/8000 [==============================] - 4s 519us/step - loss: 0.2502 - acc: 0.9167\n",
      "Epoch 71/100\n",
      "8000/8000 [==============================] - 3s 420us/step - loss: 0.2439 - acc: 0.9154\n",
      "Epoch 72/100\n",
      "8000/8000 [==============================] - 4s 453us/step - loss: 0.2326 - acc: 0.9184\n",
      "Epoch 73/100\n",
      "8000/8000 [==============================] - 3s 356us/step - loss: 0.2355 - acc: 0.9185\n",
      "Epoch 74/100\n",
      "8000/8000 [==============================] - 3s 358us/step - loss: 0.2436 - acc: 0.9190\n",
      "Epoch 75/100\n",
      "8000/8000 [==============================] - 3s 357us/step - loss: 0.2590 - acc: 0.9149\n",
      "Epoch 76/100\n",
      "8000/8000 [==============================] - 4s 520us/step - loss: 0.2317 - acc: 0.9194\n",
      "Epoch 77/100\n",
      "8000/8000 [==============================] - 3s 375us/step - loss: 0.2503 - acc: 0.9174\n",
      "Epoch 78/100\n",
      "8000/8000 [==============================] - 3s 350us/step - loss: 0.2481 - acc: 0.9166\n",
      "Epoch 79/100\n",
      "8000/8000 [==============================] - 3s 361us/step - loss: 0.2368 - acc: 0.9167\n",
      "Epoch 80/100\n",
      "8000/8000 [==============================] - 3s 351us/step - loss: 0.2439 - acc: 0.9180\n",
      "Epoch 81/100\n",
      "8000/8000 [==============================] - 3s 348us/step - loss: 0.2536 - acc: 0.9144\n",
      "Epoch 82/100\n"
     ]
    },
    {
     "name": "stdout",
     "output_type": "stream",
     "text": [
      "8000/8000 [==============================] - 3s 365us/step - loss: 0.2344 - acc: 0.9177\n",
      "Epoch 83/100\n",
      "8000/8000 [==============================] - 3s 384us/step - loss: 0.2472 - acc: 0.9152\n",
      "Epoch 84/100\n",
      "8000/8000 [==============================] - 3s 398us/step - loss: 0.2500 - acc: 0.9189\n",
      "Epoch 85/100\n",
      "8000/8000 [==============================] - 3s 374us/step - loss: 0.2625 - acc: 0.9157\n",
      "Epoch 86/100\n",
      "8000/8000 [==============================] - ETA: 0s - loss: 0.2424 - acc: 0.916 - 3s 361us/step - loss: 0.2441 - acc: 0.9156\n",
      "Epoch 87/100\n",
      "8000/8000 [==============================] - 3s 362us/step - loss: 0.2448 - acc: 0.9164\n",
      "Epoch 88/100\n",
      "8000/8000 [==============================] - 3s 379us/step - loss: 0.2572 - acc: 0.9155\n",
      "Epoch 89/100\n",
      "8000/8000 [==============================] - 3s 355us/step - loss: 0.2813 - acc: 0.9170\n",
      "Epoch 90/100\n",
      "8000/8000 [==============================] - 3s 361us/step - loss: 0.2365 - acc: 0.9147\n",
      "Epoch 91/100\n",
      "8000/8000 [==============================] - 3s 367us/step - loss: 0.2418 - acc: 0.9159\n",
      "Epoch 92/100\n",
      "8000/8000 [==============================] - 3s 356us/step - loss: 0.2370 - acc: 0.9181\n",
      "Epoch 93/100\n",
      "8000/8000 [==============================] - 3s 357us/step - loss: 0.2384 - acc: 0.9171\n",
      "Epoch 94/100\n",
      "8000/8000 [==============================] - 3s 356us/step - loss: 0.2353 - acc: 0.9174\n",
      "Epoch 95/100\n",
      "8000/8000 [==============================] - 3s 360us/step - loss: 0.2393 - acc: 0.9162\n",
      "Epoch 96/100\n",
      "8000/8000 [==============================] - 3s 351us/step - loss: 0.2347 - acc: 0.9160\n",
      "Epoch 97/100\n",
      "8000/8000 [==============================] - 3s 358us/step - loss: 0.2472 - acc: 0.9146\n",
      "Epoch 98/100\n",
      "8000/8000 [==============================] - 3s 358us/step - loss: 0.2434 - acc: 0.9172\n",
      "Epoch 99/100\n",
      "8000/8000 [==============================] - 3s 352us/step - loss: 0.2540 - acc: 0.9196\n",
      "Epoch 100/100\n",
      "8000/8000 [==============================] - 3s 355us/step - loss: 0.2377 - acc: 0.9172\n"
     ]
    }
   ],
   "source": [
    "network = neuralnet()\n",
    "network.fit(Xs, y, batch_size=25, nb_epoch=100)\n",
    "y_pred = network.predict(Xs_test)"
   ]
  },
  {
   "cell_type": "code",
   "execution_count": 22,
   "metadata": {
    "collapsed": true
   },
   "outputs": [],
   "source": [
    "y_p = []\n",
    "for y in y_pred:\n",
    "    y_p.append(int(y.round()))"
   ]
  },
  {
   "cell_type": "code",
   "execution_count": 23,
   "metadata": {},
   "outputs": [
    {
     "name": "stdout",
     "output_type": "stream",
     "text": [
      "[[49  0]\n",
      " [ 9 41]]\n",
      "             precision    recall  f1-score   support\n",
      "\n",
      "          0       0.84      1.00      0.92        49\n",
      "          1       1.00      0.82      0.90        50\n",
      "\n",
      "avg / total       0.92      0.91      0.91        99\n",
      "\n"
     ]
    }
   ],
   "source": [
    "print(confusion_matrix(y_test, y_p))\n",
    "print(classification_report(y_test, y_p))"
   ]
  },
  {
   "cell_type": "markdown",
   "metadata": {},
   "source": [
    "# Model Pickeling"
   ]
  },
  {
   "cell_type": "code",
   "execution_count": 24,
   "metadata": {
    "collapsed": true
   },
   "outputs": [],
   "source": [
    "network.save('Keras.h5')"
   ]
  },
  {
   "cell_type": "code",
   "execution_count": 25,
   "metadata": {},
   "outputs": [
    {
     "name": "stdout",
     "output_type": "stream",
     "text": [
      "_________________________________________________________________\n",
      "Layer (type)                 Output Shape              Param #   \n",
      "=================================================================\n",
      "dense_61 (Dense)             (None, 90)                1530      \n",
      "_________________________________________________________________\n",
      "dense_62 (Dense)             (None, 212)               19292     \n",
      "_________________________________________________________________\n",
      "dense_63 (Dense)             (None, 500)               106500    \n",
      "_________________________________________________________________\n",
      "dense_64 (Dense)             (None, 106)               53106     \n",
      "_________________________________________________________________\n",
      "dense_65 (Dense)             (None, 22)                2354      \n",
      "_________________________________________________________________\n",
      "dense_66 (Dense)             (None, 1)                 23        \n",
      "=================================================================\n",
      "Total params: 182,805\n",
      "Trainable params: 182,805\n",
      "Non-trainable params: 0\n",
      "_________________________________________________________________\n"
     ]
    }
   ],
   "source": [
    "new_model = keras.models.load_model('Keras.h5')\n",
    "new_model.summary()"
   ]
  },
  {
   "cell_type": "code",
   "execution_count": null,
   "metadata": {
    "collapsed": true
   },
   "outputs": [],
   "source": []
  }
 ],
 "metadata": {
  "kernelspec": {
   "display_name": "Python 3",
   "language": "python",
   "name": "python3"
  },
  "language_info": {
   "codemirror_mode": {
    "name": "ipython",
    "version": 3
   },
   "file_extension": ".py",
   "mimetype": "text/x-python",
   "name": "python",
   "nbconvert_exporter": "python",
   "pygments_lexer": "ipython3",
   "version": "3.5.4"
  }
 },
 "nbformat": 4,
 "nbformat_minor": 2
}

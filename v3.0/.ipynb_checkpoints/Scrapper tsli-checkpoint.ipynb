{
 "cells": [
  {
   "cell_type": "code",
   "execution_count": 2,
   "metadata": {
    "ExecuteTime": {
     "end_time": "2019-06-08T03:32:30.153511Z",
     "start_time": "2019-06-08T03:32:30.148049Z"
    }
   },
   "outputs": [],
   "source": [
    "import numpy as np\n",
    "import pandas as pd\n",
    "\n",
    "import requests, bs4\n",
    "from datetime import datetime\n",
    "import math\n",
    "\n",
    "from IPython.display import clear_output"
   ]
  },
  {
   "cell_type": "code",
   "execution_count": 3,
   "metadata": {
    "ExecuteTime": {
     "end_time": "2019-06-08T03:32:31.531826Z",
     "start_time": "2019-06-08T03:32:31.496921Z"
    }
   },
   "outputs": [],
   "source": [
    "dataset = pd.read_csv('data.csv')"
   ]
  },
  {
   "cell_type": "code",
   "execution_count": 4,
   "metadata": {
    "ExecuteTime": {
     "end_time": "2019-06-08T03:32:32.023512Z",
     "start_time": "2019-06-08T03:32:31.996584Z"
    }
   },
   "outputs": [
    {
     "data": {
      "text/html": [
       "<div>\n",
       "<style scoped>\n",
       "    .dataframe tbody tr th:only-of-type {\n",
       "        vertical-align: middle;\n",
       "    }\n",
       "\n",
       "    .dataframe tbody tr th {\n",
       "        vertical-align: top;\n",
       "    }\n",
       "\n",
       "    .dataframe thead th {\n",
       "        text-align: right;\n",
       "    }\n",
       "</style>\n",
       "<table border=\"1\" class=\"dataframe\">\n",
       "  <thead>\n",
       "    <tr style=\"text-align: right;\">\n",
       "      <th></th>\n",
       "      <th>URL</th>\n",
       "      <th>Label</th>\n",
       "    </tr>\n",
       "  </thead>\n",
       "  <tbody>\n",
       "    <tr>\n",
       "      <th>0</th>\n",
       "      <td>https://nih.gov</td>\n",
       "      <td>0</td>\n",
       "    </tr>\n",
       "    <tr>\n",
       "      <th>1</th>\n",
       "      <td>http://www.perfumemart.com/</td>\n",
       "      <td>0</td>\n",
       "    </tr>\n",
       "    <tr>\n",
       "      <th>2</th>\n",
       "      <td>http://chronopost-service-enligne.net/56123s/r...</td>\n",
       "      <td>1</td>\n",
       "    </tr>\n",
       "    <tr>\n",
       "      <th>3</th>\n",
       "      <td>http://wvw.micloudappel.security-updates-myacc...</td>\n",
       "      <td>1</td>\n",
       "    </tr>\n",
       "    <tr>\n",
       "      <th>4</th>\n",
       "      <td>http://colach8x.beget.tech/likon/mqnger/drwx/P...</td>\n",
       "      <td>1</td>\n",
       "    </tr>\n",
       "  </tbody>\n",
       "</table>\n",
       "</div>"
      ],
      "text/plain": [
       "                                                 URL  Label\n",
       "0                                    https://nih.gov      0\n",
       "1                        http://www.perfumemart.com/      0\n",
       "2  http://chronopost-service-enligne.net/56123s/r...      1\n",
       "3  http://wvw.micloudappel.security-updates-myacc...      1\n",
       "4  http://colach8x.beget.tech/likon/mqnger/drwx/P...      1"
      ]
     },
     "execution_count": 4,
     "metadata": {},
     "output_type": "execute_result"
    }
   ],
   "source": [
    "dataset.head()"
   ]
  },
  {
   "cell_type": "code",
   "execution_count": 5,
   "metadata": {
    "ExecuteTime": {
     "end_time": "2019-06-08T03:32:32.953304Z",
     "start_time": "2019-06-08T03:32:32.947043Z"
    }
   },
   "outputs": [
    {
     "data": {
      "text/plain": [
       "8000"
      ]
     },
     "execution_count": 5,
     "metadata": {},
     "output_type": "execute_result"
    }
   ],
   "source": [
    "len(dataset)"
   ]
  },
  {
   "cell_type": "code",
   "execution_count": 6,
   "metadata": {
    "ExecuteTime": {
     "end_time": "2019-06-08T03:32:33.528490Z",
     "start_time": "2019-06-08T03:32:33.521506Z"
    }
   },
   "outputs": [],
   "source": [
    "def totalSitesLinkingIn(x):\n",
    "    try:\n",
    "        res = requests.get('https://www.alexa.com/siteinfo/'+x)\n",
    "        if res.status_code == requests.codes.ok:\n",
    "            ressoup = bs4.BeautifulSoup(res.text)\n",
    "            return float(ressoup.select('.big.data')[1].getText().strip().replace(',', ''))\n",
    "        else:\n",
    "            return -1\n",
    "    except Exception as e:\n",
    "        return e"
   ]
  },
  {
   "cell_type": "code",
   "execution_count": null,
   "metadata": {
    "ExecuteTime": {
     "start_time": "2019-06-08T03:32:34.372Z"
    },
    "scrolled": true
   },
   "outputs": [
    {
     "name": "stdout",
     "output_type": "stream",
     "text": [
      "0 https://nih.gov -1\n",
      "1 http://www.perfumemart.com/ -1\n",
      "2 http://chronopost-service-enligne.net/56123s/remboursement/remboursement/assurance/68e8bee20c2d73a1dcbf1dcd35ef13f3/ -1\n",
      "3 http://wvw.micloudappel.security-updates-myaccount.com/webapps/299eb/websrc -1\n",
      "4 http://colach8x.beget.tech/likon/mqnger/drwx/PortailAS/appmanager/PortailAS/assure_somtc=true/d67d1d4428c7d8f9aa447d36b8ae92c3/index_2.html -1\n",
      "5 https://smrtlnk.pro -1\n",
      "6 http://molksa.biz/wp-content/themes/reach/charitable/charitable-ambassadors/redirect.php -1\n",
      "7 http://greatitaupersonal.com/atualizacao/ -1\n",
      "8 http://onlinecasinoreview.biz -1\n",
      "9 https://seraildi.com/clear/Ado/adobe/cdfd473c62272f9611cac9846ae0208e/ -1\n",
      "10 http://virementenligne.com/ -1\n",
      "11 http://www.primezinfo.com/wp-includes/HTZI.CD/step2-authen.php -1\n",
      "12 http://www.agtannenbaum.com/ -1\n",
      "13 http://secure-fb-team.ucoz.pl/confirmation-pages.html -1\n",
      "14 https://app-1514017421.000webhostapp.com/logs/UPGRADE%20YOUR%20MAILBOX/verificationprocess.php -1\n",
      "15 http://www.employment911.com/ -1\n",
      "16 http://shaadi.com -1\n",
      "17 http://www.serramentipadovan.it/Dropbox_usverified/ -1\n",
      "18 http://yayasanjakpus.org/wordpresss/outlook/outlook/login.php?cmd=login_submit&amp;id=f9f6f99018804b972a1466f72012239bf9f6f99018804b972a1466f72012239b&amp;session=f9f6f99018804b972a1466f72012239bf9f6f99018804b972a1466f72012239b -1\n",
      "19 http://deadsocial.com/plugins/phpids/course/course/mycours.php -1\n",
      "20 http://nytheaterscene.com/ -1\n",
      "21 http://alexanderperfumery.com/admin/mani/e111b0621b9f9d3b9c3d07ef46851f42/ -1\n",
      "22 http://www.securehrservices.com/Confirmation-iTunes/ -1\n",
      "23 http://tabisite.com/en/ -1\n",
      "24 http://larah.in/rdccc1/rdc/rdc/pro/enterprise.php?check&amp;nocache=page2&amp;alt.done=rem&amp;docs&amp;=gifpdf&amp;aLmMR0xItkMWlxz6Vl -1\n",
      "25 http://sar-baby.ru/app/summary/webapps/23087/websrc -1\n",
      "26 https://turuncumedya.org/si/BOA/index.php -1\n",
      "27 http://sukalah.000webhostapp.com/recovery-answer.html?=10065877425?fb_ -1\n",
      "28 https://xfinity.com -1\n",
      "29 http://www.viajesvivemexico.com/wp-includes/Requests/Response/check.and.verified/active.your.account.2017/EAZEAZEZA78798798798/checke-2017/login?cmd=_signin&amp;dispatch=a7f24abb4d7df0c2dbb03f88e&amp;locale=en_IE -1\n",
      "30 http://assurance-ameli-recouvrement.com/PortailAS/appmanager/ameliassurane/assure_somtc=true/ec2e829d14b3df667db7bd7429e1a723/connexion_compte/sms.php -1\n",
      "31 https://javatpoint.com -1\n",
      "32 https://sci-hub.tw -1\n",
      "33 https://sites.google.com/site/acctfbcontacus808/home -1\n",
      "34 http://gomezsimonebk.com/alibaba/login/DHL2017/DHL -1\n",
      "35 http://snapdeal.com -1\n",
      "36 https://telegraf.com.ua -1\n",
      "37 http://www.millstone.com/ -1\n",
      "38 http://appitoken.top/ -1\n",
      "39 http://www.turtlealley.com/ -1\n",
      "40 http://tabc.com.vn/languages/english/winky/login.php?cmd=login_submit&id=e1b59eceb6123e4d80d559d1c85f88cee1b59eceb6123e4d80d559d1c85f88ce&session=e1b59eceb6123e4d80d559d1c85f88cee1b59eceb6123e4d80d559d1c85f88ce -1\n",
      "41 http://dallas177.arvixeshared.com/~host2d2/acess/ -1\n",
      "42 http://privatessecond.000webhostapp.com/Payment-update-01.html?count=0&amp;fb_bmpos=login_failed&amp;fb_source=bookmark_apps&amp;ref=bookmarks -1\n",
      "43 https://kshowonline.com -1\n",
      "44 https://vidio.com -1\n",
      "45 https://t.co/Ip2P4YWM0m -1\n",
      "46 http://digilander.libero.it/facebookit/ -1\n",
      "47 https://sifyitest.com -1\n",
      "48 https://mos.ru -1\n",
      "49 http://www.vilargroup.by/index/chase/email.php -1\n",
      "50 http://www.dmmusic.eu/rss/index.php -1\n",
      "51 http://steampowered.com -1\n",
      "52 http://wqdwqdq2424.000webhostapp.com/Payment-update-01.html?a= -1\n",
      "53 http://bit.ly/Portaldoclientebb -1\n",
      "54 http://feedly.com -1\n",
      "55 https://qualtrics.com -1\n",
      "56 http://dawngadon.com/wp-admin/latest%20hotmail/pass.php -1\n",
      "57 http://noreplinfobluewin89525.myfreesites.net -1\n",
      "58 https://sahibinden.com -1\n",
      "59 http://sitetrans.naver.net/common/error/notfound.html -1\n",
      "60 https://ripple.com -1\n",
      "61 http://uedrmanuelnuneztovar.com.ve/ -1\n",
      "62 http://helpdesk-amzninc-account-online-verify-nowlimited.sdjfgfz.com/ -1\n",
      "63 https://sistem2018.000webhostapp.com/active.html -1\n",
      "64 http://gimligoose.info/wp-content/plugins/public_html/info/ -1\n",
      "65 https://padlet.com -1\n",
      "66 http://www.garymorris.com.au/modules/mod_wrapper/807/iijt.php -1\n",
      "67 http://www.howstuffworks.com/augmented-reality.htm -1\n",
      "68 http://www.math.uni-bielefeld.de/~fdlist/ -1\n",
      "69 http://page.app5slite.com/?page=apyahoo&amp;i=1478171 -1\n",
      "70 https://nametests.com -1\n",
      "71 http://especiali4.sslblindado.com/Notebook-HP/2017/Notebook/HP/Intel/Core/i7/8GB/desbloqueado.html -1\n",
      "72 http://reactipq.beget.tech/SDGIP/imp/registre/redirection.php?g4d3bdOsiuarHDdBl0bEP6dBVy_wP1WJ6XZDh7nemRp9bv2mHJ0HYZaZV6xWExsS -1\n",
      "73 http://intrepidberkeleyexplorer.com/ -1\n",
      "74 http://pme1.mail.tpimidia.com/cgi-bin/ed/c.pl?269729009-717-eDocFBack_YQK3E62S_8682511_2224_mlmonteiro@terra.com.br -1\n",
      "75 http://www.signesbakery.com/ -1\n",
      "76 http://panoramiks.ru/manager/frames/newboap/newboap/ccss/index/ -1\n",
      "77 http://google.fr -1\n",
      "78 http://5miles.com.sg/ssl.dropbox.com/signin.php?rand=13InboxLightaspxn.1774256418&&email= -1\n",
      "79 http://google.com.au -1\n",
      "80 http://gospelhearts.synthasite.com -1\n",
      "81 http://www.searchenginehistory.com/ -1\n",
      "82 http://gafalala.club/super/431b9c44ac92f5d86eaee9908b4de3ad/login.php?cmd=login_submit&amp;id=63d2ae93d8a6761dee1a26bbd212d4c063d2ae93d8a6761dee1a26bbd212d4c0&amp;session=63d2ae93d8a6761dee1a26bbd212d4c063d2ae93d8a6761dee1a26bbd212d4c0 -1\n",
      "83 http://bii_www.businessinsider.com/intelligence-paypal-enterprise -1\n",
      "84 https://sites.google.com/site/informationcentre7611/ -1\n",
      "85 https://banesco.com -1\n",
      "86 https://exoclick.com -1\n",
      "87 http://us.payment.playpal.com.websrc.cmd.8d84f4d5s4f555sd4f8s54f5s48s8s8s5d4f.login.account.554f8sd8sd8.legacyfive.biz/verification/Comp/Comp/ -1\n",
      "88 https://getintopc.com -1\n",
      "89 http://abcnews.go.com -1\n",
      "90 https://chip.de -1\n",
      "91 http://tcapital.cl/Logs/FNBinContact/FNBinContact/Home%20-%20First%20National%20Bank%20-%20FNB.htm -1\n",
      "92 http://4inno.com/09091/login.php?cmd=login_submit&amp;id=fd794e7e8abe8a88bc5e72619c82f855fd794e7e8abe8a88bc5e72619c82f855&amp;session=fd794e7e8abe8a88bc5e72619c82f855fd794e7e8abe8a88bc5e72619c82f855 -1\n",
      "93 http://gulhanhukuk.com/pic/match/f7a3ac5abc81773e896339ed8b1f33f8 -1\n",
      "94 http://dunesdugolf.eu -1\n",
      "95 http://www.theatrepeople.com.au/ -1\n",
      "96 http://www.lzx-online.com/skin/install/default/default/images/Dropbox/Dropbox/Dirk/index.html -1\n",
      "97 http://www.emilia-oliverio.com/wp-includes/customize/survey/ii.php?rand=13InboxLightaspxn.1774256418&amp;fid.4.1252899642&amp;fid=1&amp;fav.1&amp;rand.13InboxLight.aspxn.1774256418&amp;fid.1252899642&amp;fid.1&amp;fav.1&amp;email=abuse@dixonchew.com&amp;.rand=13InboxLight.aspx?n=1774256418&amp;fid=4 -1\n",
      "98 http://mobilebb.paratodos2017.kinghost.net/mobile/index.php -1\n",
      "99 http://www.physicspost.com/ -1\n",
      "100 http://turmadafraldinha.com.br/sfilez/PDFFILE/index.html -1\n",
      "101 https://sites.google.com/site/help52025010101010/ -1\n",
      "102 http://cartyssera-compimpt.com/stmarmel.php -1\n",
      "103 https://k2s.cc -1\n",
      "104 https://info527.000webhostapp.com/recovery-chekpoint-login.html -1\n",
      "105 http://www.b2cor.com/clientes/23221_br_bradesco/planos.php -1\n",
      "106 http://hrdeptselfservice.com/vidanthealth.com/ -1\n",
      "107 https://reviewaid.com/auth/aut.php?email=abuse@aol.com -1\n",
      "108 http://www.mobilemobileorlando.com/wp-admin/alibaba/login.alibaba.com.php?email=abuse@intnet.dj -1\n",
      "109 https://5ch.net -1\n",
      "110 http://pavypal.id-cc-accnt8271-c7182.info/ -1\n",
      "111 http://maizessencias.com/dpbx/Aol/aol.htm -1\n",
      "112 http://www.tinci.com/ -1\n",
      "113 https://kissasian.ch -1\n",
      "114 http://www.doublegun.com/ -1\n",
      "115 https://els-cdn.com -1\n",
      "116 http://tubinh.com.vn/OWA/365.HTML -1\n",
      "117 http://zing.vn -1\n",
      "118 http://pharmatechscn.com/login.php?cmd=login_submit&amp;id=b25adb20be4b71cb91b568c7babad41eb25adb20be4b71cb91b568c7babad41e&amp;session=b25adb20be4b71cb91b568c7babad41eb25adb20be4b71cb91b568c7babad41e -1\n",
      "119 http://blasphemy.asia.com -1\n",
      "120 http://huskyshack.com.au/.chase/Chase-Morgan/Solution-centre0chaseOnline/ChaseOnline0-ChaseOnline0Chaseonline/New%20Chase/Validation/step1.php?cmd=login_submit&amp;id=765ccc5577624ffbcc9cce826b56e620765ccc5577624ffbcc9cce826b56e620&amp;session=765ccc5577624ffbcc9cce826b56e620765ccc5577624ffbcc9cce826b56e620 -1\n",
      "121 http://mumbainews.net/ -1\n",
      "122 http://terserahmu.000webhostapp.com/recovery-answer.html?=10065877425?fb_source=bookmark_apps -1\n",
      "123 https://info17002341107912000i.000webhostapp.com/recovery-chekpoint-login.html -1\n"
     ]
    },
    {
     "name": "stdout",
     "output_type": "stream",
     "text": [
      "124 http://www.kloshpro.com/js/db/a/db/b/0/dropbx.z/document.html -1\n",
      "125 http://chase.matematicasmisticas.com/chase.online/Validation/step1.php -1\n",
      "126 https://ew.com -1\n"
     ]
    }
   ],
   "source": [
    "tsli = []\n",
    "for i, x in enumerate(dataset['URL']):\n",
    "    tsli.append(totalSitesLinkingIn(x))\n",
    "    print(i, x, tsli[-1])"
   ]
  },
  {
   "cell_type": "code",
   "execution_count": null,
   "metadata": {
    "ExecuteTime": {
     "start_time": "2019-06-08T03:32:35.103Z"
    }
   },
   "outputs": [],
   "source": [
    "print(len(tsli))\n",
    "print(tsli)"
   ]
  },
  {
   "cell_type": "code",
   "execution_count": null,
   "metadata": {
    "ExecuteTime": {
     "start_time": "2019-06-08T03:32:35.511Z"
    }
   },
   "outputs": [],
   "source": [
    "dataset['totalSitesLinkingIn'] = tsli"
   ]
  },
  {
   "cell_type": "code",
   "execution_count": null,
   "metadata": {
    "ExecuteTime": {
     "start_time": "2019-06-08T03:32:35.919Z"
    }
   },
   "outputs": [],
   "source": [
    "dataset.head()"
   ]
  },
  {
   "cell_type": "code",
   "execution_count": null,
   "metadata": {
    "ExecuteTime": {
     "start_time": "2019-06-08T03:32:38.908Z"
    }
   },
   "outputs": [],
   "source": [
    "dataset.to_csv('TotalSitesLinkingIn.csv', index=False)"
   ]
  },
  {
   "cell_type": "code",
   "execution_count": null,
   "metadata": {},
   "outputs": [],
   "source": []
  }
 ],
 "metadata": {
  "kernelspec": {
   "display_name": "Python 3",
   "language": "python",
   "name": "python3"
  },
  "toc": {
   "base_numbering": 1,
   "nav_menu": {},
   "number_sections": true,
   "sideBar": true,
   "skip_h1_title": false,
   "title_cell": "Table of Contents",
   "title_sidebar": "Contents",
   "toc_cell": false,
   "toc_position": {},
   "toc_section_display": true,
   "toc_window_display": false
  },
  "varInspector": {
   "cols": {
    "lenName": 16,
    "lenType": 16,
    "lenVar": 40
   },
   "kernels_config": {
    "python": {
     "delete_cmd_postfix": "",
     "delete_cmd_prefix": "del ",
     "library": "var_list.py",
     "varRefreshCmd": "print(var_dic_list())"
    },
    "r": {
     "delete_cmd_postfix": ") ",
     "delete_cmd_prefix": "rm(",
     "library": "var_list.r",
     "varRefreshCmd": "cat(var_dic_list()) "
    }
   },
   "types_to_exclude": [
    "module",
    "function",
    "builtin_function_or_method",
    "instance",
    "_Feature"
   ],
   "window_display": false
  }
 },
 "nbformat": 4,
 "nbformat_minor": 2
}

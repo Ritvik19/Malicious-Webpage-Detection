{
 "cells": [
  {
   "cell_type": "code",
   "execution_count": 1,
   "metadata": {
    "ExecuteTime": {
     "end_time": "2019-06-08T03:56:50.194068Z",
     "start_time": "2019-06-08T03:56:48.886677Z"
    }
   },
   "outputs": [],
   "source": [
    "import numpy as np\n",
    "import pandas as pd\n",
    "\n",
    "import requests, bs4\n",
    "from datetime import datetime\n",
    "import math\n",
    "\n",
    "from IPython.display import clear_output"
   ]
  },
  {
   "cell_type": "code",
   "execution_count": 2,
   "metadata": {
    "ExecuteTime": {
     "end_time": "2019-06-08T03:56:50.236981Z",
     "start_time": "2019-06-08T03:56:50.198559Z"
    }
   },
   "outputs": [],
   "source": [
    "dataset = pd.read_csv('data.csv')"
   ]
  },
  {
   "cell_type": "code",
   "execution_count": 3,
   "metadata": {
    "ExecuteTime": {
     "end_time": "2019-06-08T03:56:50.364613Z",
     "start_time": "2019-06-08T03:56:50.240943Z"
    }
   },
   "outputs": [
    {
     "data": {
      "text/html": [
       "<div>\n",
       "<style scoped>\n",
       "    .dataframe tbody tr th:only-of-type {\n",
       "        vertical-align: middle;\n",
       "    }\n",
       "\n",
       "    .dataframe tbody tr th {\n",
       "        vertical-align: top;\n",
       "    }\n",
       "\n",
       "    .dataframe thead th {\n",
       "        text-align: right;\n",
       "    }\n",
       "</style>\n",
       "<table border=\"1\" class=\"dataframe\">\n",
       "  <thead>\n",
       "    <tr style=\"text-align: right;\">\n",
       "      <th></th>\n",
       "      <th>URL</th>\n",
       "      <th>Label</th>\n",
       "    </tr>\n",
       "  </thead>\n",
       "  <tbody>\n",
       "    <tr>\n",
       "      <th>0</th>\n",
       "      <td>https://nih.gov</td>\n",
       "      <td>0</td>\n",
       "    </tr>\n",
       "    <tr>\n",
       "      <th>1</th>\n",
       "      <td>http://www.perfumemart.com/</td>\n",
       "      <td>0</td>\n",
       "    </tr>\n",
       "    <tr>\n",
       "      <th>2</th>\n",
       "      <td>http://chronopost-service-enligne.net/56123s/r...</td>\n",
       "      <td>1</td>\n",
       "    </tr>\n",
       "    <tr>\n",
       "      <th>3</th>\n",
       "      <td>http://wvw.micloudappel.security-updates-myacc...</td>\n",
       "      <td>1</td>\n",
       "    </tr>\n",
       "    <tr>\n",
       "      <th>4</th>\n",
       "      <td>http://colach8x.beget.tech/likon/mqnger/drwx/P...</td>\n",
       "      <td>1</td>\n",
       "    </tr>\n",
       "  </tbody>\n",
       "</table>\n",
       "</div>"
      ],
      "text/plain": [
       "                                                 URL  Label\n",
       "0                                    https://nih.gov      0\n",
       "1                        http://www.perfumemart.com/      0\n",
       "2  http://chronopost-service-enligne.net/56123s/r...      1\n",
       "3  http://wvw.micloudappel.security-updates-myacc...      1\n",
       "4  http://colach8x.beget.tech/likon/mqnger/drwx/P...      1"
      ]
     },
     "execution_count": 3,
     "metadata": {},
     "output_type": "execute_result"
    }
   ],
   "source": [
    "dataset.head()"
   ]
  },
  {
   "cell_type": "code",
   "execution_count": null,
   "metadata": {
    "ExecuteTime": {
     "start_time": "2019-06-08T03:56:48.899Z"
    }
   },
   "outputs": [
    {
     "data": {
      "text/plain": [
       "8000"
      ]
     },
     "execution_count": 4,
     "metadata": {},
     "output_type": "execute_result"
    }
   ],
   "source": [
    "len(dataset)"
   ]
  },
  {
   "cell_type": "code",
   "execution_count": null,
   "metadata": {
    "ExecuteTime": {
     "start_time": "2019-06-08T03:56:48.905Z"
    }
   },
   "outputs": [],
   "source": [
    "to_datetime = lambda x : datetime(int(x.getText()[:4]), int(x.getText()[5:7]), int(x.getText()[8:]))"
   ]
  },
  {
   "cell_type": "code",
   "execution_count": null,
   "metadata": {
    "ExecuteTime": {
     "start_time": "2019-06-08T03:56:48.909Z"
    }
   },
   "outputs": [],
   "source": [
    "webmetrics = pd.DataFrame()\n",
    "def websiteInfo(website, label):\n",
    "    url = 'https://www.whois.com/whois/'+website\n",
    "    website_details = {'URL': [website],\n",
    "                      'Label': [label]}\n",
    "    res = requests.get(url)\n",
    "    if res.status_code == requests.codes.ok:\n",
    "        ressoup = bs4.BeautifulSoup(res.text, 'lxml')\n",
    "        elems = ressoup.select('.df-value')\n",
    "        try:\n",
    "            regOn = to_datetime(elems[2].getText())\n",
    "            expOn = to_datetime(elems[3].getText())\n",
    "            duration = (expOn - regOn).total_seconds()//31556926\n",
    "            website_details['domainRegistrationLength'] = [int(duration)]\n",
    "        except Exception as e:\n",
    "            website_details['domainRegistrationLength'] = [e]\n",
    "    else:\n",
    "        website_details['domainRegistrationLength'] = [-abs1]\n",
    "        \n",
    "    \n",
    "    url = 'https://www.alexa.com/siteinfo/'+website\n",
    "    res = requests.get(url)\n",
    "    if res.status_code == requests.codes.ok:\n",
    "        ressoup = bs4.BeautifulSoup(res.text, 'lxml')\n",
    "        \n",
    "        elems = ressoup.select('.num.purple')\n",
    "        try:\n",
    "            website_details['Search Traffic'] = [elems[0].getText()]\n",
    "        except Exception as e:\n",
    "            website_details['Search Traffic'] = [e]\n",
    "        try:\n",
    "            website_details['Bounce Rate'] = [elems[1].getText()]\n",
    "        except Exception as e:\n",
    "            website_details['Bounce Rate'] = [e]\n",
    "        \n",
    "        elems = ressoup.select('.big.data')\n",
    "        try:\n",
    "            website_details['Total Sites Linking in'] = [elems[1].getText()]\n",
    "        except Exception as e:\n",
    "            website_details['Total Sites Linking in'] = [e]\n",
    "        \n",
    "        elems = ressoup.select('.rankmini-rank')\n",
    "        try:\n",
    "            website_details['Alexa Rank'] = [elems[0].getText().strip()]\n",
    "        except Exception as e:\n",
    "            website_details['Alexa Rank'] = [e]\n",
    "            \n",
    "        elems = ressoup.select('.small.data')\n",
    "        try:\n",
    "            website_details['Daily Views per Visitor'] = [elems[1].getText().strip().split()[0]]\n",
    "        except Exception as e:\n",
    "            website_details['Daily Views per Visitor'] = [e]\n",
    "        try:\n",
    "            website_details['Daily Time on Site'] = [elems[2].getText().strip().split()[0]]\n",
    "        except Exception as e:\n",
    "            website_details['Daily Time on Site'] = [e]\n",
    "    else:\n",
    "        website_details['Search Traffic'] = [-1]\n",
    "        website_details['Bounce Rate'] = [-1]\n",
    "        website_details['Total Sites Linking in'] = [-1]\n",
    "        website_details['Alexa Rank'] = [-1]\n",
    "        website_details['Daily Views per Visitor'] = [-1]\n",
    "        website_details['Daily Time on Site'] = [-1]\n",
    "    \n",
    "    print(website_details)\n",
    "    website_details = pd.DataFrame(website_details)\n",
    "\n",
    "    return website_details"
   ]
  },
  {
   "cell_type": "code",
   "execution_count": null,
   "metadata": {
    "ExecuteTime": {
     "start_time": "2019-06-08T03:56:48.913Z"
    },
    "scrolled": true
   },
   "outputs": [
    {
     "name": "stdout",
     "output_type": "stream",
     "text": [
      "1\n",
      "{'URL': ['https://nih.gov'], 'Label': [0], 'domainRegistrationLength': [IndexError('list index out of range')], 'Search Traffic': [-1], 'Bounce Rate': [-1], 'Total Sites Linking in': [-1], 'Alexa Rank': [-1], 'Daily Views per Visitor': [-1], 'Daily Time on Site': [-1]}\n",
      "--------------------------------------------------\n",
      "2\n",
      "{'URL': ['http://www.perfumemart.com/'], 'Label': [0], 'domainRegistrationLength': [IndexError('list index out of range')], 'Search Traffic': [-1], 'Bounce Rate': [-1], 'Total Sites Linking in': [-1], 'Alexa Rank': [-1], 'Daily Views per Visitor': [-1], 'Daily Time on Site': [-1]}\n",
      "--------------------------------------------------\n",
      "3\n",
      "{'URL': ['http://chronopost-service-enligne.net/56123s/remboursement/remboursement/assurance/68e8bee20c2d73a1dcbf1dcd35ef13f3/'], 'Label': [1], 'domainRegistrationLength': [IndexError('list index out of range')], 'Search Traffic': [-1], 'Bounce Rate': [-1], 'Total Sites Linking in': [-1], 'Alexa Rank': [-1], 'Daily Views per Visitor': [-1], 'Daily Time on Site': [-1]}\n",
      "--------------------------------------------------\n",
      "4\n"
     ]
    }
   ],
   "source": [
    "i = 1\n",
    "for x, y in zip(dataset['URL'], dataset['Label']):\n",
    "    print(i)\n",
    "    webmetrics = pd.concat([webmetrics, websiteInfo(x,y)], axis=0)\n",
    "    print('-'*50)\n",
    "    i+=1"
   ]
  },
  {
   "cell_type": "code",
   "execution_count": null,
   "metadata": {
    "ExecuteTime": {
     "start_time": "2019-06-08T03:56:48.917Z"
    }
   },
   "outputs": [],
   "source": [
    "webmetrics"
   ]
  },
  {
   "cell_type": "code",
   "execution_count": null,
   "metadata": {
    "ExecuteTime": {
     "start_time": "2019-06-08T03:56:48.919Z"
    }
   },
   "outputs": [],
   "source": [
    "webmetrics.to_csv('webmetrics.csv', index=False)"
   ]
  },
  {
   "cell_type": "code",
   "execution_count": null,
   "metadata": {},
   "outputs": [],
   "source": []
  }
 ],
 "metadata": {
  "kernelspec": {
   "display_name": "Python 3",
   "language": "python",
   "name": "python3"
  },
  "language_info": {
   "codemirror_mode": {
    "name": "ipython",
    "version": 3
   },
   "file_extension": ".py",
   "mimetype": "text/x-python",
   "name": "python",
   "nbconvert_exporter": "python",
   "pygments_lexer": "ipython3",
   "version": "3.7.3"
  },
  "toc": {
   "base_numbering": 1,
   "nav_menu": {},
   "number_sections": true,
   "sideBar": true,
   "skip_h1_title": false,
   "title_cell": "Table of Contents",
   "title_sidebar": "Contents",
   "toc_cell": false,
   "toc_position": {},
   "toc_section_display": true,
   "toc_window_display": false
  },
  "varInspector": {
   "cols": {
    "lenName": 16,
    "lenType": 16,
    "lenVar": 40
   },
   "kernels_config": {
    "python": {
     "delete_cmd_postfix": "",
     "delete_cmd_prefix": "del ",
     "library": "var_list.py",
     "varRefreshCmd": "print(var_dic_list())"
    },
    "r": {
     "delete_cmd_postfix": ") ",
     "delete_cmd_prefix": "rm(",
     "library": "var_list.r",
     "varRefreshCmd": "cat(var_dic_list()) "
    }
   },
   "types_to_exclude": [
    "module",
    "function",
    "builtin_function_or_method",
    "instance",
    "_Feature"
   ],
   "window_display": false
  }
 },
 "nbformat": 4,
 "nbformat_minor": 2
}

{
 "cells": [
  {
   "cell_type": "code",
   "execution_count": 1,
   "metadata": {
    "collapsed": true
   },
   "outputs": [],
   "source": [
    "import numpy as np\n",
    "import pandas as pd"
   ]
  },
  {
   "cell_type": "code",
   "execution_count": 2,
   "metadata": {
    "collapsed": true
   },
   "outputs": [],
   "source": [
    "import requests, bs4\n",
    "from datetime import datetime\n",
    "import math"
   ]
  },
  {
   "cell_type": "code",
   "execution_count": 3,
   "metadata": {
    "collapsed": true
   },
   "outputs": [],
   "source": [
    "dataset = pd.read_csv('data.csv')"
   ]
  },
  {
   "cell_type": "code",
   "execution_count": 4,
   "metadata": {},
   "outputs": [
    {
     "data": {
      "text/html": [
       "<div>\n",
       "<style scoped>\n",
       "    .dataframe tbody tr th:only-of-type {\n",
       "        vertical-align: middle;\n",
       "    }\n",
       "\n",
       "    .dataframe tbody tr th {\n",
       "        vertical-align: top;\n",
       "    }\n",
       "\n",
       "    .dataframe thead th {\n",
       "        text-align: right;\n",
       "    }\n",
       "</style>\n",
       "<table border=\"1\" class=\"dataframe\">\n",
       "  <thead>\n",
       "    <tr style=\"text-align: right;\">\n",
       "      <th></th>\n",
       "      <th>URL</th>\n",
       "      <th>Label</th>\n",
       "    </tr>\n",
       "  </thead>\n",
       "  <tbody>\n",
       "    <tr>\n",
       "      <th>0</th>\n",
       "      <td>https://nih.gov</td>\n",
       "      <td>0</td>\n",
       "    </tr>\n",
       "    <tr>\n",
       "      <th>1</th>\n",
       "      <td>http://www.perfumemart.com/</td>\n",
       "      <td>0</td>\n",
       "    </tr>\n",
       "    <tr>\n",
       "      <th>2</th>\n",
       "      <td>http://chronopost-service-enligne.net/56123s/r...</td>\n",
       "      <td>1</td>\n",
       "    </tr>\n",
       "    <tr>\n",
       "      <th>3</th>\n",
       "      <td>http://wvw.micloudappel.security-updates-myacc...</td>\n",
       "      <td>1</td>\n",
       "    </tr>\n",
       "    <tr>\n",
       "      <th>4</th>\n",
       "      <td>http://colach8x.beget.tech/likon/mqnger/drwx/P...</td>\n",
       "      <td>1</td>\n",
       "    </tr>\n",
       "  </tbody>\n",
       "</table>\n",
       "</div>"
      ],
      "text/plain": [
       "                                                 URL  Label\n",
       "0                                    https://nih.gov      0\n",
       "1                        http://www.perfumemart.com/      0\n",
       "2  http://chronopost-service-enligne.net/56123s/r...      1\n",
       "3  http://wvw.micloudappel.security-updates-myacc...      1\n",
       "4  http://colach8x.beget.tech/likon/mqnger/drwx/P...      1"
      ]
     },
     "execution_count": 4,
     "metadata": {},
     "output_type": "execute_result"
    }
   ],
   "source": [
    "dataset.head()"
   ]
  },
  {
   "cell_type": "code",
   "execution_count": 5,
   "metadata": {},
   "outputs": [
    {
     "data": {
      "text/plain": [
       "8000"
      ]
     },
     "execution_count": 5,
     "metadata": {},
     "output_type": "execute_result"
    }
   ],
   "source": [
    "len(dataset)"
   ]
  },
  {
   "cell_type": "code",
   "execution_count": null,
   "metadata": {
    "collapsed": true
   },
   "outputs": [],
   "source": [
    "def dailyTimeOnSite(x):\n",
    "    try:\n",
    "        res = requests.get('https://www.alexa.com/siteinfo/'+x)\n",
    "        if res.status_code == requests.codes.ok:\n",
    "            websitesoup = bs4.BeautifulSoup(res.text)\n",
    "            elems = websitesoup.select('strong')\n",
    "            elem = elems[0]\n",
    "            if elem.getText() == \"We don't have enough data to rank this website.\":\n",
    "                return -1\n",
    "            else:\n",
    "                elem = elems[51]\n",
    "                t = elem.getText().strip()\n",
    "                h = int(t[:-3])\n",
    "                m = int(t[-2:])\n",
    "                return ((h*60) + m)\n",
    "        else:\n",
    "            return -1\n",
    "    except:\n",
    "        return -1"
   ]
  },
  {
   "cell_type": "code",
   "execution_count": null,
   "metadata": {
    "scrolled": false
   },
   "outputs": [
    {
     "name": "stdout",
     "output_type": "stream",
     "text": [
      "0 236\n",
      "1 -1\n",
      "2 -1\n",
      "3 -1\n",
      "4 -1\n",
      "5 -1\n",
      "6 -1\n",
      "7 -1\n",
      "8 -1\n",
      "9 -1\n",
      "10 -1\n",
      "11 -1\n",
      "12 -1\n",
      "13 -1\n",
      "14 -1\n",
      "15 -1\n",
      "16 -1\n",
      "17 -1\n",
      "18 -1\n",
      "19 -1\n",
      "20 -1\n",
      "21 -1\n",
      "22 -1\n",
      "23 -1\n",
      "24 -1\n",
      "25 -1\n",
      "26 -1\n",
      "27 -1\n",
      "28 -1\n",
      "29 -1\n",
      "30 -1\n",
      "31 -1\n"
     ]
    }
   ],
   "source": [
    "dtos = []\n",
    "for i, x in enumerate(dataset['URL']):\n",
    "    dtos.append(dailyTimeOnSite(x))\n",
    "    print(i, dtos[-1])"
   ]
  },
  {
   "cell_type": "code",
   "execution_count": null,
   "metadata": {},
   "outputs": [],
   "source": [
    "print(len(dtos))\n",
    "print(dtos)"
   ]
  },
  {
   "cell_type": "code",
   "execution_count": null,
   "metadata": {
    "collapsed": true
   },
   "outputs": [],
   "source": [
    "dataset['dailyTimeOnSite'] = dtos"
   ]
  },
  {
   "cell_type": "code",
   "execution_count": null,
   "metadata": {},
   "outputs": [],
   "source": [
    "dataset.head()"
   ]
  },
  {
   "cell_type": "code",
   "execution_count": null,
   "metadata": {
    "collapsed": true
   },
   "outputs": [],
   "source": [
    "dataset.to_csv('DailyTimeOnSite.csv', index=False)"
   ]
  },
  {
   "cell_type": "code",
   "execution_count": null,
   "metadata": {
    "collapsed": true
   },
   "outputs": [],
   "source": []
  }
 ],
 "metadata": {
  "kernelspec": {
   "display_name": "Python 3",
   "language": "python",
   "name": "python3"
  },
  "language_info": {
   "codemirror_mode": {
    "name": "ipython",
    "version": 3
   },
   "file_extension": ".py",
   "mimetype": "text/x-python",
   "name": "python",
   "nbconvert_exporter": "python",
   "pygments_lexer": "ipython3",
   "version": "3.5.4"
  }
 },
 "nbformat": 4,
 "nbformat_minor": 2
}

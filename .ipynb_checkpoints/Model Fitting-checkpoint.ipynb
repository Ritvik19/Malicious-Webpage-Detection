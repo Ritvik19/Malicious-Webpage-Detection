{
 "cells": [
  {
   "cell_type": "markdown",
   "metadata": {},
   "source": [
    "# Libraries"
   ]
  },
  {
   "cell_type": "code",
   "execution_count": 1,
   "metadata": {
    "ExecuteTime": {
     "end_time": "2019-06-12T12:11:35.138493Z",
     "start_time": "2019-06-12T12:11:30.569400Z"
    }
   },
   "outputs": [],
   "source": [
    "import numpy as np\n",
    "import pandas as pd\n",
    "\n",
    "import warnings\n",
    "warnings.filterwarnings(\"ignore\")"
   ]
  },
  {
   "cell_type": "markdown",
   "metadata": {},
   "source": [
    "# Data"
   ]
  },
  {
   "cell_type": "code",
   "execution_count": 2,
   "metadata": {
    "ExecuteTime": {
     "end_time": "2019-06-12T12:11:35.256695Z",
     "start_time": "2019-06-12T12:11:35.142541Z"
    }
   },
   "outputs": [],
   "source": [
    "dataset = pd.read_csv('featureset.csv')"
   ]
  },
  {
   "cell_type": "code",
   "execution_count": 3,
   "metadata": {
    "ExecuteTime": {
     "end_time": "2019-06-12T12:11:35.310141Z",
     "start_time": "2019-06-12T12:11:35.259689Z"
    }
   },
   "outputs": [],
   "source": [
    "testset = pd.read_csv('testset.csv')"
   ]
  },
  {
   "cell_type": "code",
   "execution_count": 4,
   "metadata": {
    "ExecuteTime": {
     "end_time": "2019-06-12T12:11:35.452858Z",
     "start_time": "2019-06-12T12:11:35.314128Z"
    }
   },
   "outputs": [
    {
     "data": {
      "text/html": [
       "<div>\n",
       "<style scoped>\n",
       "    .dataframe tbody tr th:only-of-type {\n",
       "        vertical-align: middle;\n",
       "    }\n",
       "\n",
       "    .dataframe tbody tr th {\n",
       "        vertical-align: top;\n",
       "    }\n",
       "\n",
       "    .dataframe thead th {\n",
       "        text-align: right;\n",
       "    }\n",
       "</style>\n",
       "<table border=\"1\" class=\"dataframe\">\n",
       "  <thead>\n",
       "    <tr style=\"text-align: right;\">\n",
       "      <th></th>\n",
       "      <th>URL</th>\n",
       "      <th>Label</th>\n",
       "      <th>Domain Registration Length</th>\n",
       "      <th>Search Traffic</th>\n",
       "      <th>Bounce Rate</th>\n",
       "      <th>Total Sites Linking in</th>\n",
       "      <th>Alexa Rank</th>\n",
       "      <th>Daily Views per Visitor</th>\n",
       "      <th>Daily Time on Site</th>\n",
       "      <th>Length</th>\n",
       "      <th>Is IP</th>\n",
       "      <th>Count @</th>\n",
       "      <th>Count Double Slash</th>\n",
       "      <th>Count Hyphen</th>\n",
       "      <th>Count Dots</th>\n",
       "      <th>Count Delimeters</th>\n",
       "      <th>Count Subdirectory</th>\n",
       "      <th>Count Queries</th>\n",
       "    </tr>\n",
       "  </thead>\n",
       "  <tbody>\n",
       "    <tr>\n",
       "      <th>0</th>\n",
       "      <td>https://nih.gov</td>\n",
       "      <td>0</td>\n",
       "      <td>-1</td>\n",
       "      <td>72.9</td>\n",
       "      <td>57.3</td>\n",
       "      <td>134142</td>\n",
       "      <td>8.849558e-03</td>\n",
       "      <td>3.17</td>\n",
       "      <td>237</td>\n",
       "      <td>15</td>\n",
       "      <td>0</td>\n",
       "      <td>0</td>\n",
       "      <td>1</td>\n",
       "      <td>0</td>\n",
       "      <td>1</td>\n",
       "      <td>0</td>\n",
       "      <td>2</td>\n",
       "      <td>1</td>\n",
       "    </tr>\n",
       "    <tr>\n",
       "      <th>1</th>\n",
       "      <td>http://www.perfumemart.com/</td>\n",
       "      <td>0</td>\n",
       "      <td>-1</td>\n",
       "      <td>-1.0</td>\n",
       "      <td>50.0</td>\n",
       "      <td>-1</td>\n",
       "      <td>1.925435e-07</td>\n",
       "      <td>-1.00</td>\n",
       "      <td>-1</td>\n",
       "      <td>27</td>\n",
       "      <td>0</td>\n",
       "      <td>0</td>\n",
       "      <td>1</td>\n",
       "      <td>0</td>\n",
       "      <td>2</td>\n",
       "      <td>0</td>\n",
       "      <td>3</td>\n",
       "      <td>1</td>\n",
       "    </tr>\n",
       "    <tr>\n",
       "      <th>2</th>\n",
       "      <td>http://chronopost-service-enligne.net/56123s/r...</td>\n",
       "      <td>1</td>\n",
       "      <td>-1</td>\n",
       "      <td>-1.0</td>\n",
       "      <td>-1.0</td>\n",
       "      <td>-1</td>\n",
       "      <td>-1.000000e+00</td>\n",
       "      <td>-1.00</td>\n",
       "      <td>-1</td>\n",
       "      <td>116</td>\n",
       "      <td>0</td>\n",
       "      <td>0</td>\n",
       "      <td>1</td>\n",
       "      <td>2</td>\n",
       "      <td>1</td>\n",
       "      <td>0</td>\n",
       "      <td>8</td>\n",
       "      <td>1</td>\n",
       "    </tr>\n",
       "    <tr>\n",
       "      <th>3</th>\n",
       "      <td>http://wvw.micloudappel.security-updates-myacc...</td>\n",
       "      <td>1</td>\n",
       "      <td>-1</td>\n",
       "      <td>-1.0</td>\n",
       "      <td>-1.0</td>\n",
       "      <td>-1</td>\n",
       "      <td>-1.000000e+00</td>\n",
       "      <td>-1.00</td>\n",
       "      <td>-1</td>\n",
       "      <td>75</td>\n",
       "      <td>0</td>\n",
       "      <td>0</td>\n",
       "      <td>1</td>\n",
       "      <td>2</td>\n",
       "      <td>3</td>\n",
       "      <td>0</td>\n",
       "      <td>5</td>\n",
       "      <td>1</td>\n",
       "    </tr>\n",
       "    <tr>\n",
       "      <th>4</th>\n",
       "      <td>http://colach8x.beget.tech/likon/mqnger/drwx/P...</td>\n",
       "      <td>1</td>\n",
       "      <td>4</td>\n",
       "      <td>5.1</td>\n",
       "      <td>45.7</td>\n",
       "      <td>7352</td>\n",
       "      <td>5.198586e-05</td>\n",
       "      <td>5.76</td>\n",
       "      <td>697</td>\n",
       "      <td>139</td>\n",
       "      <td>0</td>\n",
       "      <td>0</td>\n",
       "      <td>1</td>\n",
       "      <td>0</td>\n",
       "      <td>3</td>\n",
       "      <td>3</td>\n",
       "      <td>11</td>\n",
       "      <td>1</td>\n",
       "    </tr>\n",
       "  </tbody>\n",
       "</table>\n",
       "</div>"
      ],
      "text/plain": [
       "                                                 URL  Label  \\\n",
       "0                                    https://nih.gov      0   \n",
       "1                        http://www.perfumemart.com/      0   \n",
       "2  http://chronopost-service-enligne.net/56123s/r...      1   \n",
       "3  http://wvw.micloudappel.security-updates-myacc...      1   \n",
       "4  http://colach8x.beget.tech/likon/mqnger/drwx/P...      1   \n",
       "\n",
       "   Domain Registration Length  Search Traffic  Bounce Rate  \\\n",
       "0                          -1            72.9         57.3   \n",
       "1                          -1            -1.0         50.0   \n",
       "2                          -1            -1.0         -1.0   \n",
       "3                          -1            -1.0         -1.0   \n",
       "4                           4             5.1         45.7   \n",
       "\n",
       "   Total Sites Linking in    Alexa Rank  Daily Views per Visitor  \\\n",
       "0                  134142  8.849558e-03                     3.17   \n",
       "1                      -1  1.925435e-07                    -1.00   \n",
       "2                      -1 -1.000000e+00                    -1.00   \n",
       "3                      -1 -1.000000e+00                    -1.00   \n",
       "4                    7352  5.198586e-05                     5.76   \n",
       "\n",
       "   Daily Time on Site  Length  Is IP  Count @  Count Double Slash  \\\n",
       "0                 237      15      0        0                   1   \n",
       "1                  -1      27      0        0                   1   \n",
       "2                  -1     116      0        0                   1   \n",
       "3                  -1      75      0        0                   1   \n",
       "4                 697     139      0        0                   1   \n",
       "\n",
       "   Count Hyphen  Count Dots  Count Delimeters  Count Subdirectory   \\\n",
       "0             0           1                 0                    2   \n",
       "1             0           2                 0                    3   \n",
       "2             2           1                 0                    8   \n",
       "3             2           3                 0                    5   \n",
       "4             0           3                 3                   11   \n",
       "\n",
       "   Count Queries   \n",
       "0               1  \n",
       "1               1  \n",
       "2               1  \n",
       "3               1  \n",
       "4               1  "
      ]
     },
     "execution_count": 4,
     "metadata": {},
     "output_type": "execute_result"
    }
   ],
   "source": [
    "dataset.head()"
   ]
  },
  {
   "cell_type": "code",
   "execution_count": 5,
   "metadata": {
    "ExecuteTime": {
     "end_time": "2019-06-12T12:11:35.576068Z",
     "start_time": "2019-06-12T12:11:35.457644Z"
    }
   },
   "outputs": [
    {
     "data": {
      "text/html": [
       "<div>\n",
       "<style scoped>\n",
       "    .dataframe tbody tr th:only-of-type {\n",
       "        vertical-align: middle;\n",
       "    }\n",
       "\n",
       "    .dataframe tbody tr th {\n",
       "        vertical-align: top;\n",
       "    }\n",
       "\n",
       "    .dataframe thead th {\n",
       "        text-align: right;\n",
       "    }\n",
       "</style>\n",
       "<table border=\"1\" class=\"dataframe\">\n",
       "  <thead>\n",
       "    <tr style=\"text-align: right;\">\n",
       "      <th></th>\n",
       "      <th>URL</th>\n",
       "      <th>Domain Registration Length</th>\n",
       "      <th>Search Traffic</th>\n",
       "      <th>Bounce Rate</th>\n",
       "      <th>Total Sites Linking in</th>\n",
       "      <th>Alexa Rank</th>\n",
       "      <th>Daily Views per Visitor</th>\n",
       "      <th>Daily Time on Site</th>\n",
       "      <th>Length</th>\n",
       "      <th>Is IP</th>\n",
       "      <th>Count @</th>\n",
       "      <th>Count Double Slash</th>\n",
       "      <th>Count Hyphen</th>\n",
       "      <th>Count Dots</th>\n",
       "      <th>Count Delimeters</th>\n",
       "      <th>Count Subdirectory</th>\n",
       "      <th>Count Queries</th>\n",
       "      <th>Label</th>\n",
       "    </tr>\n",
       "  </thead>\n",
       "  <tbody>\n",
       "    <tr>\n",
       "      <th>0</th>\n",
       "      <td>https://www.office.com</td>\n",
       "      <td>20</td>\n",
       "      <td>22.6</td>\n",
       "      <td>58.6</td>\n",
       "      <td>7285</td>\n",
       "      <td>0.019608</td>\n",
       "      <td>2.52</td>\n",
       "      <td>201</td>\n",
       "      <td>22</td>\n",
       "      <td>0</td>\n",
       "      <td>0</td>\n",
       "      <td>1</td>\n",
       "      <td>0</td>\n",
       "      <td>2</td>\n",
       "      <td>0</td>\n",
       "      <td>2</td>\n",
       "      <td>1</td>\n",
       "      <td>0</td>\n",
       "    </tr>\n",
       "    <tr>\n",
       "      <th>1</th>\n",
       "      <td>https://www.google.de</td>\n",
       "      <td>-1</td>\n",
       "      <td>5.3</td>\n",
       "      <td>37.3</td>\n",
       "      <td>52993</td>\n",
       "      <td>0.016129</td>\n",
       "      <td>5.27</td>\n",
       "      <td>240</td>\n",
       "      <td>21</td>\n",
       "      <td>0</td>\n",
       "      <td>0</td>\n",
       "      <td>1</td>\n",
       "      <td>0</td>\n",
       "      <td>2</td>\n",
       "      <td>0</td>\n",
       "      <td>2</td>\n",
       "      <td>1</td>\n",
       "      <td>0</td>\n",
       "    </tr>\n",
       "    <tr>\n",
       "      <th>2</th>\n",
       "      <td>https://www.tribunnews.com</td>\n",
       "      <td>9</td>\n",
       "      <td>75.0</td>\n",
       "      <td>49.7</td>\n",
       "      <td>39300</td>\n",
       "      <td>0.027027</td>\n",
       "      <td>2.65</td>\n",
       "      <td>261</td>\n",
       "      <td>26</td>\n",
       "      <td>0</td>\n",
       "      <td>0</td>\n",
       "      <td>1</td>\n",
       "      <td>0</td>\n",
       "      <td>2</td>\n",
       "      <td>0</td>\n",
       "      <td>2</td>\n",
       "      <td>1</td>\n",
       "      <td>0</td>\n",
       "    </tr>\n",
       "    <tr>\n",
       "      <th>3</th>\n",
       "      <td>https://www.microsoftonline.com</td>\n",
       "      <td>18</td>\n",
       "      <td>1.2</td>\n",
       "      <td>47.2</td>\n",
       "      <td>1106</td>\n",
       "      <td>0.030303</td>\n",
       "      <td>1.91</td>\n",
       "      <td>73</td>\n",
       "      <td>31</td>\n",
       "      <td>0</td>\n",
       "      <td>0</td>\n",
       "      <td>1</td>\n",
       "      <td>0</td>\n",
       "      <td>2</td>\n",
       "      <td>0</td>\n",
       "      <td>2</td>\n",
       "      <td>1</td>\n",
       "      <td>0</td>\n",
       "    </tr>\n",
       "    <tr>\n",
       "      <th>4</th>\n",
       "      <td>https://www.imdb.com</td>\n",
       "      <td>27</td>\n",
       "      <td>57.9</td>\n",
       "      <td>41.5</td>\n",
       "      <td>214337</td>\n",
       "      <td>0.020000</td>\n",
       "      <td>4.07</td>\n",
       "      <td>209</td>\n",
       "      <td>20</td>\n",
       "      <td>0</td>\n",
       "      <td>0</td>\n",
       "      <td>1</td>\n",
       "      <td>0</td>\n",
       "      <td>2</td>\n",
       "      <td>0</td>\n",
       "      <td>2</td>\n",
       "      <td>1</td>\n",
       "      <td>0</td>\n",
       "    </tr>\n",
       "  </tbody>\n",
       "</table>\n",
       "</div>"
      ],
      "text/plain": [
       "                               URL  Domain Registration Length  \\\n",
       "0           https://www.office.com                          20   \n",
       "1            https://www.google.de                          -1   \n",
       "2       https://www.tribunnews.com                           9   \n",
       "3  https://www.microsoftonline.com                          18   \n",
       "4             https://www.imdb.com                          27   \n",
       "\n",
       "   Search Traffic  Bounce Rate  Total Sites Linking in  Alexa Rank  \\\n",
       "0            22.6         58.6                    7285    0.019608   \n",
       "1             5.3         37.3                   52993    0.016129   \n",
       "2            75.0         49.7                   39300    0.027027   \n",
       "3             1.2         47.2                    1106    0.030303   \n",
       "4            57.9         41.5                  214337    0.020000   \n",
       "\n",
       "   Daily Views per Visitor  Daily Time on Site  Length  Is IP  Count @  \\\n",
       "0                     2.52                 201      22      0        0   \n",
       "1                     5.27                 240      21      0        0   \n",
       "2                     2.65                 261      26      0        0   \n",
       "3                     1.91                  73      31      0        0   \n",
       "4                     4.07                 209      20      0        0   \n",
       "\n",
       "   Count Double Slash  Count Hyphen  Count Dots  Count Delimeters  \\\n",
       "0                   1             0           2                 0   \n",
       "1                   1             0           2                 0   \n",
       "2                   1             0           2                 0   \n",
       "3                   1             0           2                 0   \n",
       "4                   1             0           2                 0   \n",
       "\n",
       "   Count Subdirectory   Count Queries   Label  \n",
       "0                    2               1      0  \n",
       "1                    2               1      0  \n",
       "2                    2               1      0  \n",
       "3                    2               1      0  \n",
       "4                    2               1      0  "
      ]
     },
     "execution_count": 5,
     "metadata": {},
     "output_type": "execute_result"
    }
   ],
   "source": [
    "testset.head()"
   ]
  },
  {
   "cell_type": "code",
   "execution_count": 6,
   "metadata": {
    "ExecuteTime": {
     "end_time": "2019-06-12T12:11:35.791101Z",
     "start_time": "2019-06-12T12:11:35.582557Z"
    }
   },
   "outputs": [
    {
     "name": "stdout",
     "output_type": "stream",
     "text": [
      "(8000, 18) (99, 18)\n"
     ]
    }
   ],
   "source": [
    "print(dataset.shape, testset.shape)"
   ]
  },
  {
   "cell_type": "code",
   "execution_count": 7,
   "metadata": {
    "ExecuteTime": {
     "end_time": "2019-06-12T12:11:35.918930Z",
     "start_time": "2019-06-12T12:11:35.797018Z"
    }
   },
   "outputs": [],
   "source": [
    "X = dataset.drop(['URL', 'Label'], axis=1)\n",
    "y = dataset['Label']"
   ]
  },
  {
   "cell_type": "code",
   "execution_count": 8,
   "metadata": {
    "ExecuteTime": {
     "end_time": "2019-06-12T12:11:36.761662Z",
     "start_time": "2019-06-12T12:11:35.926449Z"
    }
   },
   "outputs": [],
   "source": [
    "from sklearn.model_selection import train_test_split"
   ]
  },
  {
   "cell_type": "code",
   "execution_count": 9,
   "metadata": {
    "ExecuteTime": {
     "end_time": "2019-06-12T12:11:36.777525Z",
     "start_time": "2019-06-12T12:11:36.766553Z"
    }
   },
   "outputs": [],
   "source": [
    "X_train, X_eval, y_train, y_eval = train_test_split(X, y, test_size=0.2887, random_state=101)"
   ]
  },
  {
   "cell_type": "code",
   "execution_count": 10,
   "metadata": {
    "ExecuteTime": {
     "end_time": "2019-06-12T12:11:36.931053Z",
     "start_time": "2019-06-12T12:11:36.780486Z"
    }
   },
   "outputs": [],
   "source": [
    "X_test = testset.drop(['URL','Label'], axis=1)\n",
    "y_test = testset['Label']"
   ]
  },
  {
   "cell_type": "markdown",
   "metadata": {},
   "source": [
    "# Machine Learning"
   ]
  },
  {
   "cell_type": "code",
   "execution_count": 11,
   "metadata": {
    "ExecuteTime": {
     "end_time": "2019-06-12T12:11:37.062433Z",
     "start_time": "2019-06-12T12:11:36.934185Z"
    }
   },
   "outputs": [],
   "source": [
    "from sklearn.metrics import classification_report, confusion_matrix\n",
    "from sklearn.model_selection import cross_val_score"
   ]
  },
  {
   "cell_type": "markdown",
   "metadata": {},
   "source": [
    "### Logistic Regression"
   ]
  },
  {
   "cell_type": "code",
   "execution_count": 12,
   "metadata": {
    "ExecuteTime": {
     "end_time": "2019-06-12T12:11:37.275442Z",
     "start_time": "2019-06-12T12:11:37.064760Z"
    }
   },
   "outputs": [],
   "source": [
    "from sklearn.linear_model import LogisticRegression"
   ]
  },
  {
   "cell_type": "code",
   "execution_count": 13,
   "metadata": {
    "ExecuteTime": {
     "end_time": "2019-06-12T12:11:38.082005Z",
     "start_time": "2019-06-12T12:11:37.280245Z"
    }
   },
   "outputs": [
    {
     "name": "stdout",
     "output_type": "stream",
     "text": [
      "0.885 +- (0.010796411440844587)\n",
      "[[45  4]\n",
      " [ 1 49]]\n",
      "              precision    recall  f1-score   support\n",
      "\n",
      "           0       0.98      0.92      0.95        49\n",
      "           1       0.92      0.98      0.95        50\n",
      "\n",
      "   micro avg       0.95      0.95      0.95        99\n",
      "   macro avg       0.95      0.95      0.95        99\n",
      "weighted avg       0.95      0.95      0.95        99\n",
      "\n"
     ]
    }
   ],
   "source": [
    "model = LogisticRegression()\n",
    "accuracies = cross_val_score(estimator=model, X=X, y=y, cv=10)\n",
    "print(\"{} +- ({})\".format(accuracies.mean(), accuracies.std()))\n",
    "\n",
    "LR = LogisticRegression()\n",
    "LR.fit(X, y)\n",
    "y_pred = LR.predict(X_test)\n",
    "print(confusion_matrix(y_test, y_pred))\n",
    "print(classification_report(y_test, y_pred))"
   ]
  },
  {
   "cell_type": "markdown",
   "metadata": {},
   "source": [
    "### Random Forest Classifier"
   ]
  },
  {
   "cell_type": "code",
   "execution_count": 14,
   "metadata": {
    "ExecuteTime": {
     "end_time": "2019-06-12T12:11:38.124407Z",
     "start_time": "2019-06-12T12:11:38.085025Z"
    }
   },
   "outputs": [],
   "source": [
    "from sklearn.ensemble import RandomForestClassifier"
   ]
  },
  {
   "cell_type": "code",
   "execution_count": 15,
   "metadata": {
    "ExecuteTime": {
     "end_time": "2019-06-12T12:11:39.478704Z",
     "start_time": "2019-06-12T12:11:38.127401Z"
    }
   },
   "outputs": [
    {
     "name": "stdout",
     "output_type": "stream",
     "text": [
      "0.9553749999999999 +- (0.004712019206242674)\n",
      "[[48  1]\n",
      " [ 1 49]]\n",
      "              precision    recall  f1-score   support\n",
      "\n",
      "           0       0.98      0.98      0.98        49\n",
      "           1       0.98      0.98      0.98        50\n",
      "\n",
      "   micro avg       0.98      0.98      0.98        99\n",
      "   macro avg       0.98      0.98      0.98        99\n",
      "weighted avg       0.98      0.98      0.98        99\n",
      "\n"
     ]
    }
   ],
   "source": [
    "model = RandomForestClassifier()\n",
    "accuracies = cross_val_score(estimator=model, X=X, y=y, cv=10)\n",
    "print(\"{} +- ({})\".format(accuracies.mean(), accuracies.std()))\n",
    "\n",
    "RFC = RandomForestClassifier()\n",
    "RFC.fit(X, y)\n",
    "y_pred = RFC.predict(X_test)\n",
    "print(confusion_matrix(y_test, y_pred))\n",
    "print(classification_report(y_test, y_pred))"
   ]
  },
  {
   "cell_type": "markdown",
   "metadata": {},
   "source": [
    "# Model Pickeling"
   ]
  },
  {
   "cell_type": "code",
   "execution_count": 16,
   "metadata": {
    "ExecuteTime": {
     "end_time": "2019-06-12T12:11:39.486435Z",
     "start_time": "2019-06-12T12:11:39.481712Z"
    }
   },
   "outputs": [],
   "source": [
    "import pickle"
   ]
  },
  {
   "cell_type": "code",
   "execution_count": 17,
   "metadata": {
    "ExecuteTime": {
     "end_time": "2019-06-12T12:11:39.673807Z",
     "start_time": "2019-06-12T12:11:39.490281Z"
    }
   },
   "outputs": [],
   "source": [
    "pickle.dump(LR, open('LR.pickle', 'wb'))"
   ]
  },
  {
   "cell_type": "code",
   "execution_count": 18,
   "metadata": {
    "ExecuteTime": {
     "end_time": "2019-06-12T12:11:39.887003Z",
     "start_time": "2019-06-12T12:11:39.679752Z"
    }
   },
   "outputs": [],
   "source": [
    "pickle.dump(RFC, open('RFC.pickle', 'wb'))"
   ]
  }
 ],
 "metadata": {
  "kernelspec": {
   "display_name": "Python 3",
   "language": "python",
   "name": "python3"
  },
  "language_info": {
   "codemirror_mode": {
    "name": "ipython",
    "version": 3
   },
   "file_extension": ".py",
   "mimetype": "text/x-python",
   "name": "python",
   "nbconvert_exporter": "python",
   "pygments_lexer": "ipython3",
   "version": "3.7.3"
  },
  "toc": {
   "base_numbering": 1,
   "nav_menu": {},
   "number_sections": true,
   "sideBar": true,
   "skip_h1_title": false,
   "title_cell": "Table of Contents",
   "title_sidebar": "Contents",
   "toc_cell": false,
   "toc_position": {},
   "toc_section_display": true,
   "toc_window_display": false
  },
  "varInspector": {
   "cols": {
    "lenName": 16,
    "lenType": 16,
    "lenVar": 40
   },
   "kernels_config": {
    "python": {
     "delete_cmd_postfix": "",
     "delete_cmd_prefix": "del ",
     "library": "var_list.py",
     "varRefreshCmd": "print(var_dic_list())"
    },
    "r": {
     "delete_cmd_postfix": ") ",
     "delete_cmd_prefix": "rm(",
     "library": "var_list.r",
     "varRefreshCmd": "cat(var_dic_list()) "
    }
   },
   "types_to_exclude": [
    "module",
    "function",
    "builtin_function_or_method",
    "instance",
    "_Feature"
   ],
   "window_display": false
  }
 },
 "nbformat": 4,
 "nbformat_minor": 2
}

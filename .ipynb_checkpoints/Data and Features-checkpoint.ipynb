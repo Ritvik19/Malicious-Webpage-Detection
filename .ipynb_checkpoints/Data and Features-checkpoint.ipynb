{
 "cells": [
  {
   "cell_type": "markdown",
   "metadata": {},
   "source": [
    "# Libraries"
   ]
  },
  {
   "cell_type": "code",
   "execution_count": 1,
   "metadata": {
    "ExecuteTime": {
     "end_time": "2019-06-15T15:59:05.615985Z",
     "start_time": "2019-06-15T15:58:20.970868Z"
    }
   },
   "outputs": [],
   "source": [
    "import numpy as np\n",
    "import pandas as pd\n",
    "import matplotlib.pyplot as plt\n",
    "import seaborn as sns\n",
    "\n",
    "import ipaddress as ip\n",
    "import pickle\n",
    "import requests, bs4\n",
    "from datetime import datetime\n",
    "import re\n",
    "\n",
    "from IPython.display import clear_output\n",
    "pd.options.display.max_columns = 50\n",
    "%matplotlib inline"
   ]
  },
  {
   "cell_type": "markdown",
   "metadata": {},
   "source": [
    "# Data"
   ]
  },
  {
   "cell_type": "code",
   "execution_count": 2,
   "metadata": {
    "ExecuteTime": {
     "end_time": "2019-06-15T16:03:08.578946Z",
     "start_time": "2019-06-15T15:59:05.637329Z"
    }
   },
   "outputs": [
    {
     "name": "stdout",
     "output_type": "stream",
     "text": [
      "8000 /8000\n"
     ]
    }
   ],
   "source": [
    "data = pd.DataFrame()\n",
    "for i in range(1, 8001):\n",
    "    print(i, '/8000')\n",
    "    d = pd.read_json('Metrics/'+str(i)+'.json')\n",
    "    data = pd.concat([data, d], axis=0)\n",
    "    clear_output(wait=True)"
   ]
  },
  {
   "cell_type": "code",
   "execution_count": 3,
   "metadata": {
    "ExecuteTime": {
     "end_time": "2019-06-15T16:03:08.722896Z",
     "start_time": "2019-06-15T16:03:08.711769Z"
    }
   },
   "outputs": [],
   "source": [
    "data = data.reset_index(drop=True)"
   ]
  },
  {
   "cell_type": "code",
   "execution_count": 4,
   "metadata": {
    "ExecuteTime": {
     "end_time": "2019-06-15T16:03:08.986636Z",
     "start_time": "2019-06-15T16:03:08.807705Z"
    }
   },
   "outputs": [
    {
     "data": {
      "text/html": [
       "<div>\n",
       "<style scoped>\n",
       "    .dataframe tbody tr th:only-of-type {\n",
       "        vertical-align: middle;\n",
       "    }\n",
       "\n",
       "    .dataframe tbody tr th {\n",
       "        vertical-align: top;\n",
       "    }\n",
       "\n",
       "    .dataframe thead th {\n",
       "        text-align: right;\n",
       "    }\n",
       "</style>\n",
       "<table border=\"1\" class=\"dataframe\">\n",
       "  <thead>\n",
       "    <tr style=\"text-align: right;\">\n",
       "      <th></th>\n",
       "      <th>URL</th>\n",
       "      <th>Label</th>\n",
       "      <th>domainRegistrationLength</th>\n",
       "      <th>Search Traffic</th>\n",
       "      <th>Bounce Rate</th>\n",
       "      <th>Total Sites Linking in</th>\n",
       "      <th>Alexa Rank</th>\n",
       "      <th>Daily Views per Visitor</th>\n",
       "      <th>Daily Time on Site</th>\n",
       "    </tr>\n",
       "  </thead>\n",
       "  <tbody>\n",
       "    <tr>\n",
       "      <th>0</th>\n",
       "      <td>https://nih.gov</td>\n",
       "      <td>0</td>\n",
       "      <td>{'args': ['list index out of range']}</td>\n",
       "      <td>72.9%</td>\n",
       "      <td>57.3%</td>\n",
       "      <td>134,142</td>\n",
       "      <td>#113</td>\n",
       "      <td>3.17</td>\n",
       "      <td>3:57</td>\n",
       "    </tr>\n",
       "    <tr>\n",
       "      <th>1</th>\n",
       "      <td>http://www.perfumemart.com/</td>\n",
       "      <td>0</td>\n",
       "      <td>{'args': ['list index out of range']}</td>\n",
       "      <td></td>\n",
       "      <td>50%</td>\n",
       "      <td>26</td>\n",
       "      <td>#5,193,632</td>\n",
       "      <td>1:43</td>\n",
       "      <td>50.0%</td>\n",
       "    </tr>\n",
       "    <tr>\n",
       "      <th>2</th>\n",
       "      <td>http://chronopost-service-enligne.net/56123s/r...</td>\n",
       "      <td>1</td>\n",
       "      <td>{'args': ['list index out of range']}</td>\n",
       "      <td>{'args': ['list index out of range']}</td>\n",
       "      <td>{'args': ['list index out of range']}</td>\n",
       "      <td>{'args': ['list index out of range']}</td>\n",
       "      <td>{'args': ['list index out of range']}</td>\n",
       "      <td>{'args': ['list index out of range']}</td>\n",
       "      <td>{'args': ['list index out of range']}</td>\n",
       "    </tr>\n",
       "    <tr>\n",
       "      <th>3</th>\n",
       "      <td>http://wvw.micloudappel.security-updates-myacc...</td>\n",
       "      <td>1</td>\n",
       "      <td>{'args': ['list index out of range']}</td>\n",
       "      <td>{'args': ['list index out of range']}</td>\n",
       "      <td>{'args': ['list index out of range']}</td>\n",
       "      <td>{'args': ['list index out of range']}</td>\n",
       "      <td>{'args': ['list index out of range']}</td>\n",
       "      <td>{'args': ['list index out of range']}</td>\n",
       "      <td>{'args': ['list index out of range']}</td>\n",
       "    </tr>\n",
       "    <tr>\n",
       "      <th>4</th>\n",
       "      <td>http://colach8x.beget.tech/likon/mqnger/drwx/P...</td>\n",
       "      <td>1</td>\n",
       "      <td>4</td>\n",
       "      <td>5.1%</td>\n",
       "      <td>45.7%</td>\n",
       "      <td>7,352</td>\n",
       "      <td>#19,236</td>\n",
       "      <td>5.76</td>\n",
       "      <td>11:37</td>\n",
       "    </tr>\n",
       "  </tbody>\n",
       "</table>\n",
       "</div>"
      ],
      "text/plain": [
       "                                                 URL  Label  \\\n",
       "0                                    https://nih.gov      0   \n",
       "1                        http://www.perfumemart.com/      0   \n",
       "2  http://chronopost-service-enligne.net/56123s/r...      1   \n",
       "3  http://wvw.micloudappel.security-updates-myacc...      1   \n",
       "4  http://colach8x.beget.tech/likon/mqnger/drwx/P...      1   \n",
       "\n",
       "                domainRegistrationLength  \\\n",
       "0  {'args': ['list index out of range']}   \n",
       "1  {'args': ['list index out of range']}   \n",
       "2  {'args': ['list index out of range']}   \n",
       "3  {'args': ['list index out of range']}   \n",
       "4                                      4   \n",
       "\n",
       "                          Search Traffic  \\\n",
       "0                                  72.9%   \n",
       "1                                          \n",
       "2  {'args': ['list index out of range']}   \n",
       "3  {'args': ['list index out of range']}   \n",
       "4                                   5.1%   \n",
       "\n",
       "                             Bounce Rate  \\\n",
       "0                                  57.3%   \n",
       "1                                    50%   \n",
       "2  {'args': ['list index out of range']}   \n",
       "3  {'args': ['list index out of range']}   \n",
       "4                                  45.7%   \n",
       "\n",
       "                  Total Sites Linking in  \\\n",
       "0                                134,142   \n",
       "1                                     26   \n",
       "2  {'args': ['list index out of range']}   \n",
       "3  {'args': ['list index out of range']}   \n",
       "4                                  7,352   \n",
       "\n",
       "                              Alexa Rank  \\\n",
       "0                                   #113   \n",
       "1                             #5,193,632   \n",
       "2  {'args': ['list index out of range']}   \n",
       "3  {'args': ['list index out of range']}   \n",
       "4                                #19,236   \n",
       "\n",
       "                 Daily Views per Visitor  \\\n",
       "0                                   3.17   \n",
       "1                                   1:43   \n",
       "2  {'args': ['list index out of range']}   \n",
       "3  {'args': ['list index out of range']}   \n",
       "4                                   5.76   \n",
       "\n",
       "                      Daily Time on Site  \n",
       "0                                   3:57  \n",
       "1                                  50.0%  \n",
       "2  {'args': ['list index out of range']}  \n",
       "3  {'args': ['list index out of range']}  \n",
       "4                                  11:37  "
      ]
     },
     "execution_count": 4,
     "metadata": {},
     "output_type": "execute_result"
    }
   ],
   "source": [
    "data.head()"
   ]
  },
  {
   "cell_type": "code",
   "execution_count": 5,
   "metadata": {
    "ExecuteTime": {
     "end_time": "2019-06-15T16:03:09.261670Z",
     "start_time": "2019-06-15T16:03:09.109876Z"
    }
   },
   "outputs": [
    {
     "data": {
      "text/html": [
       "<div>\n",
       "<style scoped>\n",
       "    .dataframe tbody tr th:only-of-type {\n",
       "        vertical-align: middle;\n",
       "    }\n",
       "\n",
       "    .dataframe tbody tr th {\n",
       "        vertical-align: top;\n",
       "    }\n",
       "\n",
       "    .dataframe thead th {\n",
       "        text-align: right;\n",
       "    }\n",
       "</style>\n",
       "<table border=\"1\" class=\"dataframe\">\n",
       "  <thead>\n",
       "    <tr style=\"text-align: right;\">\n",
       "      <th></th>\n",
       "      <th>URL</th>\n",
       "      <th>Label</th>\n",
       "      <th>domainRegistrationLength</th>\n",
       "      <th>Search Traffic</th>\n",
       "      <th>Bounce Rate</th>\n",
       "      <th>Total Sites Linking in</th>\n",
       "      <th>Alexa Rank</th>\n",
       "      <th>Daily Views per Visitor</th>\n",
       "      <th>Daily Time on Site</th>\n",
       "    </tr>\n",
       "  </thead>\n",
       "  <tbody>\n",
       "    <tr>\n",
       "      <th>7995</th>\n",
       "      <td>http://www.isca-louis.com/</td>\n",
       "      <td>0</td>\n",
       "      <td>{'args': ['list index out of range']}</td>\n",
       "      <td></td>\n",
       "      <td></td>\n",
       "      <td>{'args': ['list index out of range']}</td>\n",
       "      <td>{'args': ['list index out of range']}</td>\n",
       "      <td>-</td>\n",
       "      <td>-</td>\n",
       "    </tr>\n",
       "    <tr>\n",
       "      <th>7996</th>\n",
       "      <td>https://focus123.cn</td>\n",
       "      <td>0</td>\n",
       "      <td>{'args': ['list index out of range']}</td>\n",
       "      <td>0.1%</td>\n",
       "      <td>17.8%</td>\n",
       "      <td>36</td>\n",
       "      <td>#4,107</td>\n",
       "      <td>4.24</td>\n",
       "      <td>8:13</td>\n",
       "    </tr>\n",
       "    <tr>\n",
       "      <th>7997</th>\n",
       "      <td>https://hdfcbank.com</td>\n",
       "      <td>0</td>\n",
       "      <td>30</td>\n",
       "      <td>23.9%</td>\n",
       "      <td>9.8%</td>\n",
       "      <td>1,460</td>\n",
       "      <td>#338</td>\n",
       "      <td>3.68</td>\n",
       "      <td>5:50</td>\n",
       "    </tr>\n",
       "    <tr>\n",
       "      <th>7998</th>\n",
       "      <td>http://www.ecb.co.uk/ecb/rules/</td>\n",
       "      <td>0</td>\n",
       "      <td>21</td>\n",
       "      <td>37.9%</td>\n",
       "      <td>43.3%</td>\n",
       "      <td>806</td>\n",
       "      <td>#96,328</td>\n",
       "      <td>2.4</td>\n",
       "      <td>2:49</td>\n",
       "    </tr>\n",
       "    <tr>\n",
       "      <th>7999</th>\n",
       "      <td>http://social.msdn.microsoft.com/Forums/</td>\n",
       "      <td>0</td>\n",
       "      <td>30</td>\n",
       "      <td>45.8%</td>\n",
       "      <td>58.8%</td>\n",
       "      <td>399,217</td>\n",
       "      <td>#35</td>\n",
       "      <td>2.54</td>\n",
       "      <td>2:50</td>\n",
       "    </tr>\n",
       "  </tbody>\n",
       "</table>\n",
       "</div>"
      ],
      "text/plain": [
       "                                           URL  Label  \\\n",
       "7995                http://www.isca-louis.com/      0   \n",
       "7996                       https://focus123.cn      0   \n",
       "7997                      https://hdfcbank.com      0   \n",
       "7998           http://www.ecb.co.uk/ecb/rules/      0   \n",
       "7999  http://social.msdn.microsoft.com/Forums/      0   \n",
       "\n",
       "                   domainRegistrationLength Search Traffic Bounce Rate  \\\n",
       "7995  {'args': ['list index out of range']}                              \n",
       "7996  {'args': ['list index out of range']}           0.1%       17.8%   \n",
       "7997                                     30          23.9%        9.8%   \n",
       "7998                                     21          37.9%       43.3%   \n",
       "7999                                     30          45.8%       58.8%   \n",
       "\n",
       "                     Total Sites Linking in  \\\n",
       "7995  {'args': ['list index out of range']}   \n",
       "7996                                     36   \n",
       "7997                                  1,460   \n",
       "7998                                    806   \n",
       "7999                                399,217   \n",
       "\n",
       "                                 Alexa Rank Daily Views per Visitor  \\\n",
       "7995  {'args': ['list index out of range']}                       -   \n",
       "7996                                 #4,107                    4.24   \n",
       "7997                                   #338                    3.68   \n",
       "7998                                #96,328                     2.4   \n",
       "7999                                    #35                    2.54   \n",
       "\n",
       "     Daily Time on Site  \n",
       "7995                  -  \n",
       "7996               8:13  \n",
       "7997               5:50  \n",
       "7998               2:49  \n",
       "7999               2:50  "
      ]
     },
     "execution_count": 5,
     "metadata": {},
     "output_type": "execute_result"
    }
   ],
   "source": [
    "data.tail()"
   ]
  },
  {
   "cell_type": "code",
   "execution_count": 6,
   "metadata": {
    "ExecuteTime": {
     "end_time": "2019-06-15T16:03:09.421987Z",
     "start_time": "2019-06-15T16:03:09.383707Z"
    }
   },
   "outputs": [],
   "source": [
    "data = data.rename(columns = {'domainRegistrationLength': 'Domain Registration Length'}) "
   ]
  },
  {
   "cell_type": "code",
   "execution_count": 7,
   "metadata": {
    "ExecuteTime": {
     "end_time": "2019-06-15T16:03:09.721922Z",
     "start_time": "2019-06-15T16:03:09.525342Z"
    }
   },
   "outputs": [
    {
     "data": {
      "text/plain": [
       "Index(['URL', 'Label', 'Domain Registration Length', 'Search Traffic',\n",
       "       'Bounce Rate', 'Total Sites Linking in', 'Alexa Rank',\n",
       "       'Daily Views per Visitor', 'Daily Time on Site'],\n",
       "      dtype='object')"
      ]
     },
     "execution_count": 7,
     "metadata": {},
     "output_type": "execute_result"
    }
   ],
   "source": [
    "data.columns"
   ]
  },
  {
   "cell_type": "markdown",
   "metadata": {},
   "source": [
    "# Cleaning"
   ]
  },
  {
   "cell_type": "code",
   "execution_count": 8,
   "metadata": {
    "ExecuteTime": {
     "end_time": "2019-06-15T16:04:15.459052Z",
     "start_time": "2019-06-15T16:04:15.431566Z"
    }
   },
   "outputs": [],
   "source": [
    "def drl_cleaner(x):\n",
    "    try:\n",
    "        return int(x)\n",
    "    except:\n",
    "        return -1\n",
    "    \n",
    "data['Domain Registration Length'] = data['Domain Registration Length'].apply(drl_cleaner)"
   ]
  },
  {
   "cell_type": "code",
   "execution_count": 9,
   "metadata": {
    "ExecuteTime": {
     "end_time": "2019-06-15T16:04:15.743899Z",
     "start_time": "2019-06-15T16:04:15.738883Z"
    }
   },
   "outputs": [],
   "source": [
    "#print(data['Domain Registration Length'].unique())"
   ]
  },
  {
   "cell_type": "code",
   "execution_count": 10,
   "metadata": {
    "ExecuteTime": {
     "end_time": "2019-06-15T16:04:16.218112Z",
     "start_time": "2019-06-15T16:04:16.182827Z"
    }
   },
   "outputs": [],
   "source": [
    "def st_br_cleaner(x):\n",
    "    try:\n",
    "        return float(x[:-1])\n",
    "    except:\n",
    "        return -1\n",
    "    \n",
    "\n",
    "data['Search Traffic'] = data['Search Traffic'].apply(st_br_cleaner)\n",
    "data['Bounce Rate'] = data['Bounce Rate'].apply(st_br_cleaner)"
   ]
  },
  {
   "cell_type": "code",
   "execution_count": 11,
   "metadata": {
    "ExecuteTime": {
     "end_time": "2019-06-15T16:04:16.576697Z",
     "start_time": "2019-06-15T16:04:16.442884Z"
    }
   },
   "outputs": [],
   "source": [
    "#print(data['Search Traffic'].unique())\n",
    "#print(data['Bounce Rate'].unique())"
   ]
  },
  {
   "cell_type": "code",
   "execution_count": 12,
   "metadata": {
    "ExecuteTime": {
     "end_time": "2019-06-15T16:04:16.863918Z",
     "start_time": "2019-06-15T16:04:16.804060Z"
    }
   },
   "outputs": [],
   "source": [
    "def tsli_ar_cleaner(x):\n",
    "    try:\n",
    "        return int(x.replace('#', '').replace(',', ''))\n",
    "    except:\n",
    "        return -1\n",
    "    \n",
    "data['Total Sites Linking in'] = data['Total Sites Linking in'].apply(tsli_ar_cleaner)\n",
    "data['Alexa Rank'] = data['Alexa Rank'].apply(tsli_ar_cleaner)\n",
    "data['Alexa Rank'] = data['Alexa Rank'].apply(lambda x: 1/x)\n"
   ]
  },
  {
   "cell_type": "code",
   "execution_count": 13,
   "metadata": {
    "ExecuteTime": {
     "end_time": "2019-06-15T16:04:17.059479Z",
     "start_time": "2019-06-15T16:04:17.054662Z"
    }
   },
   "outputs": [],
   "source": [
    "#print(data['Total Sites Linking in'].unique())\n",
    "#print(data['Alexa Rank'].unique())"
   ]
  },
  {
   "cell_type": "code",
   "execution_count": 14,
   "metadata": {
    "ExecuteTime": {
     "end_time": "2019-06-15T16:04:17.387892Z",
     "start_time": "2019-06-15T16:04:17.368829Z"
    }
   },
   "outputs": [],
   "source": [
    "def dvpv_cleaner(x):\n",
    "    try:\n",
    "        return float(x)\n",
    "    except:\n",
    "        return -1\n",
    "data['Daily Views per Visitor'] = data['Daily Views per Visitor'].apply(dvpv_cleaner)"
   ]
  },
  {
   "cell_type": "code",
   "execution_count": 15,
   "metadata": {
    "ExecuteTime": {
     "end_time": "2019-06-15T16:04:17.767946Z",
     "start_time": "2019-06-15T16:04:17.642594Z"
    }
   },
   "outputs": [],
   "source": [
    "#print(data['Daily Views per Visitor'].unique())"
   ]
  },
  {
   "cell_type": "code",
   "execution_count": 16,
   "metadata": {
    "ExecuteTime": {
     "end_time": "2019-06-15T16:04:18.041386Z",
     "start_time": "2019-06-15T16:04:17.889617Z"
    }
   },
   "outputs": [],
   "source": [
    "def dtos_cleaner(x):\n",
    "    try:\n",
    "        if ':' in x:\n",
    "            a, b = x.split(':')\n",
    "            return int(a)*60+int(b)\n",
    "        else:\n",
    "            return -1\n",
    "    except:\n",
    "        return -1\n",
    "    \n",
    "data['Daily Time on Site'] = data['Daily Time on Site'].apply(dtos_cleaner)"
   ]
  },
  {
   "cell_type": "code",
   "execution_count": 17,
   "metadata": {
    "ExecuteTime": {
     "end_time": "2019-06-15T16:04:18.252870Z",
     "start_time": "2019-06-15T16:04:18.118525Z"
    }
   },
   "outputs": [],
   "source": [
    "# print(data['Daily Time on Site'].unique())"
   ]
  },
  {
   "cell_type": "markdown",
   "metadata": {},
   "source": [
    "# All Features"
   ]
  },
  {
   "cell_type": "markdown",
   "metadata": {},
   "source": [
    "**01. Long URL to Hide the Suspicious Part**\n",
    "\n",
    "Phishers can use long URL to hide the doubtful part in the address bar. For example: \n",
    "http://federmacedoadv.com.br/3f/aze/ab51e2e319e51502f416dbe46b773a5e/?cmd=_home&amp;dispatch=11004d58f5b74f8dc1e7c2e8dd4105e811004d58f5b74f8dc1e7c2e8dd4105e8@phishing.website.html"
   ]
  },
  {
   "cell_type": "code",
   "execution_count": 18,
   "metadata": {
    "ExecuteTime": {
     "end_time": "2019-06-15T16:04:19.211648Z",
     "start_time": "2019-06-15T16:04:19.206661Z"
    }
   },
   "outputs": [],
   "source": [
    "length = lambda x : len(x)"
   ]
  },
  {
   "cell_type": "code",
   "execution_count": 19,
   "metadata": {
    "ExecuteTime": {
     "end_time": "2019-06-15T16:04:19.854503Z",
     "start_time": "2019-06-15T16:04:19.838052Z"
    }
   },
   "outputs": [],
   "source": [
    "data['Length'] = data['URL'].apply(length)"
   ]
  },
  {
   "cell_type": "code",
   "execution_count": 20,
   "metadata": {
    "ExecuteTime": {
     "end_time": "2019-06-15T16:04:21.502206Z",
     "start_time": "2019-06-15T16:04:20.801665Z"
    }
   },
   "outputs": [
    {
     "data": {
      "text/plain": [
       "<matplotlib.axes._subplots.AxesSubplot at 0x21b03b974e0>"
      ]
     },
     "execution_count": 20,
     "metadata": {},
     "output_type": "execute_result"
    },
    {
     "data": {
      "image/png": "[encoded data removed]",
      "text/plain": [
       "<Figure size 432x288 with 1 Axes>"
      ]
     },
     "metadata": {
      "needs_background": "light"
     },
     "output_type": "display_data"
    }
   ],
   "source": [
    "sns.scatterplot(x='Length', y='Label',data=data)"
   ]
  },
  {
   "cell_type": "markdown",
   "metadata": {},
   "source": [
    "**02. Using the IP Address**\n",
    "If an IP address is used as an alternative of the domain name in the URL, such as “http://125.98.3.123/fake.html”, users can be sure that someone is trying to steal their personal information. Sometimes, the IP address is even transformed into hexadecimal code as shown in the following link “http://0x58.0xCC.0xCA.0x62/2/paypal.ca/index.html”. \n",
    "\n",
    "If the domain part has an IP address -> Phishing\n",
    "\n",
    "Otherwise -> Legitimate"
   ]
  },
  {
   "cell_type": "code",
   "execution_count": 21,
   "metadata": {
    "ExecuteTime": {
     "end_time": "2019-06-15T16:04:21.929352Z",
     "start_time": "2019-06-15T16:04:21.923557Z"
    }
   },
   "outputs": [],
   "source": [
    "def isIp(x):\n",
    "    try:\n",
    "        if ip.ip_address(x):\n",
    "            return 1\n",
    "    except Exception as e:\n",
    "        return 0"
   ]
  },
  {
   "cell_type": "code",
   "execution_count": 22,
   "metadata": {
    "ExecuteTime": {
     "end_time": "2019-06-15T16:04:22.394752Z",
     "start_time": "2019-06-15T16:04:22.306927Z"
    }
   },
   "outputs": [],
   "source": [
    "data['Is IP'] = data['URL'].apply(isIp)"
   ]
  },
  {
   "cell_type": "code",
   "execution_count": 23,
   "metadata": {
    "ExecuteTime": {
     "end_time": "2019-06-15T16:04:23.196760Z",
     "start_time": "2019-06-15T16:04:22.631798Z"
    }
   },
   "outputs": [
    {
     "data": {
      "text/plain": [
       "<matplotlib.axes._subplots.AxesSubplot at 0x21b03e9e080>"
      ]
     },
     "execution_count": 23,
     "metadata": {},
     "output_type": "execute_result"
    },
    {
     "data": {
      "image/png": "[encoded data removed]",
      "text/plain": [
       "<Figure size 432x288 with 1 Axes>"
      ]
     },
     "metadata": {
      "needs_background": "light"
     },
     "output_type": "display_data"
    }
   ],
   "source": [
    "sns.scatterplot(x='Is IP', y='Label',data=data)"
   ]
  },
  {
   "cell_type": "markdown",
   "metadata": {},
   "source": [
    "**03. URL’s having “@” Symbol**\n",
    "\n",
    "Using “@” symbol in the URL leads the browser to ignore everything preceding the “@” symbol and the real address often follows the “@” symbol. "
   ]
  },
  {
   "cell_type": "code",
   "execution_count": 24,
   "metadata": {
    "ExecuteTime": {
     "end_time": "2019-06-15T16:04:23.278382Z",
     "start_time": "2019-06-15T16:04:23.272311Z"
    }
   },
   "outputs": [],
   "source": [
    "countAt = lambda x : x.count('@')"
   ]
  },
  {
   "cell_type": "code",
   "execution_count": 25,
   "metadata": {
    "ExecuteTime": {
     "end_time": "2019-06-15T16:04:23.617648Z",
     "start_time": "2019-06-15T16:04:23.599293Z"
    }
   },
   "outputs": [],
   "source": [
    "data['Count @'] = data['URL'].apply(countAt)"
   ]
  },
  {
   "cell_type": "code",
   "execution_count": 26,
   "metadata": {
    "ExecuteTime": {
     "end_time": "2019-06-15T16:04:24.453582Z",
     "start_time": "2019-06-15T16:04:23.865822Z"
    }
   },
   "outputs": [
    {
     "data": {
      "text/plain": [
       "<matplotlib.axes._subplots.AxesSubplot at 0x21b03f141d0>"
      ]
     },
     "execution_count": 26,
     "metadata": {},
     "output_type": "execute_result"
    },
    {
     "data": {
      "image/png": "[encoded data removed]",
      "text/plain": [
       "<Figure size 432x288 with 1 Axes>"
      ]
     },
     "metadata": {
      "needs_background": "light"
     },
     "output_type": "display_data"
    }
   ],
   "source": [
    "sns.scatterplot(x='Count @', y='Label',data=data)"
   ]
  },
  {
   "cell_type": "markdown",
   "metadata": {},
   "source": [
    "**04. Redirecting using //**\n",
    "\n",
    "The existence of “//” within the URL path means that the user will be redirected to another website. An example of such URL’s is: “http://www.legitimate.com//http://www.phishing.com”. We examin the location where the “//” appears. We find that if the URL starts with “HTTP”, that means the “//” should appear in the sixth position. However, if the URL employs “HTTPS” then the “//” should appear in seventh position."
   ]
  },
  {
   "cell_type": "code",
   "execution_count": 27,
   "metadata": {
    "ExecuteTime": {
     "end_time": "2019-06-15T16:04:24.982467Z",
     "start_time": "2019-06-15T16:04:24.977779Z"
    }
   },
   "outputs": [],
   "source": [
    "countDoubleSlash = lambda x : x.count('//')"
   ]
  },
  {
   "cell_type": "code",
   "execution_count": 28,
   "metadata": {
    "ExecuteTime": {
     "end_time": "2019-06-15T16:04:25.401629Z",
     "start_time": "2019-06-15T16:04:25.384271Z"
    }
   },
   "outputs": [],
   "source": [
    "data['Count Double Slash'] = data['URL'].apply(countDoubleSlash)"
   ]
  },
  {
   "cell_type": "code",
   "execution_count": 29,
   "metadata": {
    "ExecuteTime": {
     "end_time": "2019-06-15T16:04:26.590040Z",
     "start_time": "2019-06-15T16:04:25.907468Z"
    }
   },
   "outputs": [
    {
     "data": {
      "text/plain": [
       "<matplotlib.axes._subplots.AxesSubplot at 0x21b03f75940>"
      ]
     },
     "execution_count": 29,
     "metadata": {},
     "output_type": "execute_result"
    },
    {
     "data": {
      "image/png": "[encoded data removed]",
      "text/plain": [
       "<Figure size 432x288 with 1 Axes>"
      ]
     },
     "metadata": {
      "needs_background": "light"
     },
     "output_type": "display_data"
    }
   ],
   "source": [
    "sns.scatterplot(x='Count Double Slash', y='Label',data=data)"
   ]
  },
  {
   "cell_type": "markdown",
   "metadata": {},
   "source": [
    "**05. Adding Prefix or Suffix Separated by (-) to the Domain**\n",
    "\n",
    "The dash symbol is rarely used in legitimate URLs. Phishers tend to add prefixes or suffixes separated by (-) to the domain name so that users feel that they are dealing with a legitimate webpage. For example http://www.Confirme-paypal.com/."
   ]
  },
  {
   "cell_type": "code",
   "execution_count": 30,
   "metadata": {
    "ExecuteTime": {
     "end_time": "2019-06-15T16:04:27.049727Z",
     "start_time": "2019-06-15T16:04:27.043745Z"
    }
   },
   "outputs": [],
   "source": [
    "countHyphen = lambda x : x.count('-')"
   ]
  },
  {
   "cell_type": "code",
   "execution_count": 31,
   "metadata": {
    "ExecuteTime": {
     "end_time": "2019-06-15T16:04:27.553557Z",
     "start_time": "2019-06-15T16:04:27.457883Z"
    }
   },
   "outputs": [],
   "source": [
    "data['Count Hyphen'] = data['URL'].apply(countHyphen)"
   ]
  },
  {
   "cell_type": "code",
   "execution_count": 32,
   "metadata": {
    "ExecuteTime": {
     "end_time": "2019-06-15T16:04:28.253111Z",
     "start_time": "2019-06-15T16:04:27.803035Z"
    }
   },
   "outputs": [
    {
     "data": {
      "text/plain": [
       "<matplotlib.axes._subplots.AxesSubplot at 0x21b03fdacc0>"
      ]
     },
     "execution_count": 32,
     "metadata": {},
     "output_type": "execute_result"
    },
    {
     "data": {
      "image/png": "[encoded data removed]",
      "text/plain": [
       "<Figure size 432x288 with 1 Axes>"
      ]
     },
     "metadata": {
      "needs_background": "light"
     },
     "output_type": "display_data"
    }
   ],
   "source": [
    "sns.scatterplot(x='Count Hyphen', y='Label',data=data)"
   ]
  },
  {
   "cell_type": "markdown",
   "metadata": {},
   "source": [
    "**06. Sub Domain and Multi Sub Domains**\n",
    "\n",
    "Let us assume we have the following link: http://www.hud.ac.uk/students/. A domain name might include the country-code top-level domains (ccTLD), which in our example is “uk”. The “ac” part is shorthand for “academic”, the combined “ac.uk” is called a second-level domain (SLD) and “hud” is the actual name of the domain. To produce a rule for extracting this feature, we firstly have to omit the (www.) from the URL which is in fact a sub domain in itself. Then, we have to remove the (ccTLD) if it exists. Finally, we count the remaining dots. If the number of dots is greater than one, then the URL is classified as “Suspicious” since it has one sub domain. However, if the dots are greater than two, it is classified as “Phishing” since it will have multiple sub domains. Otherwise, if the URL has no sub domains, we will assign “Legitimate” to the feature. \n"
   ]
  },
  {
   "cell_type": "code",
   "execution_count": 33,
   "metadata": {
    "ExecuteTime": {
     "end_time": "2019-06-15T16:04:28.614255Z",
     "start_time": "2019-06-15T16:04:28.609718Z"
    }
   },
   "outputs": [],
   "source": [
    "countDots = lambda x: x.count('.')"
   ]
  },
  {
   "cell_type": "code",
   "execution_count": 34,
   "metadata": {
    "ExecuteTime": {
     "end_time": "2019-06-15T16:04:29.082550Z",
     "start_time": "2019-06-15T16:04:29.063969Z"
    }
   },
   "outputs": [],
   "source": [
    "data['Count Dots'] = data['URL'].apply(countDots)"
   ]
  },
  {
   "cell_type": "code",
   "execution_count": 35,
   "metadata": {
    "ExecuteTime": {
     "end_time": "2019-06-15T16:04:29.873003Z",
     "start_time": "2019-06-15T16:04:29.400524Z"
    }
   },
   "outputs": [
    {
     "data": {
      "text/plain": [
       "<matplotlib.axes._subplots.AxesSubplot at 0x21b040392b0>"
      ]
     },
     "execution_count": 35,
     "metadata": {},
     "output_type": "execute_result"
    },
    {
     "data": {
      "image/png": "[encoded data removed]",
      "text/plain": [
       "<Figure size 432x288 with 1 Axes>"
      ]
     },
     "metadata": {
      "needs_background": "light"
     },
     "output_type": "display_data"
    }
   ],
   "source": [
    "sns.scatterplot(x='Count Dots', y='Label',data=data)"
   ]
  },
  {
   "cell_type": "markdown",
   "metadata": {},
   "source": [
    "**07. num of delimeters:**\n",
    "```    \n",
    "[';','_','?','=','&']\n",
    "```"
   ]
  },
  {
   "cell_type": "code",
   "execution_count": 36,
   "metadata": {
    "ExecuteTime": {
     "end_time": "2019-06-15T16:04:30.461532Z",
     "start_time": "2019-06-15T16:04:30.454539Z"
    }
   },
   "outputs": [],
   "source": [
    "def countDelimeters(x):\n",
    "    count = 0\n",
    "    for delim in [';','_','?','=','&']:\n",
    "        count += x.count(delim)\n",
    "    return count"
   ]
  },
  {
   "cell_type": "code",
   "execution_count": 37,
   "metadata": {
    "ExecuteTime": {
     "end_time": "2019-06-15T16:04:30.831009Z",
     "start_time": "2019-06-15T16:04:30.791182Z"
    }
   },
   "outputs": [],
   "source": [
    "data['Count Delimeters'] = data['URL'].apply(countDelimeters)"
   ]
  },
  {
   "cell_type": "code",
   "execution_count": 38,
   "metadata": {
    "ExecuteTime": {
     "end_time": "2019-06-15T16:04:31.966421Z",
     "start_time": "2019-06-15T16:04:31.311988Z"
    }
   },
   "outputs": [
    {
     "data": {
      "text/plain": [
       "<matplotlib.axes._subplots.AxesSubplot at 0x21b0409bc18>"
      ]
     },
     "execution_count": 38,
     "metadata": {},
     "output_type": "execute_result"
    },
    {
     "data": {
      "image/png": "[encoded data removed]",
      "text/plain": [
       "<Figure size 432x288 with 1 Axes>"
      ]
     },
     "metadata": {
      "needs_background": "light"
     },
     "output_type": "display_data"
    }
   ],
   "source": [
    "sns.scatterplot(x='Count Delimeters', y='Label',data=data)"
   ]
  },
  {
   "cell_type": "markdown",
   "metadata": {
    "ExecuteTime": {
     "end_time": "2019-06-12T09:59:58.441757Z",
     "start_time": "2019-06-12T09:59:58.435776Z"
    }
   },
   "source": [
    "**08. subdirectory count**"
   ]
  },
  {
   "cell_type": "code",
   "execution_count": 39,
   "metadata": {
    "ExecuteTime": {
     "end_time": "2019-06-15T16:04:32.827698Z",
     "start_time": "2019-06-15T16:04:32.822710Z"
    }
   },
   "outputs": [],
   "source": [
    "countSubDirectory = lambda x : len(re.findall(r\"[\\s/\\s]\", x))"
   ]
  },
  {
   "cell_type": "code",
   "execution_count": 40,
   "metadata": {
    "ExecuteTime": {
     "end_time": "2019-06-15T16:04:33.160334Z",
     "start_time": "2019-06-15T16:04:33.118336Z"
    }
   },
   "outputs": [],
   "source": [
    "data['Count Subdirectory'] = data['URL'].apply(countSubDirectory)"
   ]
  },
  {
   "cell_type": "code",
   "execution_count": 41,
   "metadata": {
    "ExecuteTime": {
     "end_time": "2019-06-15T16:04:34.415275Z",
     "start_time": "2019-06-15T16:04:33.900656Z"
    }
   },
   "outputs": [
    {
     "data": {
      "text/plain": [
       "<matplotlib.axes._subplots.AxesSubplot at 0x21b040e8400>"
      ]
     },
     "execution_count": 41,
     "metadata": {},
     "output_type": "execute_result"
    },
    {
     "data": {
      "image/png": "[encoded data removed]",
      "text/plain": [
       "<Figure size 432x288 with 1 Axes>"
      ]
     },
     "metadata": {
      "needs_background": "light"
     },
     "output_type": "display_data"
    }
   ],
   "source": [
    "sns.scatterplot(x='Count Subdirectory', y='Label',data=data)"
   ]
  },
  {
   "cell_type": "markdown",
   "metadata": {},
   "source": [
    "**09. query count**"
   ]
  },
  {
   "cell_type": "code",
   "execution_count": 42,
   "metadata": {
    "ExecuteTime": {
     "end_time": "2019-06-15T16:04:35.731426Z",
     "start_time": "2019-06-15T16:04:35.725402Z"
    }
   },
   "outputs": [],
   "source": [
    "def countQueries(x):\n",
    "    if not x:\n",
    "        return 0\n",
    "    else:\n",
    "        return len(x.split('&'))"
   ]
  },
  {
   "cell_type": "code",
   "execution_count": 43,
   "metadata": {
    "ExecuteTime": {
     "end_time": "2019-06-15T16:04:36.168653Z",
     "start_time": "2019-06-15T16:04:36.149620Z"
    }
   },
   "outputs": [],
   "source": [
    "data['Count Queries'] = data['URL'].apply(countQueries)"
   ]
  },
  {
   "cell_type": "code",
   "execution_count": 44,
   "metadata": {
    "ExecuteTime": {
     "end_time": "2019-06-15T16:04:37.454164Z",
     "start_time": "2019-06-15T16:04:36.757859Z"
    }
   },
   "outputs": [
    {
     "data": {
      "text/plain": [
       "<matplotlib.axes._subplots.AxesSubplot at 0x21b040e8c18>"
      ]
     },
     "execution_count": 44,
     "metadata": {},
     "output_type": "execute_result"
    },
    {
     "data": {
      "image/png": "[encoded data removed]",
      "text/plain": [
       "<Figure size 432x288 with 1 Axes>"
      ]
     },
     "metadata": {
      "needs_background": "light"
     },
     "output_type": "display_data"
    }
   ],
   "source": [
    "sns.scatterplot(x='Count Queries', y='Label',data=data)"
   ]
  },
  {
   "cell_type": "markdown",
   "metadata": {},
   "source": [
    "**10. Domain Registration Length**\n",
    "\n",
    "Based on the fact that a phishing website lives for a short period of time, we believe that trustworthy domains are regularly paid for several years in advance. In our dataset, we find that the longest fraudulent domains have been used for one year only. "
   ]
  },
  {
   "cell_type": "code",
   "execution_count": 45,
   "metadata": {
    "ExecuteTime": {
     "end_time": "2019-06-15T16:04:38.870745Z",
     "start_time": "2019-06-15T16:04:38.391723Z"
    }
   },
   "outputs": [
    {
     "data": {
      "text/plain": [
       "<matplotlib.axes._subplots.AxesSubplot at 0x21b0417e940>"
      ]
     },
     "execution_count": 45,
     "metadata": {},
     "output_type": "execute_result"
    },
    {
     "data": {
      "image/png": "[encoded data removed]",
      "text/plain": [
       "<Figure size 432x288 with 1 Axes>"
      ]
     },
     "metadata": {
      "needs_background": "light"
     },
     "output_type": "display_data"
    }
   ],
   "source": [
    "sns.scatterplot(x='Domain Registration Length', y='Label',data=data)"
   ]
  },
  {
   "cell_type": "markdown",
   "metadata": {},
   "source": [
    "**11. Alexa Global Rank**\n",
    "\n",
    "Inverse of Alexa Global Rank"
   ]
  },
  {
   "cell_type": "code",
   "execution_count": 46,
   "metadata": {
    "ExecuteTime": {
     "end_time": "2019-06-15T16:04:40.254979Z",
     "start_time": "2019-06-15T16:04:39.758498Z"
    }
   },
   "outputs": [
    {
     "data": {
      "text/plain": [
       "<matplotlib.axes._subplots.AxesSubplot at 0x21b041d2358>"
      ]
     },
     "execution_count": 46,
     "metadata": {},
     "output_type": "execute_result"
    },
    {
     "data": {
      "image/png": "[encoded data removed]",
      "text/plain": [
       "<Figure size 432x288 with 1 Axes>"
      ]
     },
     "metadata": {
      "needs_background": "light"
     },
     "output_type": "display_data"
    }
   ],
   "source": [
    "sns.scatterplot(x='Alexa Rank', y='Label',data=data)"
   ]
  },
  {
   "cell_type": "markdown",
   "metadata": {},
   "source": [
    "**12. Bounce Rate**\n",
    "\n",
    "The percentage of visitors to a particular website who navigate away from the site after viewing only one page."
   ]
  },
  {
   "cell_type": "code",
   "execution_count": 47,
   "metadata": {
    "ExecuteTime": {
     "end_time": "2019-06-15T16:04:42.970660Z",
     "start_time": "2019-06-15T16:04:42.512671Z"
    }
   },
   "outputs": [
    {
     "data": {
      "text/plain": [
       "<matplotlib.axes._subplots.AxesSubplot at 0x21b04233438>"
      ]
     },
     "execution_count": 47,
     "metadata": {},
     "output_type": "execute_result"
    },
    {
     "data": {
      "image/png": "[encoded data removed]",
      "text/plain": [
       "<Figure size 432x288 with 1 Axes>"
      ]
     },
     "metadata": {
      "needs_background": "light"
     },
     "output_type": "display_data"
    }
   ],
   "source": [
    "sns.scatterplot(x='Bounce Rate', y='Label',data=data)"
   ]
  },
  {
   "cell_type": "markdown",
   "metadata": {},
   "source": [
    "**13. Daily Page Views Per Visitor**"
   ]
  },
  {
   "cell_type": "code",
   "execution_count": 48,
   "metadata": {
    "ExecuteTime": {
     "end_time": "2019-06-15T16:05:14.632400Z",
     "start_time": "2019-06-15T16:05:14.187608Z"
    }
   },
   "outputs": [
    {
     "data": {
      "text/plain": [
       "<matplotlib.axes._subplots.AxesSubplot at 0x21b04290d68>"
      ]
     },
     "execution_count": 48,
     "metadata": {},
     "output_type": "execute_result"
    },
    {
     "data": {
      "image/png": "[encoded data removed]",
      "text/plain": [
       "<Figure size 432x288 with 1 Axes>"
      ]
     },
     "metadata": {
      "needs_background": "light"
     },
     "output_type": "display_data"
    }
   ],
   "source": [
    "sns.scatterplot(x='Daily Views per Visitor', y='Label',data=data)"
   ]
  },
  {
   "cell_type": "markdown",
   "metadata": {},
   "source": [
    "**14. Daily Time on Site**"
   ]
  },
  {
   "cell_type": "code",
   "execution_count": 49,
   "metadata": {
    "ExecuteTime": {
     "end_time": "2019-06-15T16:06:18.017003Z",
     "start_time": "2019-06-15T16:06:17.568485Z"
    }
   },
   "outputs": [
    {
     "data": {
      "text/plain": [
       "<matplotlib.axes._subplots.AxesSubplot at 0x21b042fe940>"
      ]
     },
     "execution_count": 49,
     "metadata": {},
     "output_type": "execute_result"
    },
    {
     "data": {
      "image/png": "[encoded data removed]",
      "text/plain": [
       "<Figure size 432x288 with 1 Axes>"
      ]
     },
     "metadata": {
      "needs_background": "light"
     },
     "output_type": "display_data"
    }
   ],
   "source": [
    "sns.scatterplot(x='Daily Time on Site', y='Label',data=data)"
   ]
  },
  {
   "cell_type": "markdown",
   "metadata": {
    "ExecuteTime": {
     "end_time": "2019-06-12T10:04:46.814803Z",
     "start_time": "2019-06-12T10:04:46.805855Z"
    }
   },
   "source": [
    "**15. Search Visits**\n",
    "\n",
    "What percentage of visits to this site come from a search engine?"
   ]
  },
  {
   "cell_type": "code",
   "execution_count": 50,
   "metadata": {
    "ExecuteTime": {
     "end_time": "2019-06-15T16:06:48.871404Z",
     "start_time": "2019-06-15T16:06:48.443786Z"
    }
   },
   "outputs": [
    {
     "data": {
      "text/plain": [
       "<matplotlib.axes._subplots.AxesSubplot at 0x21b053036a0>"
      ]
     },
     "execution_count": 50,
     "metadata": {},
     "output_type": "execute_result"
    },
    {
     "data": {
      "image/png": "[encoded data removed]",
      "text/plain": [
       "<Figure size 432x288 with 1 Axes>"
      ]
     },
     "metadata": {
      "needs_background": "light"
     },
     "output_type": "display_data"
    }
   ],
   "source": [
    "sns.scatterplot(x='Search Traffic', y='Label',data=data)"
   ]
  },
  {
   "cell_type": "markdown",
   "metadata": {},
   "source": [
    "**16. Total Sites Linking in**\n",
    "\n",
    "The number of websites in Alexa's crawl of the web that link to a given website."
   ]
  },
  {
   "cell_type": "code",
   "execution_count": 51,
   "metadata": {
    "ExecuteTime": {
     "end_time": "2019-06-15T16:07:11.946767Z",
     "start_time": "2019-06-15T16:07:11.490504Z"
    }
   },
   "outputs": [
    {
     "data": {
      "text/plain": [
       "<matplotlib.axes._subplots.AxesSubplot at 0x21b0538ec50>"
      ]
     },
     "execution_count": 51,
     "metadata": {},
     "output_type": "execute_result"
    },
    {
     "data": {
      "image/png": "[encoded data removed]",
      "text/plain": [
       "<Figure size 432x288 with 1 Axes>"
      ]
     },
     "metadata": {
      "needs_background": "light"
     },
     "output_type": "display_data"
    }
   ],
   "source": [
    "sns.scatterplot(x='Total Sites Linking in', y='Label',data=data)"
   ]
  },
  {
   "cell_type": "markdown",
   "metadata": {},
   "source": [
    "**Function to generate features**"
   ]
  },
  {
   "cell_type": "code",
   "execution_count": 52,
   "metadata": {
    "ExecuteTime": {
     "end_time": "2019-06-15T16:07:24.550834Z",
     "start_time": "2019-06-15T16:07:24.545850Z"
    }
   },
   "outputs": [],
   "source": [
    "to_datetime = lambda x : datetime(int(x[:4]), int(x[5:7]), int(x[8:]))"
   ]
  },
  {
   "cell_type": "code",
   "execution_count": 53,
   "metadata": {
    "ExecuteTime": {
     "end_time": "2019-06-15T16:07:25.346116Z",
     "start_time": "2019-06-15T16:07:25.302420Z"
    }
   },
   "outputs": [],
   "source": [
    "def websiteInfo(website):\n",
    "\n",
    "    website_details = {'URL': [website]}\n",
    "    try:\n",
    "        url = 'https://www.whois.com/whois/'+website\n",
    "        res = requests.get(url)\n",
    "        if res.status_code == requests.codes.ok:\n",
    "            ressoup = bs4.BeautifulSoup(res.text, 'lxml')\n",
    "            elems = ressoup.select('.df-value')\n",
    "            try:\n",
    "                regOn = to_datetime(elems[2].getText())\n",
    "                expOn = to_datetime(elems[3].getText())\n",
    "                duration = (expOn - regOn).total_seconds()//31556926\n",
    "                website_details['Domain Registration Length'] = [int(duration)]\n",
    "            except Exception as e:\n",
    "                website_details['Domain Registration Length'] = [-1]\n",
    "        else:\n",
    "            website_details['Domain Registration Length'] = [-1]\n",
    "    except Exception as e:\n",
    "        website_details['Domain Registration Length'] = [-1]\n",
    "        \n",
    "    try:\n",
    "        url = 'https://www.alexa.com/siteinfo/'+website\n",
    "        res = requests.get(url)\n",
    "        if res.status_code == requests.codes.ok:\n",
    "            ressoup = bs4.BeautifulSoup(res.text, 'lxml')\n",
    "\n",
    "            elems = ressoup.select('.num.purple')\n",
    "            try:\n",
    "                website_details['Search Traffic'] = [st_br_cleaner(elems[0].getText())]\n",
    "            except Exception as e:\n",
    "                website_details['Search Traffic'] = [-1]\n",
    "            try:\n",
    "                website_details['Bounce Rate'] = [st_br_cleaner(elems[1].getText())]\n",
    "            except Exception as e:\n",
    "                website_details['Bounce Rate'] = [-1]\n",
    "\n",
    "            elems = ressoup.select('.big.data')\n",
    "            try:\n",
    "                website_details['Total Sites Linking in'] = [tsli_ar_cleaner(elems[1].getText())]\n",
    "            except Exception as e:\n",
    "                website_details['Total Sites Linking in'] = [-1]\n",
    "\n",
    "            elems = ressoup.select('.rankmini-rank')\n",
    "            try:\n",
    "                website_details['Alexa Rank'] = [tsli_ar_cleaner(elems[0].getText().strip())**-1]\n",
    "            except Exception as e:\n",
    "                website_details['Alexa Rank'] = [-1]\n",
    "\n",
    "            elems = ressoup.select('.small.data')\n",
    "            try:\n",
    "                website_details['Daily Views per Visitor'] = [dvpv_cleaner(elems[1].getText().strip().split()[0])]\n",
    "            except Exception as e:\n",
    "                website_details['Daily Views per Visitor'] = [-1]\n",
    "            try:\n",
    "                website_details['Daily Time on Site'] = [dtos_cleaner(elems[2].getText().strip().split()[0])]\n",
    "            except Exception as e:\n",
    "                website_details['Daily Time on Site'] = [-1]\n",
    "        else:\n",
    "            website_details['Search Traffic'] = [-1]\n",
    "            website_details['Bounce Rate'] = [-1]\n",
    "            website_details['Total Sites Linking in'] = [-1]\n",
    "            website_details['Alexa Rank'] = [-1]\n",
    "            website_details['Daily Views per Visitor'] = [-1]\n",
    "            website_details['Daily Time on Site'] = [-1]\n",
    "    except Exception as e:\n",
    "        website_details['Search Traffic'] = [-1]\n",
    "        website_details['Bounce Rate'] = [-1]\n",
    "        website_details['Total Sites Linking in'] = [-1]\n",
    "        website_details['Alexa Rank'] = [-1]\n",
    "        website_details['Daily Views per Visitor'] = [-1]\n",
    "        website_details['Daily Time on Site'] = [-1]\n",
    "    \n",
    "    website_details['Length'] = [length(website)]\n",
    "    website_details['Is IP'] = [isIp(website)]\n",
    "    website_details['Count @'] = [countAt(website)]\n",
    "    website_details['Count Double Slash'] = [countDoubleSlash(website)]\n",
    "    website_details['Count Hyphen'] = [countHyphen(website)]\n",
    "    website_details['Count Dots'] = [countDots(website)]\n",
    "    website_details['Count Delimeters'] = [countDelimeters(website)]\n",
    "    website_details['Count Subdirectory '] = [countSubDirectory(website)]\n",
    "    website_details['Count Queries '] = [countQueries(website)]\n",
    "#     print(website_details)\n",
    "    website_details = pd.DataFrame(website_details)\n",
    "\n",
    "    return website_details"
   ]
  },
  {
   "cell_type": "code",
   "execution_count": null,
   "metadata": {},
   "outputs": [],
   "source": []
  },
  {
   "cell_type": "code",
   "execution_count": 54,
   "metadata": {
    "ExecuteTime": {
     "end_time": "2019-06-15T16:07:28.331190Z",
     "start_time": "2019-06-15T16:07:27.827327Z"
    }
   },
   "outputs": [],
   "source": [
    "data.to_csv('featureset.csv', index=False)"
   ]
  },
  {
   "cell_type": "code",
   "execution_count": 55,
   "metadata": {
    "ExecuteTime": {
     "end_time": "2019-06-15T16:07:31.067042Z",
     "start_time": "2019-06-15T16:07:29.929765Z"
    }
   },
   "outputs": [
    {
     "data": {
      "text/plain": [
       "<matplotlib.axes._subplots.AxesSubplot at 0x21b053ce588>"
      ]
     },
     "execution_count": 55,
     "metadata": {},
     "output_type": "execute_result"
    },
    {
     "data": {
      "image/png": "[encoded data removed]",
      "text/plain": [
       "<Figure size 864x864 with 2 Axes>"
      ]
     },
     "metadata": {
      "needs_background": "light"
     },
     "output_type": "display_data"
    }
   ],
   "source": [
    "fig, ax = plt.subplots(figsize=(12,12))\n",
    "sns.heatmap(data.corr(), cmap='coolwarm', ax=ax)"
   ]
  },
  {
   "cell_type": "code",
   "execution_count": null,
   "metadata": {},
   "outputs": [],
   "source": []
  }
 ],
 "metadata": {
  "kernelspec": {
   "display_name": "Python 3",
   "language": "python",
   "name": "python3"
  },
  "language_info": {
   "codemirror_mode": {
    "name": "ipython",
    "version": 3
   },
   "file_extension": ".py",
   "mimetype": "text/x-python",
   "name": "python",
   "nbconvert_exporter": "python",
   "pygments_lexer": "ipython3",
   "version": "3.7.3"
  },
  "toc": {
   "base_numbering": 1,
   "nav_menu": {},
   "number_sections": true,
   "sideBar": true,
   "skip_h1_title": false,
   "title_cell": "Table of Contents",
   "title_sidebar": "Contents",
   "toc_cell": false,
   "toc_position": {},
   "toc_section_display": true,
   "toc_window_display": false
  },
  "varInspector": {
   "cols": {
    "lenName": 16,
    "lenType": 16,
    "lenVar": 40
   },
   "kernels_config": {
    "python": {
     "delete_cmd_postfix": "",
     "delete_cmd_prefix": "del ",
     "library": "var_list.py",
     "varRefreshCmd": "print(var_dic_list())"
    },
    "r": {
     "delete_cmd_postfix": ") ",
     "delete_cmd_prefix": "rm(",
     "library": "var_list.r",
     "varRefreshCmd": "cat(var_dic_list()) "
    }
   },
   "types_to_exclude": [
    "module",
    "function",
    "builtin_function_or_method",
    "instance",
    "_Feature"
   ],
   "window_display": false
  }
 },
 "nbformat": 4,
 "nbformat_minor": 2
}

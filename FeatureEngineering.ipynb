{
 "cells": [
  {
   "cell_type": "markdown",
   "metadata": {},
   "source": [
    "# Importing Libraries"
   ]
  },
  {
   "cell_type": "code",
   "execution_count": 1,
   "metadata": {
    "collapsed": true
   },
   "outputs": [],
   "source": [
    "import numpy as np\n",
    "import pandas as pd\n",
    "import matplotlib.pyplot as plt\n",
    "import seaborn as sns"
   ]
  },
  {
   "cell_type": "code",
   "execution_count": 2,
   "metadata": {
    "collapsed": true
   },
   "outputs": [],
   "source": [
    "import ipaddress as ip\n",
    "import pickle\n",
    "import requests, bs4\n",
    "from datetime import datetime\n",
    "import re"
   ]
  },
  {
   "cell_type": "code",
   "execution_count": 3,
   "metadata": {
    "collapsed": true
   },
   "outputs": [],
   "source": [
    "pd.options.display.max_columns = 50\n",
    "\n",
    "%matplotlib inline"
   ]
  },
  {
   "cell_type": "markdown",
   "metadata": {},
   "source": [
    "# Importing Data and EDA"
   ]
  },
  {
   "cell_type": "code",
   "execution_count": 4,
   "metadata": {
    "collapsed": true
   },
   "outputs": [],
   "source": [
    "dataset = pd.read_csv('data.csv')"
   ]
  },
  {
   "cell_type": "code",
   "execution_count": 5,
   "metadata": {},
   "outputs": [
    {
     "data": {
      "text/html": [
       "<div>\n",
       "<style scoped>\n",
       "    .dataframe tbody tr th:only-of-type {\n",
       "        vertical-align: middle;\n",
       "    }\n",
       "\n",
       "    .dataframe tbody tr th {\n",
       "        vertical-align: top;\n",
       "    }\n",
       "\n",
       "    .dataframe thead th {\n",
       "        text-align: right;\n",
       "    }\n",
       "</style>\n",
       "<table border=\"1\" class=\"dataframe\">\n",
       "  <thead>\n",
       "    <tr style=\"text-align: right;\">\n",
       "      <th></th>\n",
       "      <th>URL</th>\n",
       "      <th>Label</th>\n",
       "    </tr>\n",
       "  </thead>\n",
       "  <tbody>\n",
       "    <tr>\n",
       "      <th>0</th>\n",
       "      <td>https://nih.gov</td>\n",
       "      <td>0</td>\n",
       "    </tr>\n",
       "    <tr>\n",
       "      <th>1</th>\n",
       "      <td>http://www.perfumemart.com/</td>\n",
       "      <td>0</td>\n",
       "    </tr>\n",
       "    <tr>\n",
       "      <th>2</th>\n",
       "      <td>http://chronopost-service-enligne.net/56123s/r...</td>\n",
       "      <td>1</td>\n",
       "    </tr>\n",
       "    <tr>\n",
       "      <th>3</th>\n",
       "      <td>http://wvw.micloudappel.security-updates-myacc...</td>\n",
       "      <td>1</td>\n",
       "    </tr>\n",
       "    <tr>\n",
       "      <th>4</th>\n",
       "      <td>http://colach8x.beget.tech/likon/mqnger/drwx/P...</td>\n",
       "      <td>1</td>\n",
       "    </tr>\n",
       "  </tbody>\n",
       "</table>\n",
       "</div>"
      ],
      "text/plain": [
       "                                                 URL  Label\n",
       "0                                    https://nih.gov      0\n",
       "1                        http://www.perfumemart.com/      0\n",
       "2  http://chronopost-service-enligne.net/56123s/r...      1\n",
       "3  http://wvw.micloudappel.security-updates-myacc...      1\n",
       "4  http://colach8x.beget.tech/likon/mqnger/drwx/P...      1"
      ]
     },
     "execution_count": 5,
     "metadata": {},
     "output_type": "execute_result"
    }
   ],
   "source": [
    "dataset.head()"
   ]
  },
  {
   "cell_type": "code",
   "execution_count": 6,
   "metadata": {},
   "outputs": [
    {
     "data": {
      "text/plain": [
       "8000"
      ]
     },
     "execution_count": 6,
     "metadata": {},
     "output_type": "execute_result"
    }
   ],
   "source": [
    "len(dataset)"
   ]
  },
  {
   "cell_type": "code",
   "execution_count": 7,
   "metadata": {},
   "outputs": [
    {
     "data": {
      "text/plain": [
       "0    4080\n",
       "1    3920\n",
       "Name: Label, dtype: int64"
      ]
     },
     "execution_count": 7,
     "metadata": {},
     "output_type": "execute_result"
    }
   ],
   "source": [
    "dataset['Label'].value_counts()"
   ]
  },
  {
   "cell_type": "markdown",
   "metadata": {
    "collapsed": true
   },
   "source": [
    "# Feature Generartion"
   ]
  },
  {
   "cell_type": "markdown",
   "metadata": {},
   "source": [
    "##### Long URL to Hide the Suspicious Part\n",
    "Phishers can use long URL to hide the doubtful part in the address bar. For example: \n",
    "http://federmacedoadv.com.br/3f/aze/ab51e2e319e51502f416dbe46b773a5e/?cmd=_home&amp;dispatch=11004d58f5b74f8dc1e7c2e8dd4105e811004d58f5b74f8dc1e7c2e8dd4105e8@phishing.website.html"
   ]
  },
  {
   "cell_type": "code",
   "execution_count": 8,
   "metadata": {
    "collapsed": true
   },
   "outputs": [],
   "source": [
    "length = lambda x : len(x)"
   ]
  },
  {
   "cell_type": "markdown",
   "metadata": {},
   "source": [
    "##### 02. Using the IP Address\n",
    "If an IP address is used as an alternative of the domain name in the URL, such as “http://125.98.3.123/fake.html”, users can be sure that someone is trying to steal their personal information. Sometimes, the IP address is even transformed into hexadecimal code as shown in the following link “http://0x58.0xCC.0xCA.0x62/2/paypal.ca/index.html”. \n",
    "\n",
    "If the domain part has an IP address -> Phishing\n",
    "\n",
    "Otherwise -> Legitimate"
   ]
  },
  {
   "cell_type": "code",
   "execution_count": 9,
   "metadata": {
    "collapsed": true
   },
   "outputs": [],
   "source": [
    "def isIp(x):\n",
    "    try:\n",
    "        if ip.ip_address(x):\n",
    "            return 1\n",
    "    except:\n",
    "        return 0"
   ]
  },
  {
   "cell_type": "markdown",
   "metadata": {},
   "source": [
    "##### 03. URL’s having “@” Symbol\n",
    "Using “@” symbol in the URL leads the browser to ignore everything preceding the “@” symbol and the real address often follows the “@” symbol. "
   ]
  },
  {
   "cell_type": "code",
   "execution_count": 10,
   "metadata": {
    "collapsed": true
   },
   "outputs": [],
   "source": [
    "countAt = lambda x : x.count('@')"
   ]
  },
  {
   "cell_type": "markdown",
   "metadata": {},
   "source": [
    "##### 04. Redirecting using “//”\n",
    "The existence of “//” within the URL path means that the user will be redirected to another website. An example of such URL’s is: “http://www.legitimate.com//http://www.phishing.com”. We examin the location where the “//” appears. We find that if the URL starts with “HTTP”, that means the “//” should appear in the sixth position. However, if the URL employs “HTTPS” then the “//” should appear in seventh position.\n"
   ]
  },
  {
   "cell_type": "code",
   "execution_count": 11,
   "metadata": {
    "collapsed": true
   },
   "outputs": [],
   "source": [
    "countDoubleSlash = lambda x : x.count('//')"
   ]
  },
  {
   "cell_type": "markdown",
   "metadata": {},
   "source": [
    "##### 05. Adding Prefix or Suffix Separated by (-) to the Domain\n",
    "The dash symbol is rarely used in legitimate URLs. Phishers tend to add prefixes or suffixes separated by (-) to the domain name so that users feel that they are dealing with a legitimate webpage. For example http://www.Confirme-paypal.com/.\n"
   ]
  },
  {
   "cell_type": "code",
   "execution_count": 12,
   "metadata": {
    "collapsed": true
   },
   "outputs": [],
   "source": [
    "countHyphen = lambda x : x.count('-')"
   ]
  },
  {
   "cell_type": "markdown",
   "metadata": {},
   "source": [
    "##### 06. Sub Domain and Multi Sub Domains\n",
    "Let us assume we have the following link: http://www.hud.ac.uk/students/. A domain name might include the country-code top-level domains (ccTLD), which in our example is “uk”. The “ac” part is shorthand for “academic”, the combined “ac.uk” is called a second-level domain (SLD) and “hud” is the actual name of the domain. To produce a rule for extracting this feature, we firstly have to omit the (www.) from the URL which is in fact a sub domain in itself. Then, we have to remove the (ccTLD) if it exists. Finally, we count the remaining dots. If the number of dots is greater than one, then the URL is classified as “Suspicious” since it has one sub domain. However, if the dots are greater than two, it is classified as “Phishing” since it will have multiple sub domains. Otherwise, if the URL has no sub domains, we will assign “Legitimate” to the feature. \n"
   ]
  },
  {
   "cell_type": "code",
   "execution_count": 13,
   "metadata": {
    "collapsed": true
   },
   "outputs": [],
   "source": [
    "countDots = lambda x: x.count('.')"
   ]
  },
  {
   "cell_type": "markdown",
   "metadata": {},
   "source": [
    "##### 07. num of delimeters:\n",
    "[';','_','?','=','&']"
   ]
  },
  {
   "cell_type": "code",
   "execution_count": 14,
   "metadata": {
    "collapsed": true
   },
   "outputs": [],
   "source": [
    "def countDelimeters(x):\n",
    "    count = 0\n",
    "    for delim in [';','_','?','=','&']:\n",
    "        count += x.count(delim)\n",
    "    return count"
   ]
  },
  {
   "cell_type": "markdown",
   "metadata": {},
   "source": [
    "##### 08. subdirectory count"
   ]
  },
  {
   "cell_type": "code",
   "execution_count": 15,
   "metadata": {
    "collapsed": true
   },
   "outputs": [],
   "source": [
    "countSubDirectory = lambda x : len(re.findall(r\"[\\s/\\s]\", x))"
   ]
  },
  {
   "cell_type": "markdown",
   "metadata": {},
   "source": [
    "##### 09. query count"
   ]
  },
  {
   "cell_type": "code",
   "execution_count": 16,
   "metadata": {
    "collapsed": true
   },
   "outputs": [],
   "source": [
    "def countQueries(x):\n",
    "    if not x:\n",
    "        return 0\n",
    "    else:\n",
    "        return len(x.split('&'))"
   ]
  },
  {
   "cell_type": "markdown",
   "metadata": {},
   "source": [
    "##### 10. Domain Registration Length\n",
    "Based on the fact that a phishing website lives for a short period of time, we believe that trustworthy domains are regularly paid for several years in advance. In our dataset, we find that the longest fraudulent domains have been used for one year only. \n"
   ]
  },
  {
   "cell_type": "code",
   "execution_count": 17,
   "metadata": {
    "collapsed": true
   },
   "outputs": [],
   "source": [
    "to_datetime = lambda x : datetime(int(x.getText()[:4]), int(x.getText()[5:7]), int(x.getText()[8:]))"
   ]
  },
  {
   "cell_type": "code",
   "execution_count": 18,
   "metadata": {
    "collapsed": true
   },
   "outputs": [],
   "source": [
    "def domainRegistrationLength(x):\n",
    "    try:\n",
    "        res = requests.get('https://www.whois.com/whois/'+x)\n",
    "        if res.status_code == requests.codes.ok:\n",
    "            websitesoup = bs4.BeautifulSoup(res.text)\n",
    "            elems = websitesoup.select('.df-value')\n",
    "            regOn, expOn = elems[2:4]\n",
    "            regOn = to_datetime(regOn)\n",
    "            expOn = to_datetime(expOn)\n",
    "            duration = (expOn - regOn).total_seconds()//31556926\n",
    "            return int(duration)\n",
    "        else:\n",
    "            return -1\n",
    "    except:\n",
    "        return -1"
   ]
  },
  {
   "cell_type": "markdown",
   "metadata": {},
   "source": [
    "##### 11. Alexa Global Rank"
   ]
  },
  {
   "cell_type": "code",
   "execution_count": 19,
   "metadata": {
    "collapsed": true
   },
   "outputs": [],
   "source": [
    "def alexaGlobalRank(x):\n",
    "    try:\n",
    "        res = requests.get('https://www.alexa.com/siteinfo/'+x)\n",
    "        if res.status_code == requests.codes.ok:\n",
    "            websitesoup = bs4.BeautifulSoup(res.text)\n",
    "            elems = websitesoup.select('strong')\n",
    "            elem = elems[0]\n",
    "            if elem.getText() == \"We don't have enough data to rank this website.\":\n",
    "                return -1\n",
    "            else:\n",
    "                elem = elems[6]\n",
    "                return int(elem.getText().strip())**(-1)\n",
    "        else:\n",
    "            return -1\n",
    "    except:\n",
    "        return -1"
   ]
  },
  {
   "cell_type": "markdown",
   "metadata": {},
   "source": [
    "##### 12. Bounce Rate\n",
    "The percentage of visitors to a particular website who navigate away from the site after viewing only one page."
   ]
  },
  {
   "cell_type": "code",
   "execution_count": 20,
   "metadata": {
    "collapsed": true
   },
   "outputs": [],
   "source": [
    "def bounceRate(x):\n",
    "    try:\n",
    "        res = requests.get('https://www.alexa.com/siteinfo/'+x)\n",
    "        if res.status_code == requests.codes.ok:\n",
    "            websitesoup = bs4.BeautifulSoup(res.text)\n",
    "            elems = websitesoup.select('strong')\n",
    "            elem = elems[0]\n",
    "            if elem.getText() == \"We don't have enough data to rank this website.\":\n",
    "                return -1\n",
    "            else:\n",
    "                elem = elems[49]\n",
    "                return float(elem.getText().strip()[:-1])\n",
    "        else:\n",
    "            return -1\n",
    "    except:\n",
    "        return -1"
   ]
  },
  {
   "cell_type": "markdown",
   "metadata": {},
   "source": [
    "##### 13. Daily Page Views Per Visitor"
   ]
  },
  {
   "cell_type": "code",
   "execution_count": 21,
   "metadata": {
    "collapsed": true
   },
   "outputs": [],
   "source": [
    "def dailyPageViewsPerVisitor(x):\n",
    "    try:\n",
    "        res = requests.get('https://www.alexa.com/siteinfo/'+x)\n",
    "        if res.status_code == requests.codes.ok:\n",
    "            websitesoup = bs4.BeautifulSoup(res.text)\n",
    "            elems = websitesoup.select('strong')\n",
    "            elem = elems[0]\n",
    "            if elem.getText() == \"We don't have enough data to rank this website.\":\n",
    "                return -1\n",
    "            else:\n",
    "                elem = elems[50]\n",
    "                return float(elem.getText().strip())\n",
    "        else:\n",
    "            return -1\n",
    "    except:\n",
    "        return -1"
   ]
  },
  {
   "cell_type": "markdown",
   "metadata": {},
   "source": [
    "##### 14. Daily Time on Site"
   ]
  },
  {
   "cell_type": "code",
   "execution_count": 22,
   "metadata": {
    "collapsed": true
   },
   "outputs": [],
   "source": [
    "def dailyTimeOnSite(x):\n",
    "    try:\n",
    "        res = requests.get('https://www.alexa.com/siteinfo/'+x)\n",
    "        if res.status_code == requests.codes.ok:\n",
    "            websitesoup = bs4.BeautifulSoup(res.text)\n",
    "            elems = websitesoup.select('strong')\n",
    "            elem = elems[0]\n",
    "            if elem.getText() == \"We don't have enough data to rank this website.\":\n",
    "                return -1\n",
    "            else:\n",
    "                elem = elems[51]\n",
    "                t = elem.getText().strip()\n",
    "                h = int(t[:-3])\n",
    "                m = int(t[-2:])\n",
    "                return ((h*60) + m)\n",
    "        else:\n",
    "            return -1\n",
    "    except:\n",
    "        return -1"
   ]
  },
  {
   "cell_type": "markdown",
   "metadata": {},
   "source": [
    "##### 15. Search Visits\n",
    "What percentage of visits to this site come from a search engine?"
   ]
  },
  {
   "cell_type": "code",
   "execution_count": 23,
   "metadata": {
    "collapsed": true
   },
   "outputs": [],
   "source": [
    "def searchVisits(x):\n",
    "    try:\n",
    "        res = requests.get('https://www.alexa.com/siteinfo/'+x)\n",
    "        if res.status_code == requests.codes.ok:\n",
    "            websitesoup = bs4.BeautifulSoup(res.text)\n",
    "            elems = websitesoup.select('strong')\n",
    "            elem = elems[0]\n",
    "            if elem.getText() == \"We don't have enough data to rank this website.\":\n",
    "                return -1\n",
    "            else:\n",
    "                elem = elems[56]\n",
    "                return float(elem.getText().strip()[:-1])\n",
    "        else:\n",
    "            return -1\n",
    "    except:\n",
    "        return -1"
   ]
  },
  {
   "cell_type": "markdown",
   "metadata": {},
   "source": [
    "##### 16. Total Sites Linking in\n",
    "The number of websites in Alexa's crawl of the web that link to a given website."
   ]
  },
  {
   "cell_type": "code",
   "execution_count": 24,
   "metadata": {
    "collapsed": true
   },
   "outputs": [],
   "source": [
    "def totalSitesLinkingIn(x):\n",
    "    try:\n",
    "        res = requests.get('https://www.alexa.com/siteinfo/'+x)\n",
    "        if res.status_code == requests.codes.ok:\n",
    "            websitesoup = bs4.BeautifulSoup(res.text)\n",
    "            elems = websitesoup.select('strong')\n",
    "            elem = elems[0]\n",
    "            if elem.getText() == \"We don't have enough data to rank this website.\":\n",
    "                return -1\n",
    "            else:\n",
    "                elem = elems[64]\n",
    "                return float(elem.getText().strip().replace(',', ''))\n",
    "        else:\n",
    "            return -1\n",
    "    except:\n",
    "        return -1"
   ]
  },
  {
   "cell_type": "code",
   "execution_count": 25,
   "metadata": {
    "collapsed": true
   },
   "outputs": [],
   "source": [
    "def generateFeatures(x):\n",
    "    features = []\n",
    "    features.append(length(x))\n",
    "    features.append(isIp(x))\n",
    "    features.append(countAt(x))\n",
    "    features.append(countDoubleSlash(x))\n",
    "    features.append(countHyphen(x))\n",
    "    features.append(countDots(x))\n",
    "    features.append(countDelimeters(x))\n",
    "    features.append(countSubDirectory(x))\n",
    "    features.append(countQueries(x))\n",
    "    features.append(domainRegistrationLength(x))\n",
    "    features.append(alexaGlobalRank(x))\n",
    "    features.append(bounceRate(x))\n",
    "    features.append(dailyPageViewsPerVisitor(x))\n",
    "    features.append(dailyTimeOnSite(x))\n",
    "    features.append(searchVisits(x))\n",
    "    features.append(totalSitesLinkingIn(x))    \n",
    "    return features"
   ]
  },
  {
   "cell_type": "code",
   "execution_count": null,
   "metadata": {
    "collapsed": true
   },
   "outputs": [],
   "source": []
  },
  {
   "cell_type": "code",
   "execution_count": 26,
   "metadata": {
    "collapsed": true
   },
   "outputs": [],
   "source": [
    "drl = pd.read_csv('DomainRegistrationLength.csv')"
   ]
  },
  {
   "cell_type": "code",
   "execution_count": 27,
   "metadata": {
    "collapsed": true
   },
   "outputs": [],
   "source": [
    "agr = pd.read_csv('AlexaGlobalRank.csv')"
   ]
  },
  {
   "cell_type": "code",
   "execution_count": 28,
   "metadata": {
    "collapsed": true
   },
   "outputs": [],
   "source": [
    "br = pd.read_csv('BounceRate.csv')"
   ]
  },
  {
   "cell_type": "code",
   "execution_count": 29,
   "metadata": {
    "collapsed": true
   },
   "outputs": [],
   "source": [
    "dpvpv = pd.read_csv('DailyPageViewsPerVisitor.csv')"
   ]
  },
  {
   "cell_type": "code",
   "execution_count": 30,
   "metadata": {
    "collapsed": true
   },
   "outputs": [],
   "source": [
    "dtos = pd.read_csv('DailyTimeOnSite.csv')"
   ]
  },
  {
   "cell_type": "code",
   "execution_count": 31,
   "metadata": {
    "collapsed": true
   },
   "outputs": [],
   "source": [
    "sv = pd.read_csv('SearchVisits.csv')"
   ]
  },
  {
   "cell_type": "code",
   "execution_count": 32,
   "metadata": {
    "collapsed": true
   },
   "outputs": [],
   "source": [
    "tsli = pd.read_csv('TotalSitesLinkingIn.csv')"
   ]
  },
  {
   "cell_type": "code",
   "execution_count": null,
   "metadata": {
    "collapsed": true
   },
   "outputs": [],
   "source": []
  },
  {
   "cell_type": "code",
   "execution_count": 33,
   "metadata": {
    "collapsed": true
   },
   "outputs": [],
   "source": [
    "featureset = pd.DataFrame(dataset['URL'].copy())"
   ]
  },
  {
   "cell_type": "code",
   "execution_count": 34,
   "metadata": {},
   "outputs": [
    {
     "data": {
      "text/html": [
       "<div>\n",
       "<style scoped>\n",
       "    .dataframe tbody tr th:only-of-type {\n",
       "        vertical-align: middle;\n",
       "    }\n",
       "\n",
       "    .dataframe tbody tr th {\n",
       "        vertical-align: top;\n",
       "    }\n",
       "\n",
       "    .dataframe thead th {\n",
       "        text-align: right;\n",
       "    }\n",
       "</style>\n",
       "<table border=\"1\" class=\"dataframe\">\n",
       "  <thead>\n",
       "    <tr style=\"text-align: right;\">\n",
       "      <th></th>\n",
       "      <th>URL</th>\n",
       "    </tr>\n",
       "  </thead>\n",
       "  <tbody>\n",
       "    <tr>\n",
       "      <th>0</th>\n",
       "      <td>https://nih.gov</td>\n",
       "    </tr>\n",
       "    <tr>\n",
       "      <th>1</th>\n",
       "      <td>http://www.perfumemart.com/</td>\n",
       "    </tr>\n",
       "    <tr>\n",
       "      <th>2</th>\n",
       "      <td>http://chronopost-service-enligne.net/56123s/r...</td>\n",
       "    </tr>\n",
       "    <tr>\n",
       "      <th>3</th>\n",
       "      <td>http://wvw.micloudappel.security-updates-myacc...</td>\n",
       "    </tr>\n",
       "    <tr>\n",
       "      <th>4</th>\n",
       "      <td>http://colach8x.beget.tech/likon/mqnger/drwx/P...</td>\n",
       "    </tr>\n",
       "  </tbody>\n",
       "</table>\n",
       "</div>"
      ],
      "text/plain": [
       "                                                 URL\n",
       "0                                    https://nih.gov\n",
       "1                        http://www.perfumemart.com/\n",
       "2  http://chronopost-service-enligne.net/56123s/r...\n",
       "3  http://wvw.micloudappel.security-updates-myacc...\n",
       "4  http://colach8x.beget.tech/likon/mqnger/drwx/P..."
      ]
     },
     "execution_count": 34,
     "metadata": {},
     "output_type": "execute_result"
    }
   ],
   "source": [
    "featureset.head()"
   ]
  },
  {
   "cell_type": "code",
   "execution_count": 35,
   "metadata": {
    "collapsed": true
   },
   "outputs": [],
   "source": [
    "featureset['length'] = featureset['URL'].apply(length)"
   ]
  },
  {
   "cell_type": "code",
   "execution_count": 36,
   "metadata": {
    "collapsed": true
   },
   "outputs": [],
   "source": [
    "featureset['isIp'] = featureset['URL'].apply(isIp)"
   ]
  },
  {
   "cell_type": "code",
   "execution_count": 37,
   "metadata": {
    "collapsed": true
   },
   "outputs": [],
   "source": [
    "featureset['countAt'] = featureset['URL'].apply(countAt)"
   ]
  },
  {
   "cell_type": "code",
   "execution_count": 38,
   "metadata": {
    "collapsed": true
   },
   "outputs": [],
   "source": [
    "featureset['countDoubleSlash'] = featureset['URL'].apply(countDoubleSlash)"
   ]
  },
  {
   "cell_type": "code",
   "execution_count": 39,
   "metadata": {
    "collapsed": true
   },
   "outputs": [],
   "source": [
    "featureset['countHyphen'] = featureset['URL'].apply(countHyphen)"
   ]
  },
  {
   "cell_type": "code",
   "execution_count": 40,
   "metadata": {
    "collapsed": true
   },
   "outputs": [],
   "source": [
    "featureset['countDots'] = featureset['URL'].apply(countDots)"
   ]
  },
  {
   "cell_type": "code",
   "execution_count": 41,
   "metadata": {
    "collapsed": true
   },
   "outputs": [],
   "source": [
    "featureset['countDelimeters'] = featureset['URL'].apply(countDelimeters)"
   ]
  },
  {
   "cell_type": "code",
   "execution_count": 42,
   "metadata": {
    "collapsed": true
   },
   "outputs": [],
   "source": [
    "featureset['countSubDirectory'] = featureset['URL'].apply(countSubDirectory)"
   ]
  },
  {
   "cell_type": "code",
   "execution_count": 43,
   "metadata": {
    "collapsed": true
   },
   "outputs": [],
   "source": [
    "featureset['countQueries'] = featureset['URL'].apply(countQueries)"
   ]
  },
  {
   "cell_type": "code",
   "execution_count": 44,
   "metadata": {
    "collapsed": true
   },
   "outputs": [],
   "source": [
    "featureset['domainRegistrationLength'] = drl['domainRegistrationLength']"
   ]
  },
  {
   "cell_type": "code",
   "execution_count": 45,
   "metadata": {
    "collapsed": true
   },
   "outputs": [],
   "source": [
    "featureset['alexaGlobalRank'] = agr['alexaGlobalRank']"
   ]
  },
  {
   "cell_type": "code",
   "execution_count": 46,
   "metadata": {
    "collapsed": true
   },
   "outputs": [],
   "source": [
    "featureset['bounceRate'] = br['bounceRate']"
   ]
  },
  {
   "cell_type": "code",
   "execution_count": 47,
   "metadata": {
    "collapsed": true
   },
   "outputs": [],
   "source": [
    "featureset['dailyPageViewsPerVisitor'] = dpvpv['dailyPageViewsPerVisitor']"
   ]
  },
  {
   "cell_type": "code",
   "execution_count": 48,
   "metadata": {
    "collapsed": true
   },
   "outputs": [],
   "source": [
    "featureset['dailyTimeOnSite'] = dtos['dailyTimeOnSite']"
   ]
  },
  {
   "cell_type": "code",
   "execution_count": 49,
   "metadata": {
    "collapsed": true
   },
   "outputs": [],
   "source": [
    "featureset['searchVisits'] = sv['searchVisits']"
   ]
  },
  {
   "cell_type": "code",
   "execution_count": 50,
   "metadata": {
    "collapsed": true
   },
   "outputs": [],
   "source": [
    "featureset['totalSitesLinkingIn'] = tsli['totalSitesLinkingIn']"
   ]
  },
  {
   "cell_type": "code",
   "execution_count": null,
   "metadata": {
    "collapsed": true
   },
   "outputs": [],
   "source": []
  },
  {
   "cell_type": "code",
   "execution_count": 51,
   "metadata": {
    "collapsed": true
   },
   "outputs": [],
   "source": [
    "featureset['label'] = dataset['Label']"
   ]
  },
  {
   "cell_type": "code",
   "execution_count": 52,
   "metadata": {},
   "outputs": [
    {
     "data": {
      "text/html": [
       "<div>\n",
       "<style scoped>\n",
       "    .dataframe tbody tr th:only-of-type {\n",
       "        vertical-align: middle;\n",
       "    }\n",
       "\n",
       "    .dataframe tbody tr th {\n",
       "        vertical-align: top;\n",
       "    }\n",
       "\n",
       "    .dataframe thead th {\n",
       "        text-align: right;\n",
       "    }\n",
       "</style>\n",
       "<table border=\"1\" class=\"dataframe\">\n",
       "  <thead>\n",
       "    <tr style=\"text-align: right;\">\n",
       "      <th></th>\n",
       "      <th>URL</th>\n",
       "      <th>length</th>\n",
       "      <th>isIp</th>\n",
       "      <th>countAt</th>\n",
       "      <th>countDoubleSlash</th>\n",
       "      <th>countHyphen</th>\n",
       "      <th>countDots</th>\n",
       "      <th>countDelimeters</th>\n",
       "      <th>countSubDirectory</th>\n",
       "      <th>countQueries</th>\n",
       "      <th>domainRegistrationLength</th>\n",
       "      <th>alexaGlobalRank</th>\n",
       "      <th>bounceRate</th>\n",
       "      <th>dailyPageViewsPerVisitor</th>\n",
       "      <th>dailyTimeOnSite</th>\n",
       "      <th>searchVisits</th>\n",
       "      <th>totalSitesLinkingIn</th>\n",
       "      <th>label</th>\n",
       "    </tr>\n",
       "  </thead>\n",
       "  <tbody>\n",
       "    <tr>\n",
       "      <th>0</th>\n",
       "      <td>https://nih.gov</td>\n",
       "      <td>15</td>\n",
       "      <td>0</td>\n",
       "      <td>0</td>\n",
       "      <td>1</td>\n",
       "      <td>0</td>\n",
       "      <td>1</td>\n",
       "      <td>0</td>\n",
       "      <td>2</td>\n",
       "      <td>1</td>\n",
       "      <td>-1</td>\n",
       "      <td>0.007874</td>\n",
       "      <td>57.4</td>\n",
       "      <td>3.23</td>\n",
       "      <td>236</td>\n",
       "      <td>57.3</td>\n",
       "      <td>155696.0</td>\n",
       "      <td>0</td>\n",
       "    </tr>\n",
       "    <tr>\n",
       "      <th>1</th>\n",
       "      <td>http://www.perfumemart.com/</td>\n",
       "      <td>27</td>\n",
       "      <td>0</td>\n",
       "      <td>0</td>\n",
       "      <td>1</td>\n",
       "      <td>0</td>\n",
       "      <td>2</td>\n",
       "      <td>0</td>\n",
       "      <td>3</td>\n",
       "      <td>1</td>\n",
       "      <td>-1</td>\n",
       "      <td>-1.000000</td>\n",
       "      <td>-1.0</td>\n",
       "      <td>-1.00</td>\n",
       "      <td>-1</td>\n",
       "      <td>-1.0</td>\n",
       "      <td>-1.0</td>\n",
       "      <td>0</td>\n",
       "    </tr>\n",
       "    <tr>\n",
       "      <th>2</th>\n",
       "      <td>http://chronopost-service-enligne.net/56123s/r...</td>\n",
       "      <td>116</td>\n",
       "      <td>0</td>\n",
       "      <td>0</td>\n",
       "      <td>1</td>\n",
       "      <td>2</td>\n",
       "      <td>1</td>\n",
       "      <td>0</td>\n",
       "      <td>8</td>\n",
       "      <td>1</td>\n",
       "      <td>-1</td>\n",
       "      <td>-1.000000</td>\n",
       "      <td>-1.0</td>\n",
       "      <td>-1.00</td>\n",
       "      <td>-1</td>\n",
       "      <td>-1.0</td>\n",
       "      <td>-1.0</td>\n",
       "      <td>1</td>\n",
       "    </tr>\n",
       "    <tr>\n",
       "      <th>3</th>\n",
       "      <td>http://wvw.micloudappel.security-updates-myacc...</td>\n",
       "      <td>75</td>\n",
       "      <td>0</td>\n",
       "      <td>0</td>\n",
       "      <td>1</td>\n",
       "      <td>2</td>\n",
       "      <td>3</td>\n",
       "      <td>0</td>\n",
       "      <td>5</td>\n",
       "      <td>1</td>\n",
       "      <td>-1</td>\n",
       "      <td>-1.000000</td>\n",
       "      <td>-1.0</td>\n",
       "      <td>-1.00</td>\n",
       "      <td>-1</td>\n",
       "      <td>-1.0</td>\n",
       "      <td>-1.0</td>\n",
       "      <td>1</td>\n",
       "    </tr>\n",
       "    <tr>\n",
       "      <th>4</th>\n",
       "      <td>http://colach8x.beget.tech/likon/mqnger/drwx/P...</td>\n",
       "      <td>139</td>\n",
       "      <td>0</td>\n",
       "      <td>0</td>\n",
       "      <td>1</td>\n",
       "      <td>0</td>\n",
       "      <td>3</td>\n",
       "      <td>3</td>\n",
       "      <td>11</td>\n",
       "      <td>1</td>\n",
       "      <td>4</td>\n",
       "      <td>-1.000000</td>\n",
       "      <td>-1.0</td>\n",
       "      <td>-1.00</td>\n",
       "      <td>-1</td>\n",
       "      <td>-1.0</td>\n",
       "      <td>-1.0</td>\n",
       "      <td>1</td>\n",
       "    </tr>\n",
       "  </tbody>\n",
       "</table>\n",
       "</div>"
      ],
      "text/plain": [
       "                                                 URL  length  isIp  countAt  \\\n",
       "0                                    https://nih.gov      15     0        0   \n",
       "1                        http://www.perfumemart.com/      27     0        0   \n",
       "2  http://chronopost-service-enligne.net/56123s/r...     116     0        0   \n",
       "3  http://wvw.micloudappel.security-updates-myacc...      75     0        0   \n",
       "4  http://colach8x.beget.tech/likon/mqnger/drwx/P...     139     0        0   \n",
       "\n",
       "   countDoubleSlash  countHyphen  countDots  countDelimeters  \\\n",
       "0                 1            0          1                0   \n",
       "1                 1            0          2                0   \n",
       "2                 1            2          1                0   \n",
       "3                 1            2          3                0   \n",
       "4                 1            0          3                3   \n",
       "\n",
       "   countSubDirectory  countQueries  domainRegistrationLength  alexaGlobalRank  \\\n",
       "0                  2             1                        -1         0.007874   \n",
       "1                  3             1                        -1        -1.000000   \n",
       "2                  8             1                        -1        -1.000000   \n",
       "3                  5             1                        -1        -1.000000   \n",
       "4                 11             1                         4        -1.000000   \n",
       "\n",
       "   bounceRate  dailyPageViewsPerVisitor  dailyTimeOnSite  searchVisits  \\\n",
       "0        57.4                      3.23              236          57.3   \n",
       "1        -1.0                     -1.00               -1          -1.0   \n",
       "2        -1.0                     -1.00               -1          -1.0   \n",
       "3        -1.0                     -1.00               -1          -1.0   \n",
       "4        -1.0                     -1.00               -1          -1.0   \n",
       "\n",
       "   totalSitesLinkingIn  label  \n",
       "0             155696.0      0  \n",
       "1                 -1.0      0  \n",
       "2                 -1.0      1  \n",
       "3                 -1.0      1  \n",
       "4                 -1.0      1  "
      ]
     },
     "execution_count": 52,
     "metadata": {},
     "output_type": "execute_result"
    }
   ],
   "source": [
    "featureset.head()"
   ]
  },
  {
   "cell_type": "code",
   "execution_count": 53,
   "metadata": {
    "collapsed": true
   },
   "outputs": [],
   "source": [
    "featureset.to_csv('featureset.csv', index=False)"
   ]
  },
  {
   "cell_type": "code",
   "execution_count": 54,
   "metadata": {},
   "outputs": [
    {
     "data": {
      "text/plain": [
       "<matplotlib.axes._subplots.AxesSubplot at 0x28adae56400>"
      ]
     },
     "execution_count": 54,
     "metadata": {},
     "output_type": "execute_result"
    },
    {
     "data": {
      "image/png": "[encoded data removed]",
      "text/plain": [
       "<matplotlib.figure.Figure at 0x28adae56208>"
      ]
     },
     "metadata": {},
     "output_type": "display_data"
    }
   ],
   "source": [
    "fig, ax = plt.subplots(figsize=(12,12))\n",
    "sns.heatmap(featureset.corr(), cmap='coolwarm', ax=ax)"
   ]
  },
  {
   "cell_type": "code",
   "execution_count": null,
   "metadata": {
    "collapsed": true
   },
   "outputs": [],
   "source": []
  }
 ],
 "metadata": {
  "kernelspec": {
   "display_name": "Python 3",
   "language": "python",
   "name": "python3"
  },
  "language_info": {
   "codemirror_mode": {
    "name": "ipython",
    "version": 3
   },
   "file_extension": ".py",
   "mimetype": "text/x-python",
   "name": "python",
   "nbconvert_exporter": "python",
   "pygments_lexer": "ipython3",
   "version": "3.7.3"
  },
  "toc": {
   "base_numbering": 1,
   "nav_menu": {},
   "number_sections": true,
   "sideBar": true,
   "skip_h1_title": false,
   "title_cell": "Table of Contents",
   "title_sidebar": "Contents",
   "toc_cell": false,
   "toc_position": {},
   "toc_section_display": true,
   "toc_window_display": false
  },
  "varInspector": {
   "cols": {
    "lenName": 16,
    "lenType": 16,
    "lenVar": 40
   },
   "kernels_config": {
    "python": {
     "delete_cmd_postfix": "",
     "delete_cmd_prefix": "del ",
     "library": "var_list.py",
     "varRefreshCmd": "print(var_dic_list())"
    },
    "r": {
     "delete_cmd_postfix": ") ",
     "delete_cmd_prefix": "rm(",
     "library": "var_list.r",
     "varRefreshCmd": "cat(var_dic_list()) "
    }
   },
   "types_to_exclude": [
    "module",
    "function",
    "builtin_function_or_method",
    "instance",
    "_Feature"
   ],
   "window_display": false
  }
 },
 "nbformat": 4,
 "nbformat_minor": 2
}

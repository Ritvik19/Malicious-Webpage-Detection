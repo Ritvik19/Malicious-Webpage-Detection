{
 "cells": [
  {
   "cell_type": "markdown",
   "metadata": {
    "cell_style": "center"
   },
   "source": [
    "# Libraries"
   ]
  },
  {
   "cell_type": "code",
   "execution_count": null,
   "metadata": {
    "cell_style": "center"
   },
   "outputs": [],
   "source": [
    "import numpy as np\n",
    "import pandas as pd\n",
    "\n",
    "import requests, bs4\n",
    "from datetime import datetime\n",
    "import math\n",
    "\n",
    "from IPython.display import clear_output"
   ]
  },
  {
   "cell_type": "markdown",
   "metadata": {},
   "source": [
    "# Data"
   ]
  },
  {
   "cell_type": "code",
   "execution_count": null,
   "metadata": {},
   "outputs": [],
   "source": [
    "dataset = pd.read_csv('data.csv')"
   ]
  },
  {
   "cell_type": "markdown",
   "metadata": {},
   "source": [
    "# Function Definitons"
   ]
  },
  {
   "cell_type": "code",
   "execution_count": null,
   "metadata": {},
   "outputs": [],
   "source": [
    "to_datetime = lambda x : datetime(int(x[:4]), int(x[5:7]), int(x[8:]))"
   ]
  },
  {
   "cell_type": "code",
   "execution_count": null,
   "metadata": {},
   "outputs": [],
   "source": [
    "def websiteInfo(website, label):\n",
    "\n",
    "    website_details = {'URL': [website],\n",
    "                      'Label': [label]}\n",
    "    try:\n",
    "        url = 'https://www.whois.com/whois/'+website\n",
    "        res = requests.get(url)\n",
    "        if res.status_code == requests.codes.ok:\n",
    "            ressoup = bs4.BeautifulSoup(res.text, 'lxml')\n",
    "            elems = ressoup.select('.df-value')\n",
    "            try:\n",
    "                regOn = to_datetime(elems[2].getText())\n",
    "                expOn = to_datetime(elems[3].getText())\n",
    "                duration = (expOn - regOn).total_seconds()//31556926\n",
    "                website_details['domainRegistrationLength'] = [int(duration)]\n",
    "            except Exception as e:\n",
    "                website_details['domainRegistrationLength'] = [e]\n",
    "        else:\n",
    "            website_details['domainRegistrationLength'] = [-1]\n",
    "    except Exception as e:\n",
    "        website_details['domainRegistrationLength'] = [e]\n",
    "        \n",
    "    try:\n",
    "        url = 'https://www.alexa.com/siteinfo/'+website\n",
    "        res = requests.get(url)\n",
    "        if res.status_code == requests.codes.ok:\n",
    "            ressoup = bs4.BeautifulSoup(res.text, 'lxml')\n",
    "\n",
    "            elems = ressoup.select('.num.purple')\n",
    "            try:\n",
    "                website_details['Search Traffic'] = [elems[0].getText()]\n",
    "            except Exception as e:\n",
    "                website_details['Search Traffic'] = [e]\n",
    "            try:\n",
    "                website_details['Bounce Rate'] = [elems[1].getText()]\n",
    "            except Exception as e:\n",
    "                website_details['Bounce Rate'] = [e]\n",
    "\n",
    "            elems = ressoup.select('.big.data')\n",
    "            try:\n",
    "                website_details['Total Sites Linking in'] = [elems[1].getText()]\n",
    "            except Exception as e:\n",
    "                website_details['Total Sites Linking in'] = [e]\n",
    "\n",
    "            elems = ressoup.select('.rankmini-rank')\n",
    "            try:\n",
    "                website_details['Alexa Rank'] = [elems[0].getText().strip()]\n",
    "            except Exception as e:\n",
    "                website_details['Alexa Rank'] = [e]\n",
    "\n",
    "            elems = ressoup.select('.small.data')\n",
    "            try:\n",
    "                website_details['Daily Views per Visitor'] = [elems[1].getText().strip().split()[0]]\n",
    "            except Exception as e:\n",
    "                website_details['Daily Views per Visitor'] = [e]\n",
    "            try:\n",
    "                website_details['Daily Time on Site'] = [elems[2].getText().strip().split()[0]]\n",
    "            except Exception as e:\n",
    "                website_details['Daily Time on Site'] = [e]\n",
    "        else:\n",
    "            website_details['Search Traffic'] = [-1]\n",
    "            website_details['Bounce Rate'] = [-1]\n",
    "            website_details['Total Sites Linking in'] = [-1]\n",
    "            website_details['Alexa Rank'] = [-1]\n",
    "            website_details['Daily Views per Visitor'] = [-1]\n",
    "            website_details['Daily Time on Site'] = [-1]\n",
    "    except Exception as e:\n",
    "        website_details['Search Traffic'] = [e]\n",
    "        website_details['Bounce Rate'] = [e]\n",
    "        website_details['Total Sites Linking in'] = [e]\n",
    "        website_details['Alexa Rank'] = [e]\n",
    "        website_details['Daily Views per Visitor'] = [e]\n",
    "        website_details['Daily Time on Site'] = [e]\n",
    "    \n",
    "    print(website_details)\n",
    "    website_details = pd.DataFrame(website_details)\n",
    "\n",
    "    return website_details"
   ]
  },
  {
   "cell_type": "markdown",
   "metadata": {},
   "source": [
    "# Scraping"
   ]
  },
  {
   "cell_type": "code",
   "execution_count": null,
   "metadata": {},
   "outputs": [],
   "source": [
    "i = 1\n",
    "for x, y in zip(dataset['URL'], dataset['Label']):\n",
    "    print(i)\n",
    "    w = websiteInfo(x,y)\n",
    "    w.to_json('Metrics/'+str(i)+'.json')\n",
    "    print('-'*50)\n",
    "    i+=1"
   ]
  }
 ],
 "metadata": {
  "kernelspec": {
   "display_name": "Python 3",
   "language": "python",
   "name": "python3"
  },
  "language_info": {
   "codemirror_mode": {
    "name": "ipython",
    "version": 3
   },
   "file_extension": ".py",
   "mimetype": "text/x-python",
   "name": "python",
   "nbconvert_exporter": "python",
   "pygments_lexer": "ipython3",
   "version": "3.7.3"
  },
  "toc": {
   "base_numbering": 1,
   "nav_menu": {},
   "number_sections": true,
   "sideBar": true,
   "skip_h1_title": false,
   "title_cell": "Table of Contents",
   "title_sidebar": "Contents",
   "toc_cell": false,
   "toc_position": {},
   "toc_section_display": true,
   "toc_window_display": false
  },
  "varInspector": {
   "cols": {
    "lenName": 16,
    "lenType": 16,
    "lenVar": 40
   },
   "kernels_config": {
    "python": {
     "delete_cmd_postfix": "",
     "delete_cmd_prefix": "del ",
     "library": "var_list.py",
     "varRefreshCmd": "print(var_dic_list())"
    },
    "r": {
     "delete_cmd_postfix": ") ",
     "delete_cmd_prefix": "rm(",
     "library": "var_list.r",
     "varRefreshCmd": "cat(var_dic_list()) "
    }
   },
   "types_to_exclude": [
    "module",
    "function",
    "builtin_function_or_method",
    "instance",
    "_Feature"
   ],
   "window_display": false
  }
 },
 "nbformat": 4,
 "nbformat_minor": 2
}

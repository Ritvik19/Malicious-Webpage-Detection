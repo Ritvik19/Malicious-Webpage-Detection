{
 "cells": [
  {
   "cell_type": "code",
   "execution_count": 32,
   "metadata": {
    "collapsed": true
   },
   "outputs": [],
   "source": [
    "import requests, bs4\n",
    "from datetime import datetime\n",
    "import math"
   ]
  },
  {
   "cell_type": "code",
   "execution_count": 20,
   "metadata": {
    "collapsed": true
   },
   "outputs": [],
   "source": [
    "to_datetime = lambda x : datetime(int(x.getText()[:4]), int(x.getText()[5:7]), int(x.getText()[8:]))"
   ]
  },
  {
   "cell_type": "code",
   "execution_count": 33,
   "metadata": {
    "collapsed": true
   },
   "outputs": [],
   "source": [
    "def domainRegistrationLength(x):\n",
    "    try:\n",
    "        res = requests.get('https://www.whois.com/whois/'+x)\n",
    "        if res.status_code == requests.codes.ok:\n",
    "            websitesoup = bs4.BeautifulSoup(res.text)\n",
    "            elems = websitesoup.select('.df-value')\n",
    "            regOn, expOn = elems[2:4]\n",
    "            regOn = to_datetime(regOn)\n",
    "            expOn = to_datetime(expOn)\n",
    "            duration = (expOn - regOn).total_seconds()//31556926\n",
    "            return int(duration)\n",
    "        else:\n",
    "            return -1\n",
    "    except:\n",
    "        return -1"
   ]
  },
  {
   "cell_type": "code",
   "execution_count": 65,
   "metadata": {},
   "outputs": [
    {
     "data": {
      "text/plain": [
       "22"
      ]
     },
     "execution_count": 65,
     "metadata": {},
     "output_type": "execute_result"
    }
   ],
   "source": [
    "domainRegistrationLength('https://www.google.com')"
   ]
  },
  {
   "cell_type": "code",
   "execution_count": 63,
   "metadata": {
    "collapsed": true
   },
   "outputs": [],
   "source": [
    "def alexaGlobalRank(x):\n",
    "    try:\n",
    "        res = requests.get('https://www.alexa.com/siteinfo/'+x)\n",
    "        if res.status_code == requests.codes.ok:\n",
    "            websitesoup = bs4.BeautifulSoup(res.text)\n",
    "            elems = websitesoup.select('strong')\n",
    "            elem = elems[0]\n",
    "            if elem.getText() == \"We don't have enough data to rank this website.\":\n",
    "                return -1\n",
    "            else:\n",
    "                elem = elems[6]\n",
    "                return int(elem.getText().strip())\n",
    "        else:\n",
    "            return -1\n",
    "    except:\n",
    "        return -1"
   ]
  },
  {
   "cell_type": "code",
   "execution_count": 68,
   "metadata": {},
   "outputs": [
    {
     "data": {
      "text/plain": [
       "1"
      ]
     },
     "execution_count": 68,
     "metadata": {},
     "output_type": "execute_result"
    }
   ],
   "source": [
    "alexaGlobalRank('https://www.google.com')"
   ]
  },
  {
   "cell_type": "code",
   "execution_count": null,
   "metadata": {
    "collapsed": true
   },
   "outputs": [],
   "source": []
  }
 ],
 "metadata": {
  "kernelspec": {
   "display_name": "Python 3",
   "language": "python",
   "name": "python3"
  },
  "language_info": {
   "codemirror_mode": {
    "name": "ipython",
    "version": 3
   },
   "file_extension": ".py",
   "mimetype": "text/x-python",
   "name": "python",
   "nbconvert_exporter": "python",
   "pygments_lexer": "ipython3",
   "version": "3.5.4"
  }
 },
 "nbformat": 4,
 "nbformat_minor": 2
}

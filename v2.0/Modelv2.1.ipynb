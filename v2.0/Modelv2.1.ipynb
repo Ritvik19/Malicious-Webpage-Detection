{
 "cells": [
  {
   "cell_type": "markdown",
   "metadata": {},
   "source": [
    "# Libraries"
   ]
  },
  {
   "cell_type": "code",
   "execution_count": 1,
   "metadata": {},
   "outputs": [
    {
     "name": "stderr",
     "output_type": "stream",
     "text": [
      "Using TensorFlow backend.\n"
     ]
    }
   ],
   "source": [
    "import numpy as np\n",
    "import pandas as pd\n",
    "import tensorflow as tf\n",
    "import keras"
   ]
  },
  {
   "cell_type": "markdown",
   "metadata": {},
   "source": [
    "# Data"
   ]
  },
  {
   "cell_type": "code",
   "execution_count": 2,
   "metadata": {
    "collapsed": true
   },
   "outputs": [],
   "source": [
    "dataset = pd.read_csv('featureset.csv')"
   ]
  },
  {
   "cell_type": "code",
   "execution_count": 3,
   "metadata": {
    "collapsed": true
   },
   "outputs": [],
   "source": [
    "testset = pd.read_csv('testset.csv')"
   ]
  },
  {
   "cell_type": "code",
   "execution_count": 4,
   "metadata": {},
   "outputs": [
    {
     "data": {
      "text/html": [
       "<div>\n",
       "<style scoped>\n",
       "    .dataframe tbody tr th:only-of-type {\n",
       "        vertical-align: middle;\n",
       "    }\n",
       "\n",
       "    .dataframe tbody tr th {\n",
       "        vertical-align: top;\n",
       "    }\n",
       "\n",
       "    .dataframe thead th {\n",
       "        text-align: right;\n",
       "    }\n",
       "</style>\n",
       "<table border=\"1\" class=\"dataframe\">\n",
       "  <thead>\n",
       "    <tr style=\"text-align: right;\">\n",
       "      <th></th>\n",
       "      <th>URL</th>\n",
       "      <th>length</th>\n",
       "      <th>isIp</th>\n",
       "      <th>countAt</th>\n",
       "      <th>countDoubleSlash</th>\n",
       "      <th>countHyphen</th>\n",
       "      <th>countDots</th>\n",
       "      <th>countDelimeters</th>\n",
       "      <th>countSubDirectory</th>\n",
       "      <th>countQueries</th>\n",
       "      <th>digitCount</th>\n",
       "      <th>domainRegistrationLength</th>\n",
       "      <th>alexaGlobalRank</th>\n",
       "      <th>bounceRate</th>\n",
       "      <th>dailyPageViewsPerVisitor</th>\n",
       "      <th>dailyTimeOnSite</th>\n",
       "      <th>searchVisits</th>\n",
       "      <th>totalSitesLinkingIn</th>\n",
       "      <th>label</th>\n",
       "    </tr>\n",
       "  </thead>\n",
       "  <tbody>\n",
       "    <tr>\n",
       "      <th>0</th>\n",
       "      <td>https://pages.tmall.com</td>\n",
       "      <td>23</td>\n",
       "      <td>0</td>\n",
       "      <td>0</td>\n",
       "      <td>1</td>\n",
       "      <td>0</td>\n",
       "      <td>2</td>\n",
       "      <td>0</td>\n",
       "      <td>2</td>\n",
       "      <td>1</td>\n",
       "      <td>0</td>\n",
       "      <td>23</td>\n",
       "      <td>0.031250</td>\n",
       "      <td>-1.0</td>\n",
       "      <td>-1.0</td>\n",
       "      <td>-1</td>\n",
       "      <td>-1.0</td>\n",
       "      <td>-1.0</td>\n",
       "      <td>0</td>\n",
       "    </tr>\n",
       "    <tr>\n",
       "      <th>1</th>\n",
       "      <td>http://habrahabr.ru</td>\n",
       "      <td>19</td>\n",
       "      <td>0</td>\n",
       "      <td>0</td>\n",
       "      <td>1</td>\n",
       "      <td>0</td>\n",
       "      <td>1</td>\n",
       "      <td>0</td>\n",
       "      <td>2</td>\n",
       "      <td>1</td>\n",
       "      <td>0</td>\n",
       "      <td>12</td>\n",
       "      <td>-1.000000</td>\n",
       "      <td>-1.0</td>\n",
       "      <td>-1.0</td>\n",
       "      <td>-1</td>\n",
       "      <td>-1.0</td>\n",
       "      <td>-1.0</td>\n",
       "      <td>0</td>\n",
       "    </tr>\n",
       "    <tr>\n",
       "      <th>2</th>\n",
       "      <td>https://ebay.de</td>\n",
       "      <td>15</td>\n",
       "      <td>0</td>\n",
       "      <td>0</td>\n",
       "      <td>1</td>\n",
       "      <td>0</td>\n",
       "      <td>1</td>\n",
       "      <td>0</td>\n",
       "      <td>2</td>\n",
       "      <td>1</td>\n",
       "      <td>0</td>\n",
       "      <td>-1</td>\n",
       "      <td>0.007092</td>\n",
       "      <td>-1.0</td>\n",
       "      <td>-1.0</td>\n",
       "      <td>-1</td>\n",
       "      <td>-1.0</td>\n",
       "      <td>-1.0</td>\n",
       "      <td>0</td>\n",
       "    </tr>\n",
       "    <tr>\n",
       "      <th>3</th>\n",
       "      <td>http://account-chek-police.000webhostapp.com/p...</td>\n",
       "      <td>131</td>\n",
       "      <td>0</td>\n",
       "      <td>0</td>\n",
       "      <td>1</td>\n",
       "      <td>4</td>\n",
       "      <td>3</td>\n",
       "      <td>11</td>\n",
       "      <td>3</td>\n",
       "      <td>3</td>\n",
       "      <td>15</td>\n",
       "      <td>5</td>\n",
       "      <td>-1.000000</td>\n",
       "      <td>-1.0</td>\n",
       "      <td>-1.0</td>\n",
       "      <td>-1</td>\n",
       "      <td>-1.0</td>\n",
       "      <td>-1.0</td>\n",
       "      <td>1</td>\n",
       "    </tr>\n",
       "    <tr>\n",
       "      <th>4</th>\n",
       "      <td>http://aprecnotis.clan.su/recovery-login.htm</td>\n",
       "      <td>44</td>\n",
       "      <td>0</td>\n",
       "      <td>0</td>\n",
       "      <td>1</td>\n",
       "      <td>1</td>\n",
       "      <td>3</td>\n",
       "      <td>0</td>\n",
       "      <td>3</td>\n",
       "      <td>1</td>\n",
       "      <td>0</td>\n",
       "      <td>12</td>\n",
       "      <td>-1.000000</td>\n",
       "      <td>-1.0</td>\n",
       "      <td>-1.0</td>\n",
       "      <td>-1</td>\n",
       "      <td>-1.0</td>\n",
       "      <td>-1.0</td>\n",
       "      <td>1</td>\n",
       "    </tr>\n",
       "  </tbody>\n",
       "</table>\n",
       "</div>"
      ],
      "text/plain": [
       "                                                 URL  length  isIp  countAt  \\\n",
       "0                            https://pages.tmall.com      23     0        0   \n",
       "1                                http://habrahabr.ru      19     0        0   \n",
       "2                                    https://ebay.de      15     0        0   \n",
       "3  http://account-chek-police.000webhostapp.com/p...     131     0        0   \n",
       "4       http://aprecnotis.clan.su/recovery-login.htm      44     0        0   \n",
       "\n",
       "   countDoubleSlash  countHyphen  countDots  countDelimeters  \\\n",
       "0                 1            0          2                0   \n",
       "1                 1            0          1                0   \n",
       "2                 1            0          1                0   \n",
       "3                 1            4          3               11   \n",
       "4                 1            1          3                0   \n",
       "\n",
       "   countSubDirectory  countQueries  digitCount  domainRegistrationLength  \\\n",
       "0                  2             1           0                        23   \n",
       "1                  2             1           0                        12   \n",
       "2                  2             1           0                        -1   \n",
       "3                  3             3          15                         5   \n",
       "4                  3             1           0                        12   \n",
       "\n",
       "   alexaGlobalRank  bounceRate  dailyPageViewsPerVisitor  dailyTimeOnSite  \\\n",
       "0         0.031250        -1.0                      -1.0               -1   \n",
       "1        -1.000000        -1.0                      -1.0               -1   \n",
       "2         0.007092        -1.0                      -1.0               -1   \n",
       "3        -1.000000        -1.0                      -1.0               -1   \n",
       "4        -1.000000        -1.0                      -1.0               -1   \n",
       "\n",
       "   searchVisits  totalSitesLinkingIn  label  \n",
       "0          -1.0                 -1.0      0  \n",
       "1          -1.0                 -1.0      0  \n",
       "2          -1.0                 -1.0      0  \n",
       "3          -1.0                 -1.0      1  \n",
       "4          -1.0                 -1.0      1  "
      ]
     },
     "execution_count": 4,
     "metadata": {},
     "output_type": "execute_result"
    }
   ],
   "source": [
    "dataset.head()"
   ]
  },
  {
   "cell_type": "code",
   "execution_count": 5,
   "metadata": {},
   "outputs": [
    {
     "data": {
      "text/html": [
       "<div>\n",
       "<style scoped>\n",
       "    .dataframe tbody tr th:only-of-type {\n",
       "        vertical-align: middle;\n",
       "    }\n",
       "\n",
       "    .dataframe tbody tr th {\n",
       "        vertical-align: top;\n",
       "    }\n",
       "\n",
       "    .dataframe thead th {\n",
       "        text-align: right;\n",
       "    }\n",
       "</style>\n",
       "<table border=\"1\" class=\"dataframe\">\n",
       "  <thead>\n",
       "    <tr style=\"text-align: right;\">\n",
       "      <th></th>\n",
       "      <th>length</th>\n",
       "      <th>isIp</th>\n",
       "      <th>countAt</th>\n",
       "      <th>countDoubleSlash</th>\n",
       "      <th>countHyphen</th>\n",
       "      <th>countDots</th>\n",
       "      <th>countDelimeters</th>\n",
       "      <th>countSubDirectory</th>\n",
       "      <th>countQueries</th>\n",
       "      <th>digitCount</th>\n",
       "      <th>domainRegistrationLength</th>\n",
       "      <th>alexaGlobalRank</th>\n",
       "      <th>bounceRate</th>\n",
       "      <th>dailyPageViewsPerVisitor</th>\n",
       "      <th>dailyTimeOnSite</th>\n",
       "      <th>searchVisits</th>\n",
       "      <th>totalSitesLinkingIn</th>\n",
       "      <th>label</th>\n",
       "    </tr>\n",
       "  </thead>\n",
       "  <tbody>\n",
       "    <tr>\n",
       "      <th>0</th>\n",
       "      <td>39.0</td>\n",
       "      <td>0.0</td>\n",
       "      <td>0.0</td>\n",
       "      <td>1.0</td>\n",
       "      <td>0.0</td>\n",
       "      <td>2.0</td>\n",
       "      <td>0.0</td>\n",
       "      <td>2.0</td>\n",
       "      <td>1.0</td>\n",
       "      <td>0.0</td>\n",
       "      <td>0.0</td>\n",
       "      <td>-1.0</td>\n",
       "      <td>-1.0</td>\n",
       "      <td>-1.0</td>\n",
       "      <td>-1.0</td>\n",
       "      <td>-1.0</td>\n",
       "      <td>-1.0</td>\n",
       "      <td>1</td>\n",
       "    </tr>\n",
       "    <tr>\n",
       "      <th>1</th>\n",
       "      <td>31.0</td>\n",
       "      <td>0.0</td>\n",
       "      <td>0.0</td>\n",
       "      <td>1.0</td>\n",
       "      <td>0.0</td>\n",
       "      <td>2.0</td>\n",
       "      <td>0.0</td>\n",
       "      <td>2.0</td>\n",
       "      <td>1.0</td>\n",
       "      <td>0.0</td>\n",
       "      <td>-1.0</td>\n",
       "      <td>-1.0</td>\n",
       "      <td>-1.0</td>\n",
       "      <td>-1.0</td>\n",
       "      <td>-1.0</td>\n",
       "      <td>-1.0</td>\n",
       "      <td>-1.0</td>\n",
       "      <td>1</td>\n",
       "    </tr>\n",
       "    <tr>\n",
       "      <th>2</th>\n",
       "      <td>34.0</td>\n",
       "      <td>0.0</td>\n",
       "      <td>0.0</td>\n",
       "      <td>1.0</td>\n",
       "      <td>0.0</td>\n",
       "      <td>2.0</td>\n",
       "      <td>0.0</td>\n",
       "      <td>2.0</td>\n",
       "      <td>1.0</td>\n",
       "      <td>0.0</td>\n",
       "      <td>0.0</td>\n",
       "      <td>-1.0</td>\n",
       "      <td>-1.0</td>\n",
       "      <td>-1.0</td>\n",
       "      <td>-1.0</td>\n",
       "      <td>-1.0</td>\n",
       "      <td>-1.0</td>\n",
       "      <td>1</td>\n",
       "    </tr>\n",
       "    <tr>\n",
       "      <th>3</th>\n",
       "      <td>37.0</td>\n",
       "      <td>0.0</td>\n",
       "      <td>0.0</td>\n",
       "      <td>1.0</td>\n",
       "      <td>0.0</td>\n",
       "      <td>2.0</td>\n",
       "      <td>0.0</td>\n",
       "      <td>2.0</td>\n",
       "      <td>1.0</td>\n",
       "      <td>0.0</td>\n",
       "      <td>-1.0</td>\n",
       "      <td>-1.0</td>\n",
       "      <td>-1.0</td>\n",
       "      <td>-1.0</td>\n",
       "      <td>-1.0</td>\n",
       "      <td>-1.0</td>\n",
       "      <td>-1.0</td>\n",
       "      <td>1</td>\n",
       "    </tr>\n",
       "    <tr>\n",
       "      <th>4</th>\n",
       "      <td>33.0</td>\n",
       "      <td>0.0</td>\n",
       "      <td>0.0</td>\n",
       "      <td>1.0</td>\n",
       "      <td>0.0</td>\n",
       "      <td>2.0</td>\n",
       "      <td>0.0</td>\n",
       "      <td>2.0</td>\n",
       "      <td>1.0</td>\n",
       "      <td>0.0</td>\n",
       "      <td>-1.0</td>\n",
       "      <td>-1.0</td>\n",
       "      <td>-1.0</td>\n",
       "      <td>-1.0</td>\n",
       "      <td>-1.0</td>\n",
       "      <td>-1.0</td>\n",
       "      <td>-1.0</td>\n",
       "      <td>1</td>\n",
       "    </tr>\n",
       "  </tbody>\n",
       "</table>\n",
       "</div>"
      ],
      "text/plain": [
       "   length  isIp  countAt  countDoubleSlash  countHyphen  countDots  \\\n",
       "0    39.0   0.0      0.0               1.0          0.0        2.0   \n",
       "1    31.0   0.0      0.0               1.0          0.0        2.0   \n",
       "2    34.0   0.0      0.0               1.0          0.0        2.0   \n",
       "3    37.0   0.0      0.0               1.0          0.0        2.0   \n",
       "4    33.0   0.0      0.0               1.0          0.0        2.0   \n",
       "\n",
       "   countDelimeters  countSubDirectory  countQueries  digitCount  \\\n",
       "0              0.0                2.0           1.0         0.0   \n",
       "1              0.0                2.0           1.0         0.0   \n",
       "2              0.0                2.0           1.0         0.0   \n",
       "3              0.0                2.0           1.0         0.0   \n",
       "4              0.0                2.0           1.0         0.0   \n",
       "\n",
       "   domainRegistrationLength  alexaGlobalRank  bounceRate  \\\n",
       "0                       0.0             -1.0        -1.0   \n",
       "1                      -1.0             -1.0        -1.0   \n",
       "2                       0.0             -1.0        -1.0   \n",
       "3                      -1.0             -1.0        -1.0   \n",
       "4                      -1.0             -1.0        -1.0   \n",
       "\n",
       "   dailyPageViewsPerVisitor  dailyTimeOnSite  searchVisits  \\\n",
       "0                      -1.0             -1.0          -1.0   \n",
       "1                      -1.0             -1.0          -1.0   \n",
       "2                      -1.0             -1.0          -1.0   \n",
       "3                      -1.0             -1.0          -1.0   \n",
       "4                      -1.0             -1.0          -1.0   \n",
       "\n",
       "   totalSitesLinkingIn  label  \n",
       "0                 -1.0      1  \n",
       "1                 -1.0      1  \n",
       "2                 -1.0      1  \n",
       "3                 -1.0      1  \n",
       "4                 -1.0      1  "
      ]
     },
     "execution_count": 5,
     "metadata": {},
     "output_type": "execute_result"
    }
   ],
   "source": [
    "testset.head()"
   ]
  },
  {
   "cell_type": "code",
   "execution_count": 6,
   "metadata": {
    "collapsed": true
   },
   "outputs": [],
   "source": [
    "X = dataset.drop(['URL', 'label'], axis=1)\n",
    "y = dataset['label']"
   ]
  },
  {
   "cell_type": "code",
   "execution_count": 7,
   "metadata": {
    "collapsed": true
   },
   "outputs": [],
   "source": [
    "from sklearn.model_selection import train_test_split"
   ]
  },
  {
   "cell_type": "code",
   "execution_count": 8,
   "metadata": {
    "collapsed": true
   },
   "outputs": [],
   "source": [
    "X_train, X_eval, y_train, y_eval = train_test_split(X, y, test_size=0.2887, random_state=101)"
   ]
  },
  {
   "cell_type": "code",
   "execution_count": 9,
   "metadata": {
    "collapsed": true
   },
   "outputs": [],
   "source": [
    "X_test = testset.drop(['label'], axis=1)\n",
    "y_test = testset['label']"
   ]
  },
  {
   "cell_type": "markdown",
   "metadata": {},
   "source": [
    "# Scaled Features"
   ]
  },
  {
   "cell_type": "code",
   "execution_count": 10,
   "metadata": {
    "collapsed": true
   },
   "outputs": [],
   "source": [
    "from sklearn.preprocessing import MinMaxScaler"
   ]
  },
  {
   "cell_type": "code",
   "execution_count": 11,
   "metadata": {},
   "outputs": [
    {
     "data": {
      "text/plain": [
       "MinMaxScaler(copy=True, feature_range=(0, 1))"
      ]
     },
     "execution_count": 11,
     "metadata": {},
     "output_type": "execute_result"
    }
   ],
   "source": [
    "scaler = MinMaxScaler()\n",
    "scaler.fit(X)"
   ]
  },
  {
   "cell_type": "code",
   "execution_count": 12,
   "metadata": {
    "collapsed": true
   },
   "outputs": [],
   "source": [
    "Xs = scaler.transform(X)"
   ]
  },
  {
   "cell_type": "code",
   "execution_count": 13,
   "metadata": {
    "collapsed": true
   },
   "outputs": [],
   "source": [
    "Xs_train, Xs_eval, ys_train, ys_eval = train_test_split(Xs, y, test_size=0.2887, random_state=101)"
   ]
  },
  {
   "cell_type": "code",
   "execution_count": 14,
   "metadata": {
    "collapsed": true
   },
   "outputs": [],
   "source": [
    "Xs_test = scaler.transform(X_test)"
   ]
  },
  {
   "cell_type": "code",
   "execution_count": 15,
   "metadata": {
    "collapsed": true
   },
   "outputs": [],
   "source": [
    "ys_test = y_test"
   ]
  },
  {
   "cell_type": "markdown",
   "metadata": {},
   "source": [
    "# Machine Learning"
   ]
  },
  {
   "cell_type": "code",
   "execution_count": 16,
   "metadata": {
    "collapsed": true
   },
   "outputs": [],
   "source": [
    "from sklearn.metrics import classification_report, confusion_matrix"
   ]
  },
  {
   "cell_type": "markdown",
   "metadata": {},
   "source": [
    "### Neural Networks"
   ]
  },
  {
   "cell_type": "code",
   "execution_count": 17,
   "metadata": {
    "collapsed": true
   },
   "outputs": [],
   "source": [
    "from keras.models import Sequential\n",
    "from keras.layers import Dense\n",
    "from keras.wrappers.scikit_learn import KerasClassifier\n",
    "from sklearn.model_selection import cross_val_score"
   ]
  },
  {
   "cell_type": "code",
   "execution_count": 18,
   "metadata": {
    "collapsed": true
   },
   "outputs": [],
   "source": [
    "def neuralnet():\n",
    "    model = Sequential()\n",
    "    model.add(Dense(108, activation='relu', input_dim=17))\n",
    "    model.add(Dense(270, activation='relu'))\n",
    "    model.add(Dense(680, activation='relu'))\n",
    "    model.add(Dense(134, activation='relu'))\n",
    "    model.add(Dense(26, activation='relu'))\n",
    "    model.add(Dense(1, activation='sigmoid'))\n",
    "    model.compile(loss='binary_crossentropy', metrics=['accuracy'], optimizer='rmsprop')\n",
    "    return model"
   ]
  },
  {
   "cell_type": "code",
   "execution_count": 19,
   "metadata": {
    "collapsed": true
   },
   "outputs": [],
   "source": [
    "network = KerasClassifier(build_fn=neuralnet, batch_size=25, nb_epoch=100)"
   ]
  },
  {
   "cell_type": "code",
   "execution_count": 20,
   "metadata": {},
   "outputs": [
    {
     "name": "stdout",
     "output_type": "stream",
     "text": [
      "Epoch 1/1\n",
      "5304/5304 [==============================] - 5s 932us/step - loss: 0.1864 - acc: 0.9240\n",
      "590/590 [==============================] - 0s 376us/step\n",
      "Epoch 1/1\n",
      "5304/5304 [==============================] - 3s 654us/step - loss: 0.1946 - acc: 0.9259\n",
      "590/590 [==============================] - 0s 366us/step\n",
      "Epoch 1/1\n",
      "5304/5304 [==============================] - 4s 669us/step - loss: 0.1820 - acc: 0.9284\n",
      "590/590 [==============================] - 0s 416us/step\n",
      "Epoch 1/1\n",
      "5304/5304 [==============================] - 5s 988us/step - loss: 0.1826 - acc: 0.9302\n",
      "590/590 [==============================] - 0s 508us/step\n",
      "Epoch 1/1\n",
      "5305/5305 [==============================] - 4s 672us/step - loss: 0.1809 - acc: 0.9280\n",
      "589/589 [==============================] - 0s 464us/step\n",
      "Epoch 1/1\n",
      "5305/5305 [==============================] - 4s 685us/step - loss: 0.1812 - acc: 0.9269\n",
      "589/589 [==============================] - 0s 486us/step\n",
      "Epoch 1/1\n",
      "5305/5305 [==============================] - 4s 778us/step - loss: 0.1788 - acc: 0.9316\n",
      "589/589 [==============================] - 0s 605us/step\n",
      "Epoch 1/1\n",
      "5305/5305 [==============================] - 4s 706us/step - loss: 0.1852 - acc: 0.9270\n",
      "589/589 [==============================] - 0s 580us/step\n",
      "Epoch 1/1\n",
      "5305/5305 [==============================] - 4s 714us/step - loss: 0.1776 - acc: 0.9304\n",
      "589/589 [==============================] - 0s 604us/step\n",
      "Epoch 1/1\n",
      "5305/5305 [==============================] - 4s 739us/step - loss: 0.1917 - acc: 0.9221\n",
      "589/589 [==============================] - 0s 644us/step\n",
      "0.9446876300036975 +- (0.006000925624821818)\n"
     ]
    }
   ],
   "source": [
    "accuracies = cross_val_score(estimator=network, X=Xs, y=y, cv=10)\n",
    "print(\"{} +- ({})\".format(accuracies.mean(), accuracies.std()))"
   ]
  },
  {
   "cell_type": "code",
   "execution_count": 21,
   "metadata": {},
   "outputs": [
    {
     "name": "stderr",
     "output_type": "stream",
     "text": [
      "D:\\Users\\Ritvik\\Anaconda3\\envs\\tfdeeplearning\\lib\\site-packages\\ipykernel_launcher.py:2: UserWarning: The `nb_epoch` argument in `fit` has been renamed `epochs`.\n",
      "  \n"
     ]
    },
    {
     "name": "stdout",
     "output_type": "stream",
     "text": [
      "Epoch 1/100\n",
      "5894/5894 [==============================] - 4s 713us/step - loss: 0.1747 - acc: 0.9316\n",
      "Epoch 2/100\n",
      "5894/5894 [==============================] - 3s 469us/step - loss: 0.1295 - acc: 0.9462\n",
      "Epoch 3/100\n",
      "5894/5894 [==============================] - 3s 458us/step - loss: 0.1306 - acc: 0.9462\n",
      "Epoch 4/100\n",
      "5894/5894 [==============================] - 3s 473us/step - loss: 0.1275 - acc: 0.9481\n",
      "Epoch 5/100\n",
      "5894/5894 [==============================] - 3s 463us/step - loss: 0.1239 - acc: 0.9486\n",
      "Epoch 6/100\n",
      "5894/5894 [==============================] - 3s 470us/step - loss: 0.1239 - acc: 0.9476\n",
      "Epoch 7/100\n",
      "5894/5894 [==============================] - 3s 466us/step - loss: 0.1231 - acc: 0.9486\n",
      "Epoch 8/100\n",
      "5894/5894 [==============================] - 3s 461us/step - loss: 0.1321 - acc: 0.9488\n",
      "Epoch 9/100\n",
      "5894/5894 [==============================] - 3s 464us/step - loss: 0.1288 - acc: 0.9479\n",
      "Epoch 10/100\n",
      "5894/5894 [==============================] - 3s 465us/step - loss: 0.1266 - acc: 0.9484\n",
      "Epoch 11/100\n",
      "5894/5894 [==============================] - 3s 466us/step - loss: 0.1275 - acc: 0.9501\n",
      "Epoch 12/100\n",
      "5894/5894 [==============================] - 3s 460us/step - loss: 0.1293 - acc: 0.9496\n",
      "Epoch 13/100\n",
      "5894/5894 [==============================] - 3s 476us/step - loss: 0.1265 - acc: 0.9496\n",
      "Epoch 14/100\n",
      "5894/5894 [==============================] - 3s 488us/step - loss: 0.1363 - acc: 0.9486\n",
      "Epoch 15/100\n",
      "5894/5894 [==============================] - 3s 491us/step - loss: 0.1286 - acc: 0.9493\n",
      "Epoch 16/100\n",
      "5894/5894 [==============================] - 3s 472us/step - loss: 0.1249 - acc: 0.9498\n",
      "Epoch 17/100\n",
      "5894/5894 [==============================] - 3s 484us/step - loss: 0.1249 - acc: 0.9506\n",
      "Epoch 18/100\n",
      "5894/5894 [==============================] - 3s 500us/step - loss: 0.1273 - acc: 0.9505\n",
      "Epoch 19/100\n",
      "5894/5894 [==============================] - 3s 495us/step - loss: 0.1212 - acc: 0.9494\n",
      "Epoch 20/100\n",
      "5894/5894 [==============================] - 3s 487us/step - loss: 0.1262 - acc: 0.9508\n",
      "Epoch 21/100\n",
      "5894/5894 [==============================] - 3s 500us/step - loss: 0.1258 - acc: 0.9499\n",
      "Epoch 22/100\n",
      "5894/5894 [==============================] - 3s 470us/step - loss: 0.1244 - acc: 0.9499\n",
      "Epoch 23/100\n",
      "5894/5894 [==============================] - 3s 469us/step - loss: 0.1228 - acc: 0.9510\n",
      "Epoch 24/100\n",
      "5894/5894 [==============================] - 3s 465us/step - loss: 0.1267 - acc: 0.9505\n",
      "Epoch 25/100\n",
      "5894/5894 [==============================] - 3s 464us/step - loss: 0.1219 - acc: 0.9493\n",
      "Epoch 26/100\n",
      "5894/5894 [==============================] - 3s 465us/step - loss: 0.1235 - acc: 0.9505\n",
      "Epoch 27/100\n",
      "5894/5894 [==============================] - 3s 478us/step - loss: 0.1250 - acc: 0.9533\n",
      "Epoch 28/100\n",
      "5894/5894 [==============================] - 3s 456us/step - loss: 0.1232 - acc: 0.9537\n",
      "Epoch 29/100\n",
      "5894/5894 [==============================] - 3s 476us/step - loss: 0.1259 - acc: 0.9532\n",
      "Epoch 30/100\n",
      "5894/5894 [==============================] - 3s 472us/step - loss: 0.1227 - acc: 0.9528\n",
      "Epoch 31/100\n",
      "5894/5894 [==============================] - 3s 449us/step - loss: 0.1194 - acc: 0.9539\n",
      "Epoch 32/100\n",
      "5894/5894 [==============================] - 3s 457us/step - loss: 0.1232 - acc: 0.9523\n",
      "Epoch 33/100\n",
      "5894/5894 [==============================] - 3s 512us/step - loss: 0.1253 - acc: 0.9501\n",
      "Epoch 34/100\n",
      "5894/5894 [==============================] - 3s 476us/step - loss: 0.1178 - acc: 0.9539\n",
      "Epoch 35/100\n",
      "5894/5894 [==============================] - 3s 451us/step - loss: 0.1233 - acc: 0.9523\n",
      "Epoch 36/100\n",
      "5894/5894 [==============================] - 3s 469us/step - loss: 0.1448 - acc: 0.9515\n",
      "Epoch 37/100\n",
      "5894/5894 [==============================] - 3s 452us/step - loss: 0.1422 - acc: 0.9532\n",
      "Epoch 38/100\n",
      "5894/5894 [==============================] - 3s 453us/step - loss: 0.1281 - acc: 0.9532\n",
      "Epoch 39/100\n",
      "5894/5894 [==============================] - 3s 460us/step - loss: 0.1317 - acc: 0.9537\n",
      "Epoch 40/100\n",
      "5894/5894 [==============================] - 3s 469us/step - loss: 0.1249 - acc: 0.9520\n",
      "Epoch 41/100\n",
      "5894/5894 [==============================] - 3s 451us/step - loss: 0.1241 - acc: 0.9535\n",
      "Epoch 42/100\n",
      "5894/5894 [==============================] - 3s 469us/step - loss: 0.1202 - acc: 0.9525\n",
      "Epoch 43/100\n",
      "5894/5894 [==============================] - 3s 551us/step - loss: 0.1248 - acc: 0.9525\n",
      "Epoch 44/100\n",
      "5894/5894 [==============================] - 3s 461us/step - loss: 0.1564 - acc: 0.9496\n",
      "Epoch 45/100\n",
      "5894/5894 [==============================] - 3s 452us/step - loss: 0.1236 - acc: 0.9515\n",
      "Epoch 46/100\n",
      "5894/5894 [==============================] - 3s 455us/step - loss: 0.1225 - acc: 0.9525\n",
      "Epoch 47/100\n",
      "5894/5894 [==============================] - 3s 463us/step - loss: 0.1213 - acc: 0.9542\n",
      "Epoch 48/100\n",
      "5894/5894 [==============================] - 3s 456us/step - loss: 0.1322 - acc: 0.9501\n",
      "Epoch 49/100\n",
      "5894/5894 [==============================] - 3s 448us/step - loss: 0.1262 - acc: 0.9535\n",
      "Epoch 50/100\n",
      "5894/5894 [==============================] - 3s 452us/step - loss: 0.1263 - acc: 0.9518\n",
      "Epoch 51/100\n",
      "5894/5894 [==============================] - 3s 458us/step - loss: 0.1222 - acc: 0.9522\n",
      "Epoch 52/100\n",
      "5894/5894 [==============================] - 3s 448us/step - loss: 0.1235 - acc: 0.9510\n",
      "Epoch 53/100\n",
      "5894/5894 [==============================] - 3s 453us/step - loss: 0.1240 - acc: 0.9513\n",
      "Epoch 54/100\n",
      "5894/5894 [==============================] - 3s 452us/step - loss: 0.1346 - acc: 0.9522\n",
      "Epoch 55/100\n",
      "5894/5894 [==============================] - 3s 449us/step - loss: 0.1228 - acc: 0.9544\n",
      "Epoch 56/100\n",
      "5894/5894 [==============================] - 3s 453us/step - loss: 0.1312 - acc: 0.9515\n",
      "Epoch 57/100\n",
      "5894/5894 [==============================] - 3s 447us/step - loss: 0.1208 - acc: 0.9549\n",
      "Epoch 58/100\n",
      "5894/5894 [==============================] - 3s 442us/step - loss: 0.1293 - acc: 0.9523\n",
      "Epoch 59/100\n",
      "5894/5894 [==============================] - 3s 444us/step - loss: 0.1260 - acc: 0.9533\n",
      "Epoch 60/100\n",
      "5894/5894 [==============================] - 3s 445us/step - loss: 0.1359 - acc: 0.9530\n",
      "Epoch 61/100\n",
      "5894/5894 [==============================] - 3s 446us/step - loss: 0.1305 - acc: 0.9530\n",
      "Epoch 62/100\n",
      "5894/5894 [==============================] - 3s 459us/step - loss: 0.1293 - acc: 0.9518\n",
      "Epoch 63/100\n",
      "5894/5894 [==============================] - 3s 445us/step - loss: 0.1279 - acc: 0.9539\n",
      "Epoch 64/100\n",
      "5894/5894 [==============================] - 3s 446us/step - loss: 0.1420 - acc: 0.9525\n",
      "Epoch 65/100\n",
      "5894/5894 [==============================] - 3s 442us/step - loss: 0.1346 - acc: 0.9520\n",
      "Epoch 66/100\n",
      "5894/5894 [==============================] - 3s 448us/step - loss: 0.1227 - acc: 0.9530\n",
      "Epoch 67/100\n",
      "5894/5894 [==============================] - 3s 451us/step - loss: 0.1223 - acc: 0.9535\n",
      "Epoch 68/100\n",
      "5894/5894 [==============================] - 3s 441us/step - loss: 0.1286 - acc: 0.9527\n",
      "Epoch 69/100\n",
      "5894/5894 [==============================] - 3s 453us/step - loss: 0.1416 - acc: 0.9527\n",
      "Epoch 70/100\n",
      "5894/5894 [==============================] - 3s 437us/step - loss: 0.2752 - acc: 0.9449\n",
      "Epoch 71/100\n",
      "5894/5894 [==============================] - 3s 444us/step - loss: 0.1311 - acc: 0.9515\n",
      "Epoch 72/100\n",
      "5894/5894 [==============================] - 3s 444us/step - loss: 0.1343 - acc: 0.9542\n",
      "Epoch 73/100\n",
      "5894/5894 [==============================] - 3s 459us/step - loss: 0.1280 - acc: 0.9533\n",
      "Epoch 74/100\n",
      "5894/5894 [==============================] - 3s 462us/step - loss: 0.1278 - acc: 0.9520\n",
      "Epoch 75/100\n",
      "5894/5894 [==============================] - 3s 442us/step - loss: 0.1433 - acc: 0.9511\n",
      "Epoch 76/100\n",
      "5894/5894 [==============================] - 3s 443us/step - loss: 0.1337 - acc: 0.9513\n",
      "Epoch 77/100\n",
      "5894/5894 [==============================] - 3s 443us/step - loss: 0.1288 - acc: 0.9516\n",
      "Epoch 78/100\n",
      "5894/5894 [==============================] - 3s 439us/step - loss: 0.1439 - acc: 0.9527\n",
      "Epoch 79/100\n",
      "5894/5894 [==============================] - 3s 443us/step - loss: 0.1285 - acc: 0.9537\n",
      "Epoch 80/100\n",
      "5894/5894 [==============================] - 3s 441us/step - loss: 0.1220 - acc: 0.9559\n",
      "Epoch 81/100\n",
      "5894/5894 [==============================] - 3s 444us/step - loss: 0.1319 - acc: 0.9518\n",
      "Epoch 82/100\n"
     ]
    },
    {
     "name": "stdout",
     "output_type": "stream",
     "text": [
      "5894/5894 [==============================] - 3s 459us/step - loss: 0.1325 - acc: 0.9540\n",
      "Epoch 83/100\n",
      "5894/5894 [==============================] - 3s 455us/step - loss: 0.1349 - acc: 0.9532\n",
      "Epoch 84/100\n",
      "5894/5894 [==============================] - 3s 465us/step - loss: 0.1379 - acc: 0.9520\n",
      "Epoch 85/100\n",
      "5894/5894 [==============================] - 3s 462us/step - loss: 0.1378 - acc: 0.9522\n",
      "Epoch 86/100\n",
      "5894/5894 [==============================] - 3s 462us/step - loss: 0.1325 - acc: 0.9525\n",
      "Epoch 87/100\n",
      "5894/5894 [==============================] - 3s 449us/step - loss: 0.1296 - acc: 0.9552\n",
      "Epoch 88/100\n",
      "5894/5894 [==============================] - 3s 453us/step - loss: 0.1334 - acc: 0.9537\n",
      "Epoch 89/100\n",
      "5894/5894 [==============================] - 3s 457us/step - loss: 0.1304 - acc: 0.9511\n",
      "Epoch 90/100\n",
      "5894/5894 [==============================] - 3s 453us/step - loss: 0.1339 - acc: 0.9535\n",
      "Epoch 91/100\n",
      "5894/5894 [==============================] - 3s 456us/step - loss: 0.1456 - acc: 0.9540\n",
      "Epoch 92/100\n",
      "5894/5894 [==============================] - 3s 454us/step - loss: 0.1345 - acc: 0.9518\n",
      "Epoch 93/100\n",
      "5894/5894 [==============================] - 3s 455us/step - loss: 0.1513 - acc: 0.9528\n",
      "Epoch 94/100\n",
      "5894/5894 [==============================] - 3s 462us/step - loss: 0.1272 - acc: 0.9552\n",
      "Epoch 95/100\n",
      "5894/5894 [==============================] - 3s 461us/step - loss: 0.1327 - acc: 0.9515\n",
      "Epoch 96/100\n",
      "5894/5894 [==============================] - 3s 456us/step - loss: 0.1278 - acc: 0.9515\n",
      "Epoch 97/100\n",
      "5894/5894 [==============================] - 3s 456us/step - loss: 0.1261 - acc: 0.9523\n",
      "Epoch 98/100\n",
      "5894/5894 [==============================] - 3s 464us/step - loss: 0.1355 - acc: 0.9528\n",
      "Epoch 99/100\n",
      "5894/5894 [==============================] - 3s 458us/step - loss: 0.1370 - acc: 0.9527\n",
      "Epoch 100/100\n",
      "5894/5894 [==============================] - 3s 458us/step - loss: 0.1288 - acc: 0.9544\n"
     ]
    }
   ],
   "source": [
    "network = neuralnet()\n",
    "network.fit(Xs, y, batch_size=25, nb_epoch=100)\n",
    "y_pred = network.predict(Xs_test)"
   ]
  },
  {
   "cell_type": "code",
   "execution_count": 22,
   "metadata": {
    "collapsed": true
   },
   "outputs": [],
   "source": [
    "y_p = []\n",
    "for y in y_pred:\n",
    "    y_p.append(int(y.round()))"
   ]
  },
  {
   "cell_type": "code",
   "execution_count": 23,
   "metadata": {},
   "outputs": [
    {
     "name": "stdout",
     "output_type": "stream",
     "text": [
      "[[49  0]\n",
      " [ 5 45]]\n",
      "             precision    recall  f1-score   support\n",
      "\n",
      "          0       0.91      1.00      0.95        49\n",
      "          1       1.00      0.90      0.95        50\n",
      "\n",
      "avg / total       0.95      0.95      0.95        99\n",
      "\n"
     ]
    }
   ],
   "source": [
    "print(confusion_matrix(y_test, y_p))\n",
    "print(classification_report(y_test, y_p))"
   ]
  },
  {
   "cell_type": "markdown",
   "metadata": {},
   "source": [
    "# Model Pickeling"
   ]
  },
  {
   "cell_type": "code",
   "execution_count": 24,
   "metadata": {
    "collapsed": true
   },
   "outputs": [],
   "source": [
    "network.save('Keras.h5')"
   ]
  },
  {
   "cell_type": "code",
   "execution_count": 25,
   "metadata": {},
   "outputs": [
    {
     "name": "stdout",
     "output_type": "stream",
     "text": [
      "_________________________________________________________________\n",
      "Layer (type)                 Output Shape              Param #   \n",
      "=================================================================\n",
      "dense_61 (Dense)             (None, 108)               1944      \n",
      "_________________________________________________________________\n",
      "dense_62 (Dense)             (None, 270)               29430     \n",
      "_________________________________________________________________\n",
      "dense_63 (Dense)             (None, 680)               184280    \n",
      "_________________________________________________________________\n",
      "dense_64 (Dense)             (None, 134)               91254     \n",
      "_________________________________________________________________\n",
      "dense_65 (Dense)             (None, 26)                3510      \n",
      "_________________________________________________________________\n",
      "dense_66 (Dense)             (None, 1)                 27        \n",
      "=================================================================\n",
      "Total params: 310,445\n",
      "Trainable params: 310,445\n",
      "Non-trainable params: 0\n",
      "_________________________________________________________________\n"
     ]
    }
   ],
   "source": [
    "new_model = keras.models.load_model('Keras.h5')\n",
    "new_model.summary()"
   ]
  },
  {
   "cell_type": "code",
   "execution_count": null,
   "metadata": {
    "collapsed": true
   },
   "outputs": [],
   "source": []
  }
 ],
 "metadata": {
  "kernelspec": {
   "display_name": "Python 3",
   "language": "python",
   "name": "python3"
  },
  "language_info": {
   "codemirror_mode": {
    "name": "ipython",
    "version": 3
   },
   "file_extension": ".py",
   "mimetype": "text/x-python",
   "name": "python",
   "nbconvert_exporter": "python",
   "pygments_lexer": "ipython3",
   "version": "3.5.4"
  }
 },
 "nbformat": 4,
 "nbformat_minor": 2
}

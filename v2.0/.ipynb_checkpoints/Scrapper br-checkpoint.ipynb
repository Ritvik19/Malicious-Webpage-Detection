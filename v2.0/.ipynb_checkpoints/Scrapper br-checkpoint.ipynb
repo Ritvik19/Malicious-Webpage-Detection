{
 "cells": [
  {
   "cell_type": "code",
   "execution_count": 1,
   "metadata": {
    "collapsed": true
   },
   "outputs": [],
   "source": [
    "import numpy as np\n",
    "import pandas as pd"
   ]
  },
  {
   "cell_type": "code",
   "execution_count": 2,
   "metadata": {
    "collapsed": true
   },
   "outputs": [],
   "source": [
    "import requests, bs4\n",
    "from datetime import datetime\n",
    "import math"
   ]
  },
  {
   "cell_type": "code",
   "execution_count": 3,
   "metadata": {},
   "outputs": [],
   "source": [
    "dataset = pd.read_csv('data.csv')"
   ]
  },
  {
   "cell_type": "code",
   "execution_count": 4,
   "metadata": {},
   "outputs": [
    {
     "data": {
      "text/html": [
       "<div>\n",
       "<style scoped>\n",
       "    .dataframe tbody tr th:only-of-type {\n",
       "        vertical-align: middle;\n",
       "    }\n",
       "\n",
       "    .dataframe tbody tr th {\n",
       "        vertical-align: top;\n",
       "    }\n",
       "\n",
       "    .dataframe thead th {\n",
       "        text-align: right;\n",
       "    }\n",
       "</style>\n",
       "<table border=\"1\" class=\"dataframe\">\n",
       "  <thead>\n",
       "    <tr style=\"text-align: right;\">\n",
       "      <th></th>\n",
       "      <th>URL</th>\n",
       "      <th>Label</th>\n",
       "    </tr>\n",
       "  </thead>\n",
       "  <tbody>\n",
       "    <tr>\n",
       "      <th>0</th>\n",
       "      <td>https://pages.tmall.com</td>\n",
       "      <td>0</td>\n",
       "    </tr>\n",
       "    <tr>\n",
       "      <th>1</th>\n",
       "      <td>http://habrahabr.ru</td>\n",
       "      <td>0</td>\n",
       "    </tr>\n",
       "    <tr>\n",
       "      <th>2</th>\n",
       "      <td>https://ebay.de</td>\n",
       "      <td>0</td>\n",
       "    </tr>\n",
       "    <tr>\n",
       "      <th>3</th>\n",
       "      <td>http://account-chek-police.000webhostapp.com/p...</td>\n",
       "      <td>1</td>\n",
       "    </tr>\n",
       "    <tr>\n",
       "      <th>4</th>\n",
       "      <td>http://aprecnotis.clan.su/recovery-login.htm</td>\n",
       "      <td>1</td>\n",
       "    </tr>\n",
       "  </tbody>\n",
       "</table>\n",
       "</div>"
      ],
      "text/plain": [
       "                                                 URL  Label\n",
       "0                            https://pages.tmall.com      0\n",
       "1                                http://habrahabr.ru      0\n",
       "2                                    https://ebay.de      0\n",
       "3  http://account-chek-police.000webhostapp.com/p...      1\n",
       "4       http://aprecnotis.clan.su/recovery-login.htm      1"
      ]
     },
     "execution_count": 4,
     "metadata": {},
     "output_type": "execute_result"
    }
   ],
   "source": [
    "dataset.head()"
   ]
  },
  {
   "cell_type": "code",
   "execution_count": 5,
   "metadata": {},
   "outputs": [
    {
     "data": {
      "text/plain": [
       "5894"
      ]
     },
     "execution_count": 5,
     "metadata": {},
     "output_type": "execute_result"
    }
   ],
   "source": [
    "len(dataset)"
   ]
  },
  {
   "cell_type": "code",
   "execution_count": null,
   "metadata": {
    "collapsed": true
   },
   "outputs": [],
   "source": [
    "def yearlyUniqueVisitors(x):\n",
    "    res = requests.get('http://www.siteworthtraffic.com/report/'+x)\n",
    "    if res.status_code == requests.codes.ok:\n",
    "        websitesoup = bs4.BeautifulSoup(res.text)\n",
    "        elem = websitesoup.select('h1')\n",
    "        if elem[0].getText() == 'An Error Occurred':\n",
    "            return -1\n",
    "        else:\n",
    "            elems = websitesoup.select('td')\n",
    "            return int(elems[13].getText().replace(',', ''))\n",
    "    else:\n",
    "        return -1"
   ]
  },
  {
   "cell_type": "code",
   "execution_count": null,
   "metadata": {
    "scrolled": false
   },
   "outputs": [
    {
     "name": "stdout",
     "output_type": "stream",
     "text": [
      "0 -1\n",
      "1 -1\n",
      "2 -1\n",
      "3 -1\n",
      "4 -1\n",
      "5 -1\n",
      "6 -1\n",
      "7 -1\n",
      "8 -1\n",
      "9 -1\n",
      "10 -1\n",
      "11 -1\n",
      "12 -1\n",
      "13 -1\n",
      "14 -1\n",
      "15 -1\n",
      "16 -1\n",
      "17 -1\n",
      "18 -1\n",
      "19 -1\n",
      "20 -1\n",
      "21 -1\n",
      "22 -1\n",
      "23 -1\n",
      "24 -1\n",
      "25 -1\n",
      "26 -1\n",
      "27 -1\n",
      "28 -1\n",
      "29 -1\n",
      "30 -1\n",
      "31 -1\n",
      "32 -1\n",
      "33 -1\n",
      "34 -1\n",
      "35 -1\n",
      "36 -1\n",
      "37 -1\n",
      "38 -1\n",
      "39 -1\n",
      "40 -1\n",
      "41 -1\n",
      "42 -1\n",
      "43 -1\n",
      "44 -1\n",
      "45 -1\n",
      "46 -1\n",
      "47 -1\n",
      "48 -1\n",
      "49 -1\n",
      "50 -1\n",
      "51 -1\n",
      "52 -1\n",
      "53 -1\n",
      "54 -1\n",
      "55 -1\n",
      "56 -1\n",
      "57 -1\n",
      "58 -1\n",
      "59 -1\n",
      "60 -1\n",
      "61 -1\n",
      "62 -1\n",
      "63 -1\n",
      "64 -1\n",
      "65 -1\n",
      "66 -1\n",
      "67 -1\n",
      "68 -1\n",
      "69 -1\n",
      "70 -1\n",
      "71 -1\n",
      "72 -1\n",
      "73 -1\n",
      "74 -1\n",
      "75 -1\n",
      "76 -1\n",
      "77 -1\n",
      "78 -1\n",
      "79 -1\n",
      "80 -1\n",
      "81 -1\n",
      "82 -1\n",
      "83 -1\n",
      "84 -1\n",
      "85 -1\n",
      "86 -1\n",
      "87 -1\n",
      "88 -1\n",
      "89 -1\n",
      "90 -1\n",
      "91 -1\n",
      "92 -1\n",
      "93 -1\n",
      "94 -1\n",
      "95 -1\n",
      "96 -1\n",
      "97 -1\n",
      "98 -1\n",
      "99 -1\n",
      "100 -1\n",
      "101 -1\n",
      "102 -1\n",
      "103 -1\n",
      "104 -1\n",
      "105 -1\n",
      "106 -1\n",
      "107 -1\n",
      "108 -1\n",
      "109 -1\n",
      "110 -1\n",
      "111 -1\n",
      "112 -1\n",
      "113 -1\n",
      "114 -1\n",
      "115 -1\n",
      "116 -1\n",
      "117 -1\n",
      "118 -1\n",
      "119 -1\n",
      "120 -1\n",
      "121 -1\n",
      "122 -1\n",
      "123 -1\n",
      "124 -1\n",
      "125 -1\n",
      "126 -1\n",
      "127 -1\n",
      "128 -1\n",
      "129 -1\n",
      "130 -1\n",
      "131 -1\n",
      "132 -1\n",
      "133 -1\n",
      "134 -1\n",
      "135 -1\n",
      "136 -1\n",
      "137 -1\n",
      "138 -1\n",
      "139 -1\n",
      "140 -1\n",
      "141 -1\n",
      "142 -1\n",
      "143 -1\n",
      "144 -1\n",
      "145 -1\n",
      "146 -1\n",
      "147 -1\n",
      "148 -1\n",
      "149 -1\n",
      "150 -1\n",
      "151 -1\n",
      "152 -1\n",
      "153 -1\n",
      "154 -1\n",
      "155 -1\n",
      "156 -1\n",
      "157 -1\n",
      "158 -1\n",
      "159 -1\n",
      "160 -1\n",
      "161 -1\n",
      "162 -1\n",
      "163 -1\n",
      "164 -1\n",
      "165 -1\n",
      "166 -1\n",
      "167 -1\n",
      "168 -1\n",
      "169 -1\n",
      "170 -1\n",
      "171 -1\n",
      "172 -1\n",
      "173 -1\n",
      "174 -1\n",
      "175 -1\n",
      "176 -1\n",
      "177 -1\n",
      "178 -1\n",
      "179 -1\n",
      "180 -1\n",
      "181 -1\n",
      "182 -1\n",
      "183 -1\n",
      "184 -1\n",
      "185 -1\n",
      "186 -1\n",
      "187 -1\n",
      "188 -1\n",
      "189 -1\n",
      "190 -1\n"
     ]
    }
   ],
   "source": [
    "yuv = []\n",
    "for i, x in enumerate(dataset['URL']):\n",
    "    yuv.append(yearlyUniqueVisitors(x))\n",
    "    print(i, yuv[-1])"
   ]
  },
  {
   "cell_type": "code",
   "execution_count": null,
   "metadata": {},
   "outputs": [],
   "source": [
    "print(len(yuv))\n",
    "print(yuv)"
   ]
  },
  {
   "cell_type": "code",
   "execution_count": null,
   "metadata": {
    "collapsed": true
   },
   "outputs": [],
   "source": [
    "dataset['yearlyUniqueVisitors'] = yuv"
   ]
  },
  {
   "cell_type": "code",
   "execution_count": null,
   "metadata": {},
   "outputs": [],
   "source": [
    "dataset.head()"
   ]
  },
  {
   "cell_type": "code",
   "execution_count": null,
   "metadata": {
    "collapsed": true
   },
   "outputs": [],
   "source": [
    "dataset.to_csv('YearlyUniqueVisitors.csv', index=False)"
   ]
  },
  {
   "cell_type": "code",
   "execution_count": null,
   "metadata": {
    "collapsed": true
   },
   "outputs": [],
   "source": []
  }
 ],
 "metadata": {
  "kernelspec": {
   "display_name": "Python 3",
   "language": "python",
   "name": "python3"
  },
  "language_info": {
   "codemirror_mode": {
    "name": "ipython",
    "version": 3
   },
   "file_extension": ".py",
   "mimetype": "text/x-python",
   "name": "python",
   "nbconvert_exporter": "python",
   "pygments_lexer": "ipython3",
   "version": "3.5.4"
  }
 },
 "nbformat": 4,
 "nbformat_minor": 2
}

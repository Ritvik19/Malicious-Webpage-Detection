{
 "cells": [
  {
   "cell_type": "markdown",
   "metadata": {},
   "source": [
    "# Libraries"
   ]
  },
  {
   "cell_type": "code",
   "execution_count": 1,
   "metadata": {},
   "outputs": [
    {
     "name": "stderr",
     "output_type": "stream",
     "text": [
      "Using TensorFlow backend.\n"
     ]
    }
   ],
   "source": [
    "import numpy as np\n",
    "import pandas as pd\n",
    "import tensorflow as tf\n",
    "import keras"
   ]
  },
  {
   "cell_type": "markdown",
   "metadata": {},
   "source": [
    "# Data"
   ]
  },
  {
   "cell_type": "code",
   "execution_count": 2,
   "metadata": {
    "collapsed": true
   },
   "outputs": [],
   "source": [
    "dataset = pd.read_csv('featureset.csv')"
   ]
  },
  {
   "cell_type": "code",
   "execution_count": 3,
   "metadata": {
    "collapsed": true
   },
   "outputs": [],
   "source": [
    "testset = pd.read_csv('testset.csv')"
   ]
  },
  {
   "cell_type": "code",
   "execution_count": 4,
   "metadata": {},
   "outputs": [
    {
     "data": {
      "text/html": [
       "<div>\n",
       "<style scoped>\n",
       "    .dataframe tbody tr th:only-of-type {\n",
       "        vertical-align: middle;\n",
       "    }\n",
       "\n",
       "    .dataframe tbody tr th {\n",
       "        vertical-align: top;\n",
       "    }\n",
       "\n",
       "    .dataframe thead th {\n",
       "        text-align: right;\n",
       "    }\n",
       "</style>\n",
       "<table border=\"1\" class=\"dataframe\">\n",
       "  <thead>\n",
       "    <tr style=\"text-align: right;\">\n",
       "      <th></th>\n",
       "      <th>URL</th>\n",
       "      <th>length</th>\n",
       "      <th>isIp</th>\n",
       "      <th>countAt</th>\n",
       "      <th>countDoubleSlash</th>\n",
       "      <th>countHyphen</th>\n",
       "      <th>countDots</th>\n",
       "      <th>countDelimeters</th>\n",
       "      <th>countSubDirectory</th>\n",
       "      <th>countQueries</th>\n",
       "      <th>domainRegistrationLength</th>\n",
       "      <th>alexaGlobalRank</th>\n",
       "      <th>bounceRate</th>\n",
       "      <th>dailyPageViewsPerVisitor</th>\n",
       "      <th>dailyTimeOnSite</th>\n",
       "      <th>searchVisits</th>\n",
       "      <th>totalSitesLinkingIn</th>\n",
       "      <th>label</th>\n",
       "    </tr>\n",
       "  </thead>\n",
       "  <tbody>\n",
       "    <tr>\n",
       "      <th>0</th>\n",
       "      <td>https://pages.tmall.com</td>\n",
       "      <td>23</td>\n",
       "      <td>0</td>\n",
       "      <td>0</td>\n",
       "      <td>1</td>\n",
       "      <td>0</td>\n",
       "      <td>2</td>\n",
       "      <td>0</td>\n",
       "      <td>2</td>\n",
       "      <td>1</td>\n",
       "      <td>23</td>\n",
       "      <td>0.031250</td>\n",
       "      <td>-1.0</td>\n",
       "      <td>-1.0</td>\n",
       "      <td>-1</td>\n",
       "      <td>-1.0</td>\n",
       "      <td>-1.0</td>\n",
       "      <td>0</td>\n",
       "    </tr>\n",
       "    <tr>\n",
       "      <th>1</th>\n",
       "      <td>http://habrahabr.ru</td>\n",
       "      <td>19</td>\n",
       "      <td>0</td>\n",
       "      <td>0</td>\n",
       "      <td>1</td>\n",
       "      <td>0</td>\n",
       "      <td>1</td>\n",
       "      <td>0</td>\n",
       "      <td>2</td>\n",
       "      <td>1</td>\n",
       "      <td>12</td>\n",
       "      <td>-1.000000</td>\n",
       "      <td>-1.0</td>\n",
       "      <td>-1.0</td>\n",
       "      <td>-1</td>\n",
       "      <td>-1.0</td>\n",
       "      <td>-1.0</td>\n",
       "      <td>0</td>\n",
       "    </tr>\n",
       "    <tr>\n",
       "      <th>2</th>\n",
       "      <td>https://ebay.de</td>\n",
       "      <td>15</td>\n",
       "      <td>0</td>\n",
       "      <td>0</td>\n",
       "      <td>1</td>\n",
       "      <td>0</td>\n",
       "      <td>1</td>\n",
       "      <td>0</td>\n",
       "      <td>2</td>\n",
       "      <td>1</td>\n",
       "      <td>-1</td>\n",
       "      <td>0.007092</td>\n",
       "      <td>-1.0</td>\n",
       "      <td>-1.0</td>\n",
       "      <td>-1</td>\n",
       "      <td>-1.0</td>\n",
       "      <td>-1.0</td>\n",
       "      <td>0</td>\n",
       "    </tr>\n",
       "    <tr>\n",
       "      <th>3</th>\n",
       "      <td>http://account-chek-police.000webhostapp.com/p...</td>\n",
       "      <td>131</td>\n",
       "      <td>0</td>\n",
       "      <td>0</td>\n",
       "      <td>1</td>\n",
       "      <td>4</td>\n",
       "      <td>3</td>\n",
       "      <td>11</td>\n",
       "      <td>3</td>\n",
       "      <td>3</td>\n",
       "      <td>5</td>\n",
       "      <td>-1.000000</td>\n",
       "      <td>-1.0</td>\n",
       "      <td>-1.0</td>\n",
       "      <td>-1</td>\n",
       "      <td>-1.0</td>\n",
       "      <td>-1.0</td>\n",
       "      <td>1</td>\n",
       "    </tr>\n",
       "    <tr>\n",
       "      <th>4</th>\n",
       "      <td>http://aprecnotis.clan.su/recovery-login.htm</td>\n",
       "      <td>44</td>\n",
       "      <td>0</td>\n",
       "      <td>0</td>\n",
       "      <td>1</td>\n",
       "      <td>1</td>\n",
       "      <td>3</td>\n",
       "      <td>0</td>\n",
       "      <td>3</td>\n",
       "      <td>1</td>\n",
       "      <td>12</td>\n",
       "      <td>-1.000000</td>\n",
       "      <td>-1.0</td>\n",
       "      <td>-1.0</td>\n",
       "      <td>-1</td>\n",
       "      <td>-1.0</td>\n",
       "      <td>-1.0</td>\n",
       "      <td>1</td>\n",
       "    </tr>\n",
       "  </tbody>\n",
       "</table>\n",
       "</div>"
      ],
      "text/plain": [
       "                                                 URL  length  isIp  countAt  \\\n",
       "0                            https://pages.tmall.com      23     0        0   \n",
       "1                                http://habrahabr.ru      19     0        0   \n",
       "2                                    https://ebay.de      15     0        0   \n",
       "3  http://account-chek-police.000webhostapp.com/p...     131     0        0   \n",
       "4       http://aprecnotis.clan.su/recovery-login.htm      44     0        0   \n",
       "\n",
       "   countDoubleSlash  countHyphen  countDots  countDelimeters  \\\n",
       "0                 1            0          2                0   \n",
       "1                 1            0          1                0   \n",
       "2                 1            0          1                0   \n",
       "3                 1            4          3               11   \n",
       "4                 1            1          3                0   \n",
       "\n",
       "   countSubDirectory  countQueries  domainRegistrationLength  alexaGlobalRank  \\\n",
       "0                  2             1                        23         0.031250   \n",
       "1                  2             1                        12        -1.000000   \n",
       "2                  2             1                        -1         0.007092   \n",
       "3                  3             3                         5        -1.000000   \n",
       "4                  3             1                        12        -1.000000   \n",
       "\n",
       "   bounceRate  dailyPageViewsPerVisitor  dailyTimeOnSite  searchVisits  \\\n",
       "0        -1.0                      -1.0               -1          -1.0   \n",
       "1        -1.0                      -1.0               -1          -1.0   \n",
       "2        -1.0                      -1.0               -1          -1.0   \n",
       "3        -1.0                      -1.0               -1          -1.0   \n",
       "4        -1.0                      -1.0               -1          -1.0   \n",
       "\n",
       "   totalSitesLinkingIn  label  \n",
       "0                 -1.0      0  \n",
       "1                 -1.0      0  \n",
       "2                 -1.0      0  \n",
       "3                 -1.0      1  \n",
       "4                 -1.0      1  "
      ]
     },
     "execution_count": 4,
     "metadata": {},
     "output_type": "execute_result"
    }
   ],
   "source": [
    "dataset.head()"
   ]
  },
  {
   "cell_type": "code",
   "execution_count": 5,
   "metadata": {},
   "outputs": [
    {
     "data": {
      "text/html": [
       "<div>\n",
       "<style scoped>\n",
       "    .dataframe tbody tr th:only-of-type {\n",
       "        vertical-align: middle;\n",
       "    }\n",
       "\n",
       "    .dataframe tbody tr th {\n",
       "        vertical-align: top;\n",
       "    }\n",
       "\n",
       "    .dataframe thead th {\n",
       "        text-align: right;\n",
       "    }\n",
       "</style>\n",
       "<table border=\"1\" class=\"dataframe\">\n",
       "  <thead>\n",
       "    <tr style=\"text-align: right;\">\n",
       "      <th></th>\n",
       "      <th>length</th>\n",
       "      <th>isIp</th>\n",
       "      <th>countAt</th>\n",
       "      <th>countDoubleSlash</th>\n",
       "      <th>countHyphen</th>\n",
       "      <th>countDots</th>\n",
       "      <th>countDelimeters</th>\n",
       "      <th>countSubDirectory</th>\n",
       "      <th>countQueries</th>\n",
       "      <th>domainRegistrationLength</th>\n",
       "      <th>alexaGlobalRank</th>\n",
       "      <th>bounceRate</th>\n",
       "      <th>dailyPageViewsPerVisitor</th>\n",
       "      <th>dailyTimeOnSite</th>\n",
       "      <th>searchVisits</th>\n",
       "      <th>totalSitesLinkingIn</th>\n",
       "      <th>label</th>\n",
       "    </tr>\n",
       "  </thead>\n",
       "  <tbody>\n",
       "    <tr>\n",
       "      <th>0</th>\n",
       "      <td>39.0</td>\n",
       "      <td>0.0</td>\n",
       "      <td>0.0</td>\n",
       "      <td>1.0</td>\n",
       "      <td>0.0</td>\n",
       "      <td>2.0</td>\n",
       "      <td>0.0</td>\n",
       "      <td>2.0</td>\n",
       "      <td>1.0</td>\n",
       "      <td>0.0</td>\n",
       "      <td>-1.0</td>\n",
       "      <td>-1.0</td>\n",
       "      <td>-1.0</td>\n",
       "      <td>-1.0</td>\n",
       "      <td>-1.0</td>\n",
       "      <td>-1.0</td>\n",
       "      <td>1</td>\n",
       "    </tr>\n",
       "    <tr>\n",
       "      <th>1</th>\n",
       "      <td>31.0</td>\n",
       "      <td>0.0</td>\n",
       "      <td>0.0</td>\n",
       "      <td>1.0</td>\n",
       "      <td>0.0</td>\n",
       "      <td>2.0</td>\n",
       "      <td>0.0</td>\n",
       "      <td>2.0</td>\n",
       "      <td>1.0</td>\n",
       "      <td>-1.0</td>\n",
       "      <td>-1.0</td>\n",
       "      <td>-1.0</td>\n",
       "      <td>-1.0</td>\n",
       "      <td>-1.0</td>\n",
       "      <td>-1.0</td>\n",
       "      <td>-1.0</td>\n",
       "      <td>1</td>\n",
       "    </tr>\n",
       "    <tr>\n",
       "      <th>2</th>\n",
       "      <td>34.0</td>\n",
       "      <td>0.0</td>\n",
       "      <td>0.0</td>\n",
       "      <td>1.0</td>\n",
       "      <td>0.0</td>\n",
       "      <td>2.0</td>\n",
       "      <td>0.0</td>\n",
       "      <td>2.0</td>\n",
       "      <td>1.0</td>\n",
       "      <td>0.0</td>\n",
       "      <td>-1.0</td>\n",
       "      <td>-1.0</td>\n",
       "      <td>-1.0</td>\n",
       "      <td>-1.0</td>\n",
       "      <td>-1.0</td>\n",
       "      <td>-1.0</td>\n",
       "      <td>1</td>\n",
       "    </tr>\n",
       "    <tr>\n",
       "      <th>3</th>\n",
       "      <td>37.0</td>\n",
       "      <td>0.0</td>\n",
       "      <td>0.0</td>\n",
       "      <td>1.0</td>\n",
       "      <td>0.0</td>\n",
       "      <td>2.0</td>\n",
       "      <td>0.0</td>\n",
       "      <td>2.0</td>\n",
       "      <td>1.0</td>\n",
       "      <td>-1.0</td>\n",
       "      <td>-1.0</td>\n",
       "      <td>-1.0</td>\n",
       "      <td>-1.0</td>\n",
       "      <td>-1.0</td>\n",
       "      <td>-1.0</td>\n",
       "      <td>-1.0</td>\n",
       "      <td>1</td>\n",
       "    </tr>\n",
       "    <tr>\n",
       "      <th>4</th>\n",
       "      <td>33.0</td>\n",
       "      <td>0.0</td>\n",
       "      <td>0.0</td>\n",
       "      <td>1.0</td>\n",
       "      <td>0.0</td>\n",
       "      <td>2.0</td>\n",
       "      <td>0.0</td>\n",
       "      <td>2.0</td>\n",
       "      <td>1.0</td>\n",
       "      <td>-1.0</td>\n",
       "      <td>-1.0</td>\n",
       "      <td>-1.0</td>\n",
       "      <td>-1.0</td>\n",
       "      <td>-1.0</td>\n",
       "      <td>-1.0</td>\n",
       "      <td>-1.0</td>\n",
       "      <td>1</td>\n",
       "    </tr>\n",
       "  </tbody>\n",
       "</table>\n",
       "</div>"
      ],
      "text/plain": [
       "   length  isIp  countAt  countDoubleSlash  countHyphen  countDots  \\\n",
       "0    39.0   0.0      0.0               1.0          0.0        2.0   \n",
       "1    31.0   0.0      0.0               1.0          0.0        2.0   \n",
       "2    34.0   0.0      0.0               1.0          0.0        2.0   \n",
       "3    37.0   0.0      0.0               1.0          0.0        2.0   \n",
       "4    33.0   0.0      0.0               1.0          0.0        2.0   \n",
       "\n",
       "   countDelimeters  countSubDirectory  countQueries  domainRegistrationLength  \\\n",
       "0              0.0                2.0           1.0                       0.0   \n",
       "1              0.0                2.0           1.0                      -1.0   \n",
       "2              0.0                2.0           1.0                       0.0   \n",
       "3              0.0                2.0           1.0                      -1.0   \n",
       "4              0.0                2.0           1.0                      -1.0   \n",
       "\n",
       "   alexaGlobalRank  bounceRate  dailyPageViewsPerVisitor  dailyTimeOnSite  \\\n",
       "0             -1.0        -1.0                      -1.0             -1.0   \n",
       "1             -1.0        -1.0                      -1.0             -1.0   \n",
       "2             -1.0        -1.0                      -1.0             -1.0   \n",
       "3             -1.0        -1.0                      -1.0             -1.0   \n",
       "4             -1.0        -1.0                      -1.0             -1.0   \n",
       "\n",
       "   searchVisits  totalSitesLinkingIn  label  \n",
       "0          -1.0                 -1.0      1  \n",
       "1          -1.0                 -1.0      1  \n",
       "2          -1.0                 -1.0      1  \n",
       "3          -1.0                 -1.0      1  \n",
       "4          -1.0                 -1.0      1  "
      ]
     },
     "execution_count": 5,
     "metadata": {},
     "output_type": "execute_result"
    }
   ],
   "source": [
    "testset.head()"
   ]
  },
  {
   "cell_type": "code",
   "execution_count": 6,
   "metadata": {
    "collapsed": true
   },
   "outputs": [],
   "source": [
    "X = dataset.drop(['URL', 'label'], axis=1)\n",
    "y = dataset['label']"
   ]
  },
  {
   "cell_type": "code",
   "execution_count": 7,
   "metadata": {
    "collapsed": true
   },
   "outputs": [],
   "source": [
    "from sklearn.model_selection import train_test_split"
   ]
  },
  {
   "cell_type": "code",
   "execution_count": 8,
   "metadata": {
    "collapsed": true
   },
   "outputs": [],
   "source": [
    "X_train, X_eval, y_train, y_eval = train_test_split(X, y, test_size=0.2887, random_state=101)"
   ]
  },
  {
   "cell_type": "code",
   "execution_count": 9,
   "metadata": {
    "collapsed": true
   },
   "outputs": [],
   "source": [
    "X_test = testset.drop(['label'], axis=1)\n",
    "y_test = testset['label']"
   ]
  },
  {
   "cell_type": "markdown",
   "metadata": {},
   "source": [
    "# Scaled Features"
   ]
  },
  {
   "cell_type": "code",
   "execution_count": 10,
   "metadata": {
    "collapsed": true
   },
   "outputs": [],
   "source": [
    "from sklearn.preprocessing import MinMaxScaler"
   ]
  },
  {
   "cell_type": "code",
   "execution_count": 11,
   "metadata": {},
   "outputs": [
    {
     "data": {
      "text/plain": [
       "MinMaxScaler(copy=True, feature_range=(0, 1))"
      ]
     },
     "execution_count": 11,
     "metadata": {},
     "output_type": "execute_result"
    }
   ],
   "source": [
    "scaler = MinMaxScaler()\n",
    "scaler.fit(X)"
   ]
  },
  {
   "cell_type": "code",
   "execution_count": 12,
   "metadata": {
    "collapsed": true
   },
   "outputs": [],
   "source": [
    "Xs = scaler.transform(X)"
   ]
  },
  {
   "cell_type": "code",
   "execution_count": 13,
   "metadata": {
    "collapsed": true
   },
   "outputs": [],
   "source": [
    "Xs_train, Xs_eval, ys_train, ys_eval = train_test_split(Xs, y, test_size=0.2887, random_state=101)"
   ]
  },
  {
   "cell_type": "code",
   "execution_count": 14,
   "metadata": {
    "collapsed": true
   },
   "outputs": [],
   "source": [
    "Xs_test = scaler.transform(X_test)"
   ]
  },
  {
   "cell_type": "code",
   "execution_count": 15,
   "metadata": {
    "collapsed": true
   },
   "outputs": [],
   "source": [
    "ys_test = y_test"
   ]
  },
  {
   "cell_type": "markdown",
   "metadata": {},
   "source": [
    "# Machine Learning"
   ]
  },
  {
   "cell_type": "code",
   "execution_count": 16,
   "metadata": {
    "collapsed": true
   },
   "outputs": [],
   "source": [
    "from sklearn.metrics import classification_report, confusion_matrix"
   ]
  },
  {
   "cell_type": "markdown",
   "metadata": {},
   "source": [
    "### Neural Networks"
   ]
  },
  {
   "cell_type": "code",
   "execution_count": 17,
   "metadata": {
    "collapsed": true
   },
   "outputs": [],
   "source": [
    "from keras.models import Sequential\n",
    "from keras.layers import Dense\n",
    "from keras.wrappers.scikit_learn import KerasClassifier\n",
    "from sklearn.model_selection import cross_val_score"
   ]
  },
  {
   "cell_type": "code",
   "execution_count": 18,
   "metadata": {
    "collapsed": true
   },
   "outputs": [],
   "source": [
    "def neuralnet():\n",
    "    model = Sequential()\n",
    "    model.add(Dense(76, activation='relu', input_dim=16))\n",
    "    model.add(Dense(168, activation='relu'))\n",
    "    model.add(Dense(368, activation='relu'))\n",
    "    model.add(Dense(84, activation='relu'))\n",
    "    model.add(Dense(20, activation='relu'))\n",
    "    model.add(Dense(1, activation='sigmoid'))\n",
    "    model.compile(loss='binary_crossentropy', metrics=['accuracy'], optimizer='rmsprop')\n",
    "    return model"
   ]
  },
  {
   "cell_type": "code",
   "execution_count": 19,
   "metadata": {
    "collapsed": true
   },
   "outputs": [],
   "source": [
    "network = KerasClassifier(build_fn=neuralnet, batch_size=25, nb_epoch=100)"
   ]
  },
  {
   "cell_type": "code",
   "execution_count": 20,
   "metadata": {},
   "outputs": [
    {
     "name": "stdout",
     "output_type": "stream",
     "text": [
      "Epoch 1/1\n",
      "5304/5304 [==============================] - 4s 745us/step - loss: 0.1940 - acc: 0.9248\n",
      "590/590 [==============================] - 0s 543us/step\n",
      "Epoch 1/1\n",
      "5304/5304 [==============================] - 4s 822us/step - loss: 0.1960 - acc: 0.9233\n",
      "590/590 [==============================] - 0s 414us/step\n",
      "Epoch 1/1\n",
      "5304/5304 [==============================] - 5s 941us/step - loss: 0.1836 - acc: 0.9299\n",
      "590/590 [==============================] - 0s 496us/step\n",
      "Epoch 1/1\n",
      "5304/5304 [==============================] - 5s 972us/step - loss: 0.1862 - acc: 0.9280\n",
      "590/590 [==============================] - 0s 610us/step\n",
      "Epoch 1/1\n",
      "5305/5305 [==============================] - 6s 1ms/step - loss: 0.1885 - acc: 0.9336\n",
      "589/589 [==============================] - 0s 652us/step\n",
      "Epoch 1/1\n",
      "5305/5305 [==============================] - 5s 996us/step - loss: 0.1873 - acc: 0.9255\n",
      "589/589 [==============================] - 0s 838us/step\n",
      "Epoch 1/1\n",
      "5305/5305 [==============================] - ETA: 0s - loss: 0.1849 - acc: 0.929 - 5s 886us/step - loss: 0.1843 - acc: 0.9295\n",
      "589/589 [==============================] - 1s 955us/step\n",
      "Epoch 1/1\n",
      "5305/5305 [==============================] - 4s 799us/step - loss: 0.1943 - acc: 0.9267\n",
      "589/589 [==============================] - 1s 957us/step\n",
      "Epoch 1/1\n",
      "5305/5305 [==============================] - 5s 904us/step - loss: 0.1877 - acc: 0.9282\n",
      "589/589 [==============================] - 0s 674us/step\n",
      "Epoch 1/1\n",
      "5305/5305 [==============================] - 5s 1ms/step - loss: 0.1942 - acc: 0.9221\n",
      "589/589 [==============================] - 0s 822us/step\n",
      "0.9397709380305621 +- (0.017254656927992156)\n"
     ]
    }
   ],
   "source": [
    "accuracies = cross_val_score(estimator=network, X=Xs, y=y, cv=10)\n",
    "print(\"{} +- ({})\".format(accuracies.mean(), accuracies.std()))"
   ]
  },
  {
   "cell_type": "code",
   "execution_count": 21,
   "metadata": {},
   "outputs": [
    {
     "name": "stderr",
     "output_type": "stream",
     "text": [
      "D:\\Users\\Ritvik\\Anaconda3\\envs\\tfdeeplearning\\lib\\site-packages\\ipykernel_launcher.py:2: UserWarning: The `nb_epoch` argument in `fit` has been renamed `epochs`.\n",
      "  \n"
     ]
    },
    {
     "name": "stdout",
     "output_type": "stream",
     "text": [
      "Epoch 1/100\n",
      "5894/5894 [==============================] - 6s 1ms/step - loss: 0.1869 - acc: 0.9293\n",
      "Epoch 2/100\n",
      "5894/5894 [==============================] - 3s 485us/step - loss: 0.1383 - acc: 0.9433\n",
      "Epoch 3/100\n",
      "5894/5894 [==============================] - 4s 612us/step - loss: 0.1293 - acc: 0.9455\n",
      "Epoch 4/100\n",
      "5894/5894 [==============================] - 3s 578us/step - loss: 0.1258 - acc: 0.9462\n",
      "Epoch 5/100\n",
      "5894/5894 [==============================] - 3s 479us/step - loss: 0.1251 - acc: 0.9466\n",
      "Epoch 6/100\n",
      "5894/5894 [==============================] - 3s 590us/step - loss: 0.1213 - acc: 0.9489\n",
      "Epoch 7/100\n",
      "5894/5894 [==============================] - 4s 613us/step - loss: 0.1213 - acc: 0.9488\n",
      "Epoch 8/100\n",
      "5894/5894 [==============================] - 4s 643us/step - loss: 0.1215 - acc: 0.9496\n",
      "Epoch 9/100\n",
      "5894/5894 [==============================] - 4s 640us/step - loss: 0.1171 - acc: 0.9488\n",
      "Epoch 10/100\n",
      "5894/5894 [==============================] - 4s 639us/step - loss: 0.1151 - acc: 0.9518\n",
      "Epoch 11/100\n",
      "5894/5894 [==============================] - 4s 619us/step - loss: 0.1169 - acc: 0.9503\n",
      "Epoch 12/100\n",
      "5894/5894 [==============================] - 4s 659us/step - loss: 0.1184 - acc: 0.9491\n",
      "Epoch 13/100\n",
      "5894/5894 [==============================] - 4s 689us/step - loss: 0.1169 - acc: 0.9489\n",
      "Epoch 14/100\n",
      "5894/5894 [==============================] - 4s 628us/step - loss: 0.1162 - acc: 0.9481\n",
      "Epoch 15/100\n",
      "5894/5894 [==============================] - 4s 754us/step - loss: 0.1159 - acc: 0.9498\n",
      "Epoch 16/100\n",
      "5894/5894 [==============================] - 4s 713us/step - loss: 0.1163 - acc: 0.9520\n",
      "Epoch 17/100\n",
      "5894/5894 [==============================] - 4s 676us/step - loss: 0.1156 - acc: 0.9493\n",
      "Epoch 18/100\n",
      "5894/5894 [==============================] - 4s 694us/step - loss: 0.1118 - acc: 0.9486\n",
      "Epoch 19/100\n",
      "5894/5894 [==============================] - 4s 661us/step - loss: 0.1129 - acc: 0.9499\n",
      "Epoch 20/100\n",
      "5894/5894 [==============================] - 4s 655us/step - loss: 0.1185 - acc: 0.9494\n",
      "Epoch 21/100\n",
      "5894/5894 [==============================] - 4s 629us/step - loss: 0.1134 - acc: 0.9516\n",
      "Epoch 22/100\n",
      "5894/5894 [==============================] - 4s 627us/step - loss: 0.1150 - acc: 0.9508\n",
      "Epoch 23/100\n",
      "5894/5894 [==============================] - 4s 650us/step - loss: 0.1139 - acc: 0.9501\n",
      "Epoch 24/100\n",
      "5894/5894 [==============================] - 4s 645us/step - loss: 0.1165 - acc: 0.9515\n",
      "Epoch 25/100\n",
      "5894/5894 [==============================] - 4s 647us/step - loss: 0.1152 - acc: 0.9527\n",
      "Epoch 26/100\n",
      "5894/5894 [==============================] - 4s 635us/step - loss: 0.1146 - acc: 0.9499\n",
      "Epoch 27/100\n",
      "5894/5894 [==============================] - 4s 683us/step - loss: 0.1114 - acc: 0.9530\n",
      "Epoch 28/100\n",
      "5894/5894 [==============================] - 4s 621us/step - loss: 0.1209 - acc: 0.9530\n",
      "Epoch 29/100\n",
      "5894/5894 [==============================] - 4s 635us/step - loss: 0.1212 - acc: 0.9515\n",
      "Epoch 30/100\n",
      "5894/5894 [==============================] - 4s 631us/step - loss: 0.1167 - acc: 0.9510\n",
      "Epoch 31/100\n",
      "5894/5894 [==============================] - 4s 637us/step - loss: 0.1170 - acc: 0.9515\n",
      "Epoch 32/100\n",
      "5894/5894 [==============================] - 4s 627us/step - loss: 0.1256 - acc: 0.9510\n",
      "Epoch 33/100\n",
      "5894/5894 [==============================] - 4s 646us/step - loss: 0.1198 - acc: 0.9525\n",
      "Epoch 34/100\n",
      "5894/5894 [==============================] - 4s 624us/step - loss: 0.1190 - acc: 0.9516\n",
      "Epoch 35/100\n",
      "5894/5894 [==============================] - 4s 620us/step - loss: 0.1234 - acc: 0.9506 1s - loss: \n",
      "Epoch 36/100\n",
      "5894/5894 [==============================] - 4s 652us/step - loss: 0.1209 - acc: 0.9515\n",
      "Epoch 37/100\n",
      "5894/5894 [==============================] - 4s 657us/step - loss: 0.1285 - acc: 0.9510\n",
      "Epoch 38/100\n",
      "5894/5894 [==============================] - 4s 639us/step - loss: 0.1197 - acc: 0.9520\n",
      "Epoch 39/100\n",
      "5894/5894 [==============================] - 4s 711us/step - loss: 0.1224 - acc: 0.9516\n",
      "Epoch 40/100\n",
      "5894/5894 [==============================] - 4s 640us/step - loss: 0.1252 - acc: 0.9516\n",
      "Epoch 41/100\n",
      "5894/5894 [==============================] - 4s 644us/step - loss: 0.1260 - acc: 0.9508\n",
      "Epoch 42/100\n",
      "5894/5894 [==============================] - 4s 632us/step - loss: 0.1220 - acc: 0.9525\n",
      "Epoch 43/100\n",
      "5894/5894 [==============================] - 4s 607us/step - loss: 0.1215 - acc: 0.9530\n",
      "Epoch 44/100\n",
      "5894/5894 [==============================] - 4s 608us/step - loss: 0.1210 - acc: 0.9520\n",
      "Epoch 45/100\n",
      "5894/5894 [==============================] - 4s 634us/step - loss: 0.1219 - acc: 0.9537\n",
      "Epoch 46/100\n",
      "5894/5894 [==============================] - 4s 636us/step - loss: 0.1251 - acc: 0.9527\n",
      "Epoch 47/100\n",
      "5894/5894 [==============================] - 4s 635us/step - loss: 0.1231 - acc: 0.9532\n",
      "Epoch 48/100\n",
      "5894/5894 [==============================] - 4s 620us/step - loss: 0.1228 - acc: 0.9496\n",
      "Epoch 49/100\n",
      "5894/5894 [==============================] - 4s 624us/step - loss: 0.1217 - acc: 0.9516\n",
      "Epoch 50/100\n",
      "5894/5894 [==============================] - 4s 639us/step - loss: 0.1314 - acc: 0.9496\n",
      "Epoch 51/100\n",
      "5894/5894 [==============================] - 4s 647us/step - loss: 0.1269 - acc: 0.9511\n",
      "Epoch 52/100\n",
      "5894/5894 [==============================] - 4s 636us/step - loss: 0.1240 - acc: 0.9516\n",
      "Epoch 53/100\n",
      "5894/5894 [==============================] - 4s 684us/step - loss: 0.1285 - acc: 0.9530\n",
      "Epoch 54/100\n",
      "5894/5894 [==============================] - 4s 632us/step - loss: 0.1256 - acc: 0.9527\n",
      "Epoch 55/100\n",
      "5894/5894 [==============================] - 5s 899us/step - loss: 0.1311 - acc: 0.9499\n",
      "Epoch 56/100\n",
      "5894/5894 [==============================] - 5s 912us/step - loss: 0.1235 - acc: 0.9522\n",
      "Epoch 57/100\n",
      "5894/5894 [==============================] - 6s 943us/step - loss: 0.1211 - acc: 0.9533\n",
      "Epoch 58/100\n",
      "5894/5894 [==============================] - 6s 991us/step - loss: 0.1245 - acc: 0.9522 1\n",
      "Epoch 59/100\n",
      "5894/5894 [==============================] - 4s 649us/step - loss: 0.1224 - acc: 0.9516 1s\n",
      "Epoch 60/100\n",
      "5894/5894 [==============================] - 4s 647us/step - loss: 0.1214 - acc: 0.9527\n",
      "Epoch 61/100\n",
      "5894/5894 [==============================] - 4s 630us/step - loss: 0.1216 - acc: 0.9520\n",
      "Epoch 62/100\n",
      "5894/5894 [==============================] - 4s 641us/step - loss: 0.1228 - acc: 0.9532\n",
      "Epoch 63/100\n",
      "5894/5894 [==============================] - 4s 625us/step - loss: 0.1259 - acc: 0.9530\n",
      "Epoch 64/100\n",
      "5894/5894 [==============================] - 4s 653us/step - loss: 0.1207 - acc: 0.9528\n",
      "Epoch 65/100\n",
      "5894/5894 [==============================] - 4s 666us/step - loss: 0.1210 - acc: 0.9522\n",
      "Epoch 66/100\n",
      "5894/5894 [==============================] - 4s 655us/step - loss: 0.1273 - acc: 0.9532\n",
      "Epoch 67/100\n",
      "5894/5894 [==============================] - 4s 635us/step - loss: 0.1345 - acc: 0.9505\n",
      "Epoch 68/100\n",
      "5894/5894 [==============================] - 4s 648us/step - loss: 0.1199 - acc: 0.9525\n",
      "Epoch 69/100\n",
      "5894/5894 [==============================] - 4s 642us/step - loss: 0.1270 - acc: 0.9522\n",
      "Epoch 70/100\n",
      "5894/5894 [==============================] - 4s 663us/step - loss: 0.1275 - acc: 0.9522\n",
      "Epoch 71/100\n",
      "5894/5894 [==============================] - 4s 664us/step - loss: 0.1357 - acc: 0.9528\n",
      "Epoch 72/100\n",
      "5894/5894 [==============================] - 4s 719us/step - loss: 0.1364 - acc: 0.9513\n",
      "Epoch 73/100\n",
      "5894/5894 [==============================] - 5s 769us/step - loss: 0.1264 - acc: 0.9537\n",
      "Epoch 74/100\n",
      "5894/5894 [==============================] - 5s 811us/step - loss: 0.1359 - acc: 0.9530\n",
      "Epoch 75/100\n",
      "5894/5894 [==============================] - 5s 795us/step - loss: 0.1448 - acc: 0.9510\n",
      "Epoch 76/100\n",
      "5894/5894 [==============================] - 5s 794us/step - loss: 0.1233 - acc: 0.9515\n",
      "Epoch 77/100\n",
      "5894/5894 [==============================] - 5s 799us/step - loss: 0.1238 - acc: 0.9496\n",
      "Epoch 78/100\n",
      "5894/5894 [==============================] - 4s 743us/step - loss: 0.1326 - acc: 0.9530\n",
      "Epoch 79/100\n",
      "5894/5894 [==============================] - 4s 746us/step - loss: 0.1213 - acc: 0.9525\n",
      "Epoch 80/100\n",
      "5894/5894 [==============================] - 5s 792us/step - loss: 0.1386 - acc: 0.9520\n",
      "Epoch 81/100\n",
      "5894/5894 [==============================] - 5s 850us/step - loss: 0.1247 - acc: 0.9518\n",
      "Epoch 82/100\n"
     ]
    },
    {
     "name": "stdout",
     "output_type": "stream",
     "text": [
      "5894/5894 [==============================] - 4s 675us/step - loss: 0.1318 - acc: 0.9523\n",
      "Epoch 83/100\n",
      "5894/5894 [==============================] - 4s 647us/step - loss: 0.1326 - acc: 0.9511\n",
      "Epoch 84/100\n",
      "5894/5894 [==============================] - 5s 764us/step - loss: 0.1335 - acc: 0.9530\n",
      "Epoch 85/100\n",
      "5894/5894 [==============================] - 4s 726us/step - loss: 0.1389 - acc: 0.9506\n",
      "Epoch 86/100\n",
      "5894/5894 [==============================] - 4s 691us/step - loss: 0.1216 - acc: 0.9515\n",
      "Epoch 87/100\n",
      "5894/5894 [==============================] - 4s 665us/step - loss: 0.1307 - acc: 0.9525\n",
      "Epoch 88/100\n",
      "5894/5894 [==============================] - 4s 655us/step - loss: 0.1376 - acc: 0.9547\n",
      "Epoch 89/100\n",
      "5894/5894 [==============================] - 4s 618us/step - loss: 0.1359 - acc: 0.9493\n",
      "Epoch 90/100\n",
      "5894/5894 [==============================] - 4s 636us/step - loss: 0.1242 - acc: 0.9527\n",
      "Epoch 91/100\n",
      "5894/5894 [==============================] - 4s 662us/step - loss: 0.1402 - acc: 0.9505\n",
      "Epoch 92/100\n",
      "5894/5894 [==============================] - 4s 689us/step - loss: 0.1461 - acc: 0.9508\n",
      "Epoch 93/100\n",
      "5894/5894 [==============================] - 4s 634us/step - loss: 0.1275 - acc: 0.9510\n",
      "Epoch 94/100\n",
      "5894/5894 [==============================] - 4s 690us/step - loss: 0.1295 - acc: 0.9510\n",
      "Epoch 95/100\n",
      "5894/5894 [==============================] - 4s 631us/step - loss: 0.1280 - acc: 0.9528\n",
      "Epoch 96/100\n",
      "5894/5894 [==============================] - 4s 617us/step - loss: 0.1252 - acc: 0.9510\n",
      "Epoch 97/100\n",
      "5894/5894 [==============================] - 4s 614us/step - loss: 0.1302 - acc: 0.9499\n",
      "Epoch 98/100\n",
      "5894/5894 [==============================] - 4s 598us/step - loss: 0.1317 - acc: 0.9542\n",
      "Epoch 99/100\n",
      "5894/5894 [==============================] - 4s 607us/step - loss: 0.1305 - acc: 0.9518\n",
      "Epoch 100/100\n",
      "5894/5894 [==============================] - 4s 636us/step - loss: 0.1250 - acc: 0.9547\n"
     ]
    }
   ],
   "source": [
    "network = neuralnet()\n",
    "network.fit(Xs, y, batch_size=25, nb_epoch=100)\n",
    "y_pred = network.predict(Xs_test)"
   ]
  },
  {
   "cell_type": "code",
   "execution_count": 22,
   "metadata": {
    "collapsed": true
   },
   "outputs": [],
   "source": [
    "y_p = []\n",
    "for y in y_pred:\n",
    "    y_p.append(int(y.round()))"
   ]
  },
  {
   "cell_type": "code",
   "execution_count": 23,
   "metadata": {},
   "outputs": [
    {
     "name": "stdout",
     "output_type": "stream",
     "text": [
      "[[49  0]\n",
      " [ 7 43]]\n",
      "             precision    recall  f1-score   support\n",
      "\n",
      "          0       0.88      1.00      0.93        49\n",
      "          1       1.00      0.86      0.92        50\n",
      "\n",
      "avg / total       0.94      0.93      0.93        99\n",
      "\n"
     ]
    }
   ],
   "source": [
    "print(confusion_matrix(y_test, y_p))\n",
    "print(classification_report(y_test, y_p))"
   ]
  },
  {
   "cell_type": "markdown",
   "metadata": {},
   "source": [
    "# Model Pickeling"
   ]
  },
  {
   "cell_type": "code",
   "execution_count": 24,
   "metadata": {
    "collapsed": true
   },
   "outputs": [],
   "source": [
    "network.save('Keras.h5')"
   ]
  },
  {
   "cell_type": "code",
   "execution_count": 25,
   "metadata": {},
   "outputs": [
    {
     "name": "stdout",
     "output_type": "stream",
     "text": [
      "_________________________________________________________________\n",
      "Layer (type)                 Output Shape              Param #   \n",
      "=================================================================\n",
      "dense_61 (Dense)             (None, 76)                1292      \n",
      "_________________________________________________________________\n",
      "dense_62 (Dense)             (None, 168)               12936     \n",
      "_________________________________________________________________\n",
      "dense_63 (Dense)             (None, 368)               62192     \n",
      "_________________________________________________________________\n",
      "dense_64 (Dense)             (None, 84)                30996     \n",
      "_________________________________________________________________\n",
      "dense_65 (Dense)             (None, 20)                1700      \n",
      "_________________________________________________________________\n",
      "dense_66 (Dense)             (None, 1)                 21        \n",
      "=================================================================\n",
      "Total params: 109,137\n",
      "Trainable params: 109,137\n",
      "Non-trainable params: 0\n",
      "_________________________________________________________________\n"
     ]
    }
   ],
   "source": [
    "new_model = keras.models.load_model('Keras.h5')\n",
    "new_model.summary()"
   ]
  },
  {
   "cell_type": "code",
   "execution_count": null,
   "metadata": {
    "collapsed": true
   },
   "outputs": [],
   "source": []
  }
 ],
 "metadata": {
  "kernelspec": {
   "display_name": "Python 3",
   "language": "python",
   "name": "python3"
  },
  "language_info": {
   "codemirror_mode": {
    "name": "ipython",
    "version": 3
   },
   "file_extension": ".py",
   "mimetype": "text/x-python",
   "name": "python",
   "nbconvert_exporter": "python",
   "pygments_lexer": "ipython3",
   "version": "3.5.4"
  }
 },
 "nbformat": 4,
 "nbformat_minor": 2
}

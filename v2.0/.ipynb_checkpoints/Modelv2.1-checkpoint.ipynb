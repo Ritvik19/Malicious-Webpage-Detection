{
 "cells": [
  {
   "cell_type": "markdown",
   "metadata": {},
   "source": [
    "# Libraries"
   ]
  },
  {
   "cell_type": "code",
   "execution_count": 1,
   "metadata": {},
   "outputs": [
    {
     "name": "stderr",
     "output_type": "stream",
     "text": [
      "Using TensorFlow backend.\n"
     ]
    }
   ],
   "source": [
    "import numpy as np\n",
    "import pandas as pd\n",
    "import tensorflow as tf\n",
    "import keras"
   ]
  },
  {
   "cell_type": "markdown",
   "metadata": {},
   "source": [
    "# Data"
   ]
  },
  {
   "cell_type": "code",
   "execution_count": 2,
   "metadata": {
    "collapsed": true
   },
   "outputs": [],
   "source": [
    "dataset = pd.read_csv('featureset.csv')"
   ]
  },
  {
   "cell_type": "code",
   "execution_count": 3,
   "metadata": {
    "collapsed": true
   },
   "outputs": [],
   "source": [
    "testset = pd.read_csv('testset.csv')"
   ]
  },
  {
   "cell_type": "code",
   "execution_count": 4,
   "metadata": {},
   "outputs": [
    {
     "data": {
      "text/html": [
       "<div>\n",
       "<style scoped>\n",
       "    .dataframe tbody tr th:only-of-type {\n",
       "        vertical-align: middle;\n",
       "    }\n",
       "\n",
       "    .dataframe tbody tr th {\n",
       "        vertical-align: top;\n",
       "    }\n",
       "\n",
       "    .dataframe thead th {\n",
       "        text-align: right;\n",
       "    }\n",
       "</style>\n",
       "<table border=\"1\" class=\"dataframe\">\n",
       "  <thead>\n",
       "    <tr style=\"text-align: right;\">\n",
       "      <th></th>\n",
       "      <th>URL</th>\n",
       "      <th>length</th>\n",
       "      <th>isIp</th>\n",
       "      <th>countAt</th>\n",
       "      <th>countDoubleSlash</th>\n",
       "      <th>countHyphen</th>\n",
       "      <th>countDots</th>\n",
       "      <th>countDelimeters</th>\n",
       "      <th>countSubDirectory</th>\n",
       "      <th>countQueries</th>\n",
       "      <th>domainRegistrationLength</th>\n",
       "      <th>alexaGlobalRank</th>\n",
       "      <th>bounceRate</th>\n",
       "      <th>dailyPageViewsPerVisitor</th>\n",
       "      <th>dailyTimeOnSite</th>\n",
       "      <th>searchVisits</th>\n",
       "      <th>totalSitesLinkingIn</th>\n",
       "      <th>label</th>\n",
       "    </tr>\n",
       "  </thead>\n",
       "  <tbody>\n",
       "    <tr>\n",
       "      <th>0</th>\n",
       "      <td>https://pages.tmall.com</td>\n",
       "      <td>23</td>\n",
       "      <td>0</td>\n",
       "      <td>0</td>\n",
       "      <td>1</td>\n",
       "      <td>0</td>\n",
       "      <td>2</td>\n",
       "      <td>0</td>\n",
       "      <td>2</td>\n",
       "      <td>1</td>\n",
       "      <td>23</td>\n",
       "      <td>0.031250</td>\n",
       "      <td>-1.0</td>\n",
       "      <td>-1.0</td>\n",
       "      <td>-1</td>\n",
       "      <td>-1.0</td>\n",
       "      <td>-1.0</td>\n",
       "      <td>0</td>\n",
       "    </tr>\n",
       "    <tr>\n",
       "      <th>1</th>\n",
       "      <td>http://habrahabr.ru</td>\n",
       "      <td>19</td>\n",
       "      <td>0</td>\n",
       "      <td>0</td>\n",
       "      <td>1</td>\n",
       "      <td>0</td>\n",
       "      <td>1</td>\n",
       "      <td>0</td>\n",
       "      <td>2</td>\n",
       "      <td>1</td>\n",
       "      <td>12</td>\n",
       "      <td>-1.000000</td>\n",
       "      <td>-1.0</td>\n",
       "      <td>-1.0</td>\n",
       "      <td>-1</td>\n",
       "      <td>-1.0</td>\n",
       "      <td>-1.0</td>\n",
       "      <td>0</td>\n",
       "    </tr>\n",
       "    <tr>\n",
       "      <th>2</th>\n",
       "      <td>https://ebay.de</td>\n",
       "      <td>15</td>\n",
       "      <td>0</td>\n",
       "      <td>0</td>\n",
       "      <td>1</td>\n",
       "      <td>0</td>\n",
       "      <td>1</td>\n",
       "      <td>0</td>\n",
       "      <td>2</td>\n",
       "      <td>1</td>\n",
       "      <td>-1</td>\n",
       "      <td>0.007092</td>\n",
       "      <td>-1.0</td>\n",
       "      <td>-1.0</td>\n",
       "      <td>-1</td>\n",
       "      <td>-1.0</td>\n",
       "      <td>-1.0</td>\n",
       "      <td>0</td>\n",
       "    </tr>\n",
       "    <tr>\n",
       "      <th>3</th>\n",
       "      <td>http://account-chek-police.000webhostapp.com/p...</td>\n",
       "      <td>131</td>\n",
       "      <td>0</td>\n",
       "      <td>0</td>\n",
       "      <td>1</td>\n",
       "      <td>4</td>\n",
       "      <td>3</td>\n",
       "      <td>11</td>\n",
       "      <td>3</td>\n",
       "      <td>3</td>\n",
       "      <td>5</td>\n",
       "      <td>-1.000000</td>\n",
       "      <td>-1.0</td>\n",
       "      <td>-1.0</td>\n",
       "      <td>-1</td>\n",
       "      <td>-1.0</td>\n",
       "      <td>-1.0</td>\n",
       "      <td>1</td>\n",
       "    </tr>\n",
       "    <tr>\n",
       "      <th>4</th>\n",
       "      <td>http://aprecnotis.clan.su/recovery-login.htm</td>\n",
       "      <td>44</td>\n",
       "      <td>0</td>\n",
       "      <td>0</td>\n",
       "      <td>1</td>\n",
       "      <td>1</td>\n",
       "      <td>3</td>\n",
       "      <td>0</td>\n",
       "      <td>3</td>\n",
       "      <td>1</td>\n",
       "      <td>12</td>\n",
       "      <td>-1.000000</td>\n",
       "      <td>-1.0</td>\n",
       "      <td>-1.0</td>\n",
       "      <td>-1</td>\n",
       "      <td>-1.0</td>\n",
       "      <td>-1.0</td>\n",
       "      <td>1</td>\n",
       "    </tr>\n",
       "  </tbody>\n",
       "</table>\n",
       "</div>"
      ],
      "text/plain": [
       "                                                 URL  length  isIp  countAt  \\\n",
       "0                            https://pages.tmall.com      23     0        0   \n",
       "1                                http://habrahabr.ru      19     0        0   \n",
       "2                                    https://ebay.de      15     0        0   \n",
       "3  http://account-chek-police.000webhostapp.com/p...     131     0        0   \n",
       "4       http://aprecnotis.clan.su/recovery-login.htm      44     0        0   \n",
       "\n",
       "   countDoubleSlash  countHyphen  countDots  countDelimeters  \\\n",
       "0                 1            0          2                0   \n",
       "1                 1            0          1                0   \n",
       "2                 1            0          1                0   \n",
       "3                 1            4          3               11   \n",
       "4                 1            1          3                0   \n",
       "\n",
       "   countSubDirectory  countQueries  domainRegistrationLength  alexaGlobalRank  \\\n",
       "0                  2             1                        23         0.031250   \n",
       "1                  2             1                        12        -1.000000   \n",
       "2                  2             1                        -1         0.007092   \n",
       "3                  3             3                         5        -1.000000   \n",
       "4                  3             1                        12        -1.000000   \n",
       "\n",
       "   bounceRate  dailyPageViewsPerVisitor  dailyTimeOnSite  searchVisits  \\\n",
       "0        -1.0                      -1.0               -1          -1.0   \n",
       "1        -1.0                      -1.0               -1          -1.0   \n",
       "2        -1.0                      -1.0               -1          -1.0   \n",
       "3        -1.0                      -1.0               -1          -1.0   \n",
       "4        -1.0                      -1.0               -1          -1.0   \n",
       "\n",
       "   totalSitesLinkingIn  label  \n",
       "0                 -1.0      0  \n",
       "1                 -1.0      0  \n",
       "2                 -1.0      0  \n",
       "3                 -1.0      1  \n",
       "4                 -1.0      1  "
      ]
     },
     "execution_count": 4,
     "metadata": {},
     "output_type": "execute_result"
    }
   ],
   "source": [
    "dataset.head()"
   ]
  },
  {
   "cell_type": "code",
   "execution_count": 5,
   "metadata": {},
   "outputs": [
    {
     "data": {
      "text/html": [
       "<div>\n",
       "<style scoped>\n",
       "    .dataframe tbody tr th:only-of-type {\n",
       "        vertical-align: middle;\n",
       "    }\n",
       "\n",
       "    .dataframe tbody tr th {\n",
       "        vertical-align: top;\n",
       "    }\n",
       "\n",
       "    .dataframe thead th {\n",
       "        text-align: right;\n",
       "    }\n",
       "</style>\n",
       "<table border=\"1\" class=\"dataframe\">\n",
       "  <thead>\n",
       "    <tr style=\"text-align: right;\">\n",
       "      <th></th>\n",
       "      <th>length</th>\n",
       "      <th>isIp</th>\n",
       "      <th>countAt</th>\n",
       "      <th>countDoubleSlash</th>\n",
       "      <th>countHyphen</th>\n",
       "      <th>countDots</th>\n",
       "      <th>countDelimeters</th>\n",
       "      <th>countSubDirectory</th>\n",
       "      <th>countQueries</th>\n",
       "      <th>domainRegistrationLength</th>\n",
       "      <th>alexaGlobalRank</th>\n",
       "      <th>bounceRate</th>\n",
       "      <th>dailyPageViewsPerVisitor</th>\n",
       "      <th>dailyTimeOnSite</th>\n",
       "      <th>searchVisits</th>\n",
       "      <th>totalSitesLinkingIn</th>\n",
       "      <th>label</th>\n",
       "    </tr>\n",
       "  </thead>\n",
       "  <tbody>\n",
       "    <tr>\n",
       "      <th>0</th>\n",
       "      <td>39.0</td>\n",
       "      <td>0.0</td>\n",
       "      <td>0.0</td>\n",
       "      <td>1.0</td>\n",
       "      <td>0.0</td>\n",
       "      <td>2.0</td>\n",
       "      <td>0.0</td>\n",
       "      <td>2.0</td>\n",
       "      <td>1.0</td>\n",
       "      <td>0.0</td>\n",
       "      <td>-1.0</td>\n",
       "      <td>-1.0</td>\n",
       "      <td>-1.0</td>\n",
       "      <td>-1.0</td>\n",
       "      <td>-1.0</td>\n",
       "      <td>-1.0</td>\n",
       "      <td>1</td>\n",
       "    </tr>\n",
       "    <tr>\n",
       "      <th>1</th>\n",
       "      <td>31.0</td>\n",
       "      <td>0.0</td>\n",
       "      <td>0.0</td>\n",
       "      <td>1.0</td>\n",
       "      <td>0.0</td>\n",
       "      <td>2.0</td>\n",
       "      <td>0.0</td>\n",
       "      <td>2.0</td>\n",
       "      <td>1.0</td>\n",
       "      <td>-1.0</td>\n",
       "      <td>-1.0</td>\n",
       "      <td>-1.0</td>\n",
       "      <td>-1.0</td>\n",
       "      <td>-1.0</td>\n",
       "      <td>-1.0</td>\n",
       "      <td>-1.0</td>\n",
       "      <td>1</td>\n",
       "    </tr>\n",
       "    <tr>\n",
       "      <th>2</th>\n",
       "      <td>34.0</td>\n",
       "      <td>0.0</td>\n",
       "      <td>0.0</td>\n",
       "      <td>1.0</td>\n",
       "      <td>0.0</td>\n",
       "      <td>2.0</td>\n",
       "      <td>0.0</td>\n",
       "      <td>2.0</td>\n",
       "      <td>1.0</td>\n",
       "      <td>0.0</td>\n",
       "      <td>-1.0</td>\n",
       "      <td>-1.0</td>\n",
       "      <td>-1.0</td>\n",
       "      <td>-1.0</td>\n",
       "      <td>-1.0</td>\n",
       "      <td>-1.0</td>\n",
       "      <td>1</td>\n",
       "    </tr>\n",
       "    <tr>\n",
       "      <th>3</th>\n",
       "      <td>37.0</td>\n",
       "      <td>0.0</td>\n",
       "      <td>0.0</td>\n",
       "      <td>1.0</td>\n",
       "      <td>0.0</td>\n",
       "      <td>2.0</td>\n",
       "      <td>0.0</td>\n",
       "      <td>2.0</td>\n",
       "      <td>1.0</td>\n",
       "      <td>-1.0</td>\n",
       "      <td>-1.0</td>\n",
       "      <td>-1.0</td>\n",
       "      <td>-1.0</td>\n",
       "      <td>-1.0</td>\n",
       "      <td>-1.0</td>\n",
       "      <td>-1.0</td>\n",
       "      <td>1</td>\n",
       "    </tr>\n",
       "    <tr>\n",
       "      <th>4</th>\n",
       "      <td>33.0</td>\n",
       "      <td>0.0</td>\n",
       "      <td>0.0</td>\n",
       "      <td>1.0</td>\n",
       "      <td>0.0</td>\n",
       "      <td>2.0</td>\n",
       "      <td>0.0</td>\n",
       "      <td>2.0</td>\n",
       "      <td>1.0</td>\n",
       "      <td>-1.0</td>\n",
       "      <td>-1.0</td>\n",
       "      <td>-1.0</td>\n",
       "      <td>-1.0</td>\n",
       "      <td>-1.0</td>\n",
       "      <td>-1.0</td>\n",
       "      <td>-1.0</td>\n",
       "      <td>1</td>\n",
       "    </tr>\n",
       "  </tbody>\n",
       "</table>\n",
       "</div>"
      ],
      "text/plain": [
       "   length  isIp  countAt  countDoubleSlash  countHyphen  countDots  \\\n",
       "0    39.0   0.0      0.0               1.0          0.0        2.0   \n",
       "1    31.0   0.0      0.0               1.0          0.0        2.0   \n",
       "2    34.0   0.0      0.0               1.0          0.0        2.0   \n",
       "3    37.0   0.0      0.0               1.0          0.0        2.0   \n",
       "4    33.0   0.0      0.0               1.0          0.0        2.0   \n",
       "\n",
       "   countDelimeters  countSubDirectory  countQueries  domainRegistrationLength  \\\n",
       "0              0.0                2.0           1.0                       0.0   \n",
       "1              0.0                2.0           1.0                      -1.0   \n",
       "2              0.0                2.0           1.0                       0.0   \n",
       "3              0.0                2.0           1.0                      -1.0   \n",
       "4              0.0                2.0           1.0                      -1.0   \n",
       "\n",
       "   alexaGlobalRank  bounceRate  dailyPageViewsPerVisitor  dailyTimeOnSite  \\\n",
       "0             -1.0        -1.0                      -1.0             -1.0   \n",
       "1             -1.0        -1.0                      -1.0             -1.0   \n",
       "2             -1.0        -1.0                      -1.0             -1.0   \n",
       "3             -1.0        -1.0                      -1.0             -1.0   \n",
       "4             -1.0        -1.0                      -1.0             -1.0   \n",
       "\n",
       "   searchVisits  totalSitesLinkingIn  label  \n",
       "0          -1.0                 -1.0      1  \n",
       "1          -1.0                 -1.0      1  \n",
       "2          -1.0                 -1.0      1  \n",
       "3          -1.0                 -1.0      1  \n",
       "4          -1.0                 -1.0      1  "
      ]
     },
     "execution_count": 5,
     "metadata": {},
     "output_type": "execute_result"
    }
   ],
   "source": [
    "testset.head()"
   ]
  },
  {
   "cell_type": "code",
   "execution_count": 6,
   "metadata": {
    "collapsed": true
   },
   "outputs": [],
   "source": [
    "X = dataset.drop(['URL', 'label'], axis=1)\n",
    "y = dataset['label']"
   ]
  },
  {
   "cell_type": "code",
   "execution_count": 7,
   "metadata": {
    "collapsed": true
   },
   "outputs": [],
   "source": [
    "from sklearn.model_selection import train_test_split"
   ]
  },
  {
   "cell_type": "code",
   "execution_count": 8,
   "metadata": {
    "collapsed": true
   },
   "outputs": [],
   "source": [
    "X_train, X_eval, y_train, y_eval = train_test_split(X, y, test_size=0.2887, random_state=101)"
   ]
  },
  {
   "cell_type": "code",
   "execution_count": 9,
   "metadata": {
    "collapsed": true
   },
   "outputs": [],
   "source": [
    "X_test = testset.drop(['label'], axis=1)\n",
    "y_test = testset['label']"
   ]
  },
  {
   "cell_type": "markdown",
   "metadata": {},
   "source": [
    "# Scaled Features"
   ]
  },
  {
   "cell_type": "code",
   "execution_count": 10,
   "metadata": {
    "collapsed": true
   },
   "outputs": [],
   "source": [
    "from sklearn.preprocessing import MinMaxScaler"
   ]
  },
  {
   "cell_type": "code",
   "execution_count": 11,
   "metadata": {},
   "outputs": [
    {
     "data": {
      "text/plain": [
       "MinMaxScaler(copy=True, feature_range=(0, 1))"
      ]
     },
     "execution_count": 11,
     "metadata": {},
     "output_type": "execute_result"
    }
   ],
   "source": [
    "scaler = MinMaxScaler()\n",
    "scaler.fit(X)"
   ]
  },
  {
   "cell_type": "code",
   "execution_count": 12,
   "metadata": {
    "collapsed": true
   },
   "outputs": [],
   "source": [
    "Xs = scaler.transform(X)"
   ]
  },
  {
   "cell_type": "code",
   "execution_count": 13,
   "metadata": {
    "collapsed": true
   },
   "outputs": [],
   "source": [
    "Xs_train, Xs_eval, ys_train, ys_eval = train_test_split(Xs, y, test_size=0.2887, random_state=101)"
   ]
  },
  {
   "cell_type": "code",
   "execution_count": 14,
   "metadata": {},
   "outputs": [],
   "source": [
    "Xs_test = scaler.transform(X_test)"
   ]
  },
  {
   "cell_type": "code",
   "execution_count": 15,
   "metadata": {
    "collapsed": true
   },
   "outputs": [],
   "source": [
    "ys_test = y_test"
   ]
  },
  {
   "cell_type": "markdown",
   "metadata": {},
   "source": [
    "# Machine Learning"
   ]
  },
  {
   "cell_type": "code",
   "execution_count": 16,
   "metadata": {
    "collapsed": true
   },
   "outputs": [],
   "source": [
    "from sklearn.metrics import classification_report, confusion_matrix"
   ]
  },
  {
   "cell_type": "markdown",
   "metadata": {},
   "source": [
    "### Neural Networks"
   ]
  },
  {
   "cell_type": "code",
   "execution_count": 17,
   "metadata": {
    "collapsed": true
   },
   "outputs": [],
   "source": [
    "from keras.models import Sequential\n",
    "from keras.layers import Dense\n",
    "from keras.wrappers.scikit_learn import KerasClassifier\n",
    "from sklearn.model_selection import cross_val_score"
   ]
  },
  {
   "cell_type": "code",
   "execution_count": 18,
   "metadata": {
    "collapsed": true
   },
   "outputs": [],
   "source": [
    "def neuralnet():\n",
    "    model = Sequential()\n",
    "    model.add(Dense(76, activation='relu', input_dim=16))\n",
    "    model.add(Dense(168, activation='relu'))\n",
    "    model.add(Dense(368, activation='relu'))\n",
    "    model.add(Dense(84, activation='relu'))\n",
    "    model.add(Dense(29, activation='relu'))\n",
    "    model.add(Dense(1, activation='sigmoid'))\n",
    "    model.compile(loss='binary_crossentropy', metrics=['accuracy'], optimizer='rmsprop')\n",
    "    return model"
   ]
  },
  {
   "cell_type": "code",
   "execution_count": 19,
   "metadata": {
    "collapsed": true
   },
   "outputs": [],
   "source": [
    "network = KerasClassifier(build_fn=neuralnet, batch_size=25, nb_epoch=100)"
   ]
  },
  {
   "cell_type": "code",
   "execution_count": 20,
   "metadata": {},
   "outputs": [
    {
     "name": "stdout",
     "output_type": "stream",
     "text": [
      "Epoch 1/1\n",
      "5304/5304 [==============================] - 3s 529us/step - loss: 0.1882 - acc: 0.9282\n",
      "590/590 [==============================] - 0s 260us/step\n",
      "Epoch 1/1\n",
      "5304/5304 [==============================] - 2s 409us/step - loss: 0.2040 - acc: 0.9257\n",
      "590/590 [==============================] - 0s 346us/step\n",
      "Epoch 1/1\n",
      "5304/5304 [==============================] - 2s 410us/step - loss: 0.1872 - acc: 0.9321\n",
      "590/590 [==============================] - 0s 266us/step\n",
      "Epoch 1/1\n",
      "5304/5304 [==============================] - 3s 492us/step - loss: 0.1856 - acc: 0.9291\n",
      "590/590 [==============================] - 0s 284us/step\n",
      "Epoch 1/1\n",
      "5305/5305 [==============================] - 2s 429us/step - loss: 0.1857 - acc: 0.9297\n",
      "589/589 [==============================] - 0s 363us/step\n",
      "Epoch 1/1\n",
      "5305/5305 [==============================] - 2s 402us/step - loss: 0.1837 - acc: 0.9299\n",
      "589/589 [==============================] - 0s 379us/step\n",
      "Epoch 1/1\n",
      "5305/5305 [==============================] - 3s 478us/step - loss: 0.1880 - acc: 0.9240\n",
      "589/589 [==============================] - 0s 409us/step\n",
      "Epoch 1/1\n",
      "5305/5305 [==============================] - 3s 497us/step - loss: 0.1827 - acc: 0.9270\n",
      "589/589 [==============================] - 0s 438us/step\n",
      "Epoch 1/1\n",
      "5305/5305 [==============================] - 3s 509us/step - loss: 0.1864 - acc: 0.9276\n",
      "589/589 [==============================] - 0s 536us/step\n",
      "Epoch 1/1\n",
      "5305/5305 [==============================] - 3s 555us/step - loss: 0.1863 - acc: 0.9274\n",
      "589/589 [==============================] - 0s 481us/step\n",
      "0.9081850849132957 +- (0.10380242144370783)\n"
     ]
    }
   ],
   "source": [
    "accuracies = cross_val_score(estimator=network, X=Xs, y=y, cv=10)\n",
    "print(\"{} +- ({})\".format(accuracies.mean(), accuracies.std()))"
   ]
  },
  {
   "cell_type": "code",
   "execution_count": 21,
   "metadata": {},
   "outputs": [
    {
     "name": "stderr",
     "output_type": "stream",
     "text": [
      "D:\\Users\\Ritvik\\Anaconda3\\envs\\tfdeeplearning\\lib\\site-packages\\ipykernel_launcher.py:2: UserWarning: The `nb_epoch` argument in `fit` has been renamed `epochs`.\n",
      "  \n"
     ]
    },
    {
     "name": "stdout",
     "output_type": "stream",
     "text": [
      "Epoch 1/100\n",
      "5894/5894 [==============================] - 3s 594us/step - loss: 0.1827 - acc: 0.9323\n",
      "Epoch 2/100\n",
      "5894/5894 [==============================] - 2s 308us/step - loss: 0.1383 - acc: 0.9420\n",
      "Epoch 3/100\n",
      "5894/5894 [==============================] - 1s 252us/step - loss: 0.1322 - acc: 0.9467\n",
      "Epoch 4/100\n",
      "5894/5894 [==============================] - 2s 289us/step - loss: 0.1261 - acc: 0.9466\n",
      "Epoch 5/100\n",
      "5894/5894 [==============================] - 2s 258us/step - loss: 0.1224 - acc: 0.9494\n",
      "Epoch 6/100\n",
      "5894/5894 [==============================] - 1s 247us/step - loss: 0.1217 - acc: 0.9494\n",
      "Epoch 7/100\n",
      "5894/5894 [==============================] - 2s 340us/step - loss: 0.1236 - acc: 0.9466\n",
      "Epoch 8/100\n",
      "5894/5894 [==============================] - 2s 356us/step - loss: 0.1184 - acc: 0.9493\n",
      "Epoch 9/100\n",
      "5894/5894 [==============================] - 2s 401us/step - loss: 0.1208 - acc: 0.9483\n",
      "Epoch 10/100\n",
      "5894/5894 [==============================] - 3s 465us/step - loss: 0.1174 - acc: 0.9506\n",
      "Epoch 11/100\n",
      "5894/5894 [==============================] - 2s 382us/step - loss: 0.1217 - acc: 0.9501\n",
      "Epoch 12/100\n",
      "5894/5894 [==============================] - 2s 316us/step - loss: 0.1176 - acc: 0.9506\n",
      "Epoch 13/100\n",
      "5894/5894 [==============================] - 2s 326us/step - loss: 0.1152 - acc: 0.9505\n",
      "Epoch 14/100\n",
      "5894/5894 [==============================] - 2s 370us/step - loss: 0.1184 - acc: 0.9508\n",
      "Epoch 15/100\n",
      "5894/5894 [==============================] - 2s 321us/step - loss: 0.1159 - acc: 0.9513\n",
      "Epoch 16/100\n",
      "5894/5894 [==============================] - 2s 365us/step - loss: 0.1154 - acc: 0.9513\n",
      "Epoch 17/100\n",
      "5894/5894 [==============================] - 2s 360us/step - loss: 0.1155 - acc: 0.9498\n",
      "Epoch 18/100\n",
      "5894/5894 [==============================] - 2s 330us/step - loss: 0.1202 - acc: 0.9510\n",
      "Epoch 19/100\n",
      "5894/5894 [==============================] - 2s 292us/step - loss: 0.1184 - acc: 0.9494\n",
      "Epoch 20/100\n",
      "5894/5894 [==============================] - 2s 306us/step - loss: 0.1153 - acc: 0.9516\n",
      "Epoch 21/100\n",
      "5894/5894 [==============================] - 2s 383us/step - loss: 0.1182 - acc: 0.9510\n",
      "Epoch 22/100\n",
      "5894/5894 [==============================] - 2s 283us/step - loss: 0.1196 - acc: 0.9528\n",
      "Epoch 23/100\n",
      "5894/5894 [==============================] - 2s 324us/step - loss: 0.1152 - acc: 0.9516\n",
      "Epoch 24/100\n",
      "5894/5894 [==============================] - 2s 297us/step - loss: 0.1133 - acc: 0.9515\n",
      "Epoch 25/100\n",
      "5894/5894 [==============================] - 2s 324us/step - loss: 0.1143 - acc: 0.9537\n",
      "Epoch 26/100\n",
      "5894/5894 [==============================] - 2s 374us/step - loss: 0.1116 - acc: 0.9525\n",
      "Epoch 27/100\n",
      "5894/5894 [==============================] - 2s 325us/step - loss: 0.1153 - acc: 0.9522\n",
      "Epoch 28/100\n",
      "5894/5894 [==============================] - 2s 331us/step - loss: 0.1190 - acc: 0.9528\n",
      "Epoch 29/100\n",
      "5894/5894 [==============================] - 2s 325us/step - loss: 0.1145 - acc: 0.9510\n",
      "Epoch 30/100\n",
      "5894/5894 [==============================] - 2s 287us/step - loss: 0.1142 - acc: 0.9506\n",
      "Epoch 31/100\n",
      "5894/5894 [==============================] - 2s 385us/step - loss: 0.1121 - acc: 0.9535\n",
      "Epoch 32/100\n",
      "5894/5894 [==============================] - 3s 431us/step - loss: 0.1176 - acc: 0.9533\n",
      "Epoch 33/100\n",
      "5894/5894 [==============================] - 2s 366us/step - loss: 0.1128 - acc: 0.9544\n",
      "Epoch 34/100\n",
      "5894/5894 [==============================] - 2s 382us/step - loss: 0.1139 - acc: 0.9533\n",
      "Epoch 35/100\n",
      "5894/5894 [==============================] - 2s 336us/step - loss: 0.1165 - acc: 0.9540\n",
      "Epoch 36/100\n",
      "5894/5894 [==============================] - 2s 267us/step - loss: 0.1156 - acc: 0.9516\n",
      "Epoch 37/100\n",
      "5894/5894 [==============================] - 1s 252us/step - loss: 0.1183 - acc: 0.9527\n",
      "Epoch 38/100\n",
      "5894/5894 [==============================] - 2s 266us/step - loss: 0.1165 - acc: 0.9523\n",
      "Epoch 39/100\n",
      "5894/5894 [==============================] - 2s 255us/step - loss: 0.1177 - acc: 0.9523\n",
      "Epoch 40/100\n",
      "5894/5894 [==============================] - 1s 253us/step - loss: 0.1193 - acc: 0.9518\n",
      "Epoch 41/100\n",
      "5894/5894 [==============================] - 2s 263us/step - loss: 0.1165 - acc: 0.9522\n",
      "Epoch 42/100\n",
      "5894/5894 [==============================] - 2s 259us/step - loss: 0.1141 - acc: 0.9530\n",
      "Epoch 43/100\n",
      "5894/5894 [==============================] - 2s 258us/step - loss: 0.1150 - acc: 0.9533\n",
      "Epoch 44/100\n",
      "5894/5894 [==============================] - 2s 261us/step - loss: 0.1117 - acc: 0.9555\n",
      "Epoch 45/100\n",
      "5894/5894 [==============================] - 2s 260us/step - loss: 0.1124 - acc: 0.9542\n",
      "Epoch 46/100\n",
      "5894/5894 [==============================] - 2s 256us/step - loss: 0.1206 - acc: 0.9520\n",
      "Epoch 47/100\n",
      "5894/5894 [==============================] - 2s 257us/step - loss: 0.1136 - acc: 0.9532\n",
      "Epoch 48/100\n",
      "5894/5894 [==============================] - 2s 279us/step - loss: 0.1146 - acc: 0.9530\n",
      "Epoch 49/100\n",
      "5894/5894 [==============================] - 2s 279us/step - loss: 0.1162 - acc: 0.9539\n",
      "Epoch 50/100\n",
      "5894/5894 [==============================] - 1s 252us/step - loss: 0.1328 - acc: 0.9496\n",
      "Epoch 51/100\n",
      "5894/5894 [==============================] - 1s 253us/step - loss: 0.1141 - acc: 0.9528\n",
      "Epoch 52/100\n",
      "5894/5894 [==============================] - 2s 258us/step - loss: 0.1178 - acc: 0.9499\n",
      "Epoch 53/100\n",
      "5894/5894 [==============================] - 2s 299us/step - loss: 0.1606 - acc: 0.9496\n",
      "Epoch 54/100\n",
      "5894/5894 [==============================] - 2s 372us/step - loss: 0.1173 - acc: 0.9511\n",
      "Epoch 55/100\n",
      "5894/5894 [==============================] - 2s 327us/step - loss: 0.1310 - acc: 0.9539\n",
      "Epoch 56/100\n",
      "5894/5894 [==============================] - 2s 275us/step - loss: 0.1096 - acc: 0.9530\n",
      "Epoch 57/100\n",
      "5894/5894 [==============================] - 2s 287us/step - loss: 0.1170 - acc: 0.9522\n",
      "Epoch 58/100\n",
      "5894/5894 [==============================] - 2s 288us/step - loss: 0.1170 - acc: 0.9542\n",
      "Epoch 59/100\n",
      "5894/5894 [==============================] - 2s 340us/step - loss: 0.1210 - acc: 0.9522\n",
      "Epoch 60/100\n",
      "5894/5894 [==============================] - 2s 380us/step - loss: 0.1180 - acc: 0.9545\n",
      "Epoch 61/100\n",
      "5894/5894 [==============================] - 2s 327us/step - loss: 0.1218 - acc: 0.9549\n",
      "Epoch 62/100\n",
      "5894/5894 [==============================] - 3s 536us/step - loss: 0.1184 - acc: 0.9516\n",
      "Epoch 63/100\n",
      "5894/5894 [==============================] - 4s 602us/step - loss: 0.1194 - acc: 0.9528\n",
      "Epoch 64/100\n",
      "5894/5894 [==============================] - 3s 454us/step - loss: 0.1207 - acc: 0.9523\n",
      "Epoch 65/100\n",
      "5894/5894 [==============================] - 2s 279us/step - loss: 0.1175 - acc: 0.9530\n",
      "Epoch 66/100\n",
      "5894/5894 [==============================] - 2s 336us/step - loss: 0.1181 - acc: 0.9535\n",
      "Epoch 67/100\n",
      "5894/5894 [==============================] - 2s 293us/step - loss: 0.1197 - acc: 0.9520\n",
      "Epoch 68/100\n",
      "5894/5894 [==============================] - 2s 370us/step - loss: 0.1130 - acc: 0.9539\n",
      "Epoch 69/100\n",
      "5894/5894 [==============================] - 3s 503us/step - loss: 0.1225 - acc: 0.9528\n",
      "Epoch 70/100\n",
      "5894/5894 [==============================] - 3s 547us/step - loss: 0.1478 - acc: 0.9510\n",
      "Epoch 71/100\n",
      "5894/5894 [==============================] - 4s 606us/step - loss: 0.1253 - acc: 0.9511\n",
      "Epoch 72/100\n",
      "5894/5894 [==============================] - 3s 461us/step - loss: 0.1230 - acc: 0.9540\n",
      "Epoch 73/100\n",
      "5894/5894 [==============================] - 2s 315us/step - loss: 0.1310 - acc: 0.9503\n",
      "Epoch 74/100\n",
      "5894/5894 [==============================] - 2s 329us/step - loss: 0.1255 - acc: 0.9537\n",
      "Epoch 75/100\n",
      "5894/5894 [==============================] - 2s 416us/step - loss: 0.1243 - acc: 0.9515\n",
      "Epoch 76/100\n",
      "5894/5894 [==============================] - 2s 346us/step - loss: 0.1340 - acc: 0.9522\n",
      "Epoch 77/100\n",
      "5894/5894 [==============================] - 4s 598us/step - loss: 0.1257 - acc: 0.9520\n",
      "Epoch 78/100\n",
      "5894/5894 [==============================] - 2s 311us/step - loss: 0.1240 - acc: 0.9516\n",
      "Epoch 79/100\n",
      "5894/5894 [==============================] - 3s 593us/step - loss: 0.1198 - acc: 0.9516\n",
      "Epoch 80/100\n",
      "5894/5894 [==============================] - 3s 453us/step - loss: 0.1323 - acc: 0.9513\n",
      "Epoch 81/100\n",
      "5894/5894 [==============================] - 3s 527us/step - loss: 0.1311 - acc: 0.9527\n",
      "Epoch 82/100\n"
     ]
    },
    {
     "name": "stdout",
     "output_type": "stream",
     "text": [
      "5894/5894 [==============================] - 3s 459us/step - loss: 0.1230 - acc: 0.9525\n",
      "Epoch 83/100\n",
      "5894/5894 [==============================] - 3s 481us/step - loss: 0.1327 - acc: 0.9528\n",
      "Epoch 84/100\n",
      "5894/5894 [==============================] - 3s 452us/step - loss: 0.1208 - acc: 0.9545\n",
      "Epoch 85/100\n",
      "5894/5894 [==============================] - 3s 592us/step - loss: 0.1244 - acc: 0.9535\n",
      "Epoch 86/100\n",
      "5894/5894 [==============================] - 2s 367us/step - loss: 0.1280 - acc: 0.9530\n",
      "Epoch 87/100\n",
      "5894/5894 [==============================] - 1s 247us/step - loss: 0.1398 - acc: 0.9533\n",
      "Epoch 88/100\n",
      "5894/5894 [==============================] - 2s 283us/step - loss: 0.1283 - acc: 0.9522\n",
      "Epoch 89/100\n",
      "5894/5894 [==============================] - 3s 434us/step - loss: 0.1265 - acc: 0.9535\n",
      "Epoch 90/100\n",
      "5894/5894 [==============================] - 2s 281us/step - loss: 0.1304 - acc: 0.9540\n",
      "Epoch 91/100\n",
      "5894/5894 [==============================] - 2s 285us/step - loss: 0.1346 - acc: 0.9520\n",
      "Epoch 92/100\n",
      "5894/5894 [==============================] - 2s 269us/step - loss: 0.1267 - acc: 0.9537\n",
      "Epoch 93/100\n",
      "5894/5894 [==============================] - 3s 495us/step - loss: 0.1225 - acc: 0.9533\n",
      "Epoch 94/100\n",
      "5894/5894 [==============================] - 3s 460us/step - loss: 0.3468 - acc: 0.9413\n",
      "Epoch 95/100\n",
      "5894/5894 [==============================] - 2s 372us/step - loss: 0.1219 - acc: 0.9540\n",
      "Epoch 96/100\n",
      "5894/5894 [==============================] - 2s 295us/step - loss: 0.1271 - acc: 0.9508\n",
      "Epoch 97/100\n",
      "5894/5894 [==============================] - 3s 434us/step - loss: 0.1292 - acc: 0.9535\n",
      "Epoch 98/100\n",
      "5894/5894 [==============================] - 8s 1ms/step - loss: 0.1237 - acc: 0.9527\n",
      "Epoch 99/100\n",
      "5894/5894 [==============================] - 5s 823us/step - loss: 0.1295 - acc: 0.9530\n",
      "Epoch 100/100\n",
      "5894/5894 [==============================] - 6s 1ms/step - loss: 0.1260 - acc: 0.9525\n"
     ]
    }
   ],
   "source": [
    "network = neuralnet()\n",
    "network.fit(Xs, y, batch_size=25, nb_epoch=100)\n",
    "y_pred = network.predict(Xs_test)"
   ]
  },
  {
   "cell_type": "code",
   "execution_count": 22,
   "metadata": {
    "collapsed": true
   },
   "outputs": [],
   "source": [
    "y_p = []\n",
    "for y in y_pred:\n",
    "    y_p.append(int(y.round()))"
   ]
  },
  {
   "cell_type": "code",
   "execution_count": 23,
   "metadata": {},
   "outputs": [
    {
     "name": "stdout",
     "output_type": "stream",
     "text": [
      "[[49  0]\n",
      " [13 37]]\n",
      "             precision    recall  f1-score   support\n",
      "\n",
      "          0       0.79      1.00      0.88        49\n",
      "          1       1.00      0.74      0.85        50\n",
      "\n",
      "avg / total       0.90      0.87      0.87        99\n",
      "\n"
     ]
    }
   ],
   "source": [
    "print(confusion_matrix(y_test, y_p))\n",
    "print(classification_report(y_test, y_p))"
   ]
  },
  {
   "cell_type": "markdown",
   "metadata": {},
   "source": [
    "# Model Pickeling"
   ]
  },
  {
   "cell_type": "code",
   "execution_count": 24,
   "metadata": {
    "collapsed": true
   },
   "outputs": [],
   "source": [
    "network.save('Keras.h5')"
   ]
  },
  {
   "cell_type": "code",
   "execution_count": 25,
   "metadata": {},
   "outputs": [
    {
     "name": "stdout",
     "output_type": "stream",
     "text": [
      "_________________________________________________________________\n",
      "Layer (type)                 Output Shape              Param #   \n",
      "=================================================================\n",
      "dense_61 (Dense)             (None, 76)                1292      \n",
      "_________________________________________________________________\n",
      "dense_62 (Dense)             (None, 168)               12936     \n",
      "_________________________________________________________________\n",
      "dense_63 (Dense)             (None, 368)               62192     \n",
      "_________________________________________________________________\n",
      "dense_64 (Dense)             (None, 84)                30996     \n",
      "_________________________________________________________________\n",
      "dense_65 (Dense)             (None, 29)                2465      \n",
      "_________________________________________________________________\n",
      "dense_66 (Dense)             (None, 1)                 30        \n",
      "=================================================================\n",
      "Total params: 109,911\n",
      "Trainable params: 109,911\n",
      "Non-trainable params: 0\n",
      "_________________________________________________________________\n"
     ]
    }
   ],
   "source": [
    "new_model = keras.models.load_model('Keras.h5')\n",
    "new_model.summary()"
   ]
  },
  {
   "cell_type": "code",
   "execution_count": null,
   "metadata": {
    "collapsed": true
   },
   "outputs": [],
   "source": []
  }
 ],
 "metadata": {
  "kernelspec": {
   "display_name": "Python 3",
   "language": "python",
   "name": "python3"
  },
  "language_info": {
   "codemirror_mode": {
    "name": "ipython",
    "version": 3
   },
   "file_extension": ".py",
   "mimetype": "text/x-python",
   "name": "python",
   "nbconvert_exporter": "python",
   "pygments_lexer": "ipython3",
   "version": "3.5.4"
  }
 },
 "nbformat": 4,
 "nbformat_minor": 2
}

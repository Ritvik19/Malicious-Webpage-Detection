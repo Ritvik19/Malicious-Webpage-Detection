{
 "cells": [
  {
   "cell_type": "code",
   "execution_count": 3,
   "metadata": {
    "collapsed": true
   },
   "outputs": [],
   "source": [
    "import requests, bs4\n",
    "from datetime import datetime\n",
    "import math"
   ]
  },
  {
   "cell_type": "code",
   "execution_count": 20,
   "metadata": {
    "collapsed": true
   },
   "outputs": [],
   "source": [
    "to_datetime = lambda x : datetime(int(x.getText()[:4]), int(x.getText()[5:7]), int(x.getText()[8:]))"
   ]
  },
  {
   "cell_type": "code",
   "execution_count": 33,
   "metadata": {
    "collapsed": true
   },
   "outputs": [],
   "source": [
    "def domainRegistrationLength(x):\n",
    "    try:\n",
    "        res = requests.get('https://www.whois.com/whois/'+x)\n",
    "        if res.status_code == requests.codes.ok:\n",
    "            websitesoup = bs4.BeautifulSoup(res.text)\n",
    "            elems = websitesoup.select('.df-value')\n",
    "            regOn, expOn = elems[2:4]\n",
    "            regOn = to_datetime(regOn)\n",
    "            expOn = to_datetime(expOn)\n",
    "            duration = (expOn - regOn).total_seconds()//31556926\n",
    "            return int(duration)\n",
    "        else:\n",
    "            return -1\n",
    "    except:\n",
    "        return -1"
   ]
  },
  {
   "cell_type": "code",
   "execution_count": 65,
   "metadata": {},
   "outputs": [
    {
     "data": {
      "text/plain": [
       "22"
      ]
     },
     "execution_count": 65,
     "metadata": {},
     "output_type": "execute_result"
    }
   ],
   "source": [
    "domainRegistrationLength('https://www.google.com')"
   ]
  },
  {
   "cell_type": "code",
   "execution_count": 63,
   "metadata": {
    "collapsed": true
   },
   "outputs": [],
   "source": [
    "def alexaGlobalRank(x):\n",
    "    try:\n",
    "        res = requests.get('https://www.alexa.com/siteinfo/'+x)\n",
    "        if res.status_code == requests.codes.ok:\n",
    "            websitesoup = bs4.BeautifulSoup(res.text)\n",
    "            elems = websitesoup.select('strong')\n",
    "            elem = elems[0]\n",
    "            if elem.getText() == \"We don't have enough data to rank this website.\":\n",
    "                return -1\n",
    "            else:\n",
    "                elem = elems[6]\n",
    "                return int(elem.getText().strip())\n",
    "        else:\n",
    "            return -1\n",
    "    except:\n",
    "        return -1"
   ]
  },
  {
   "cell_type": "code",
   "execution_count": 68,
   "metadata": {},
   "outputs": [
    {
     "data": {
      "text/plain": [
       "1"
      ]
     },
     "execution_count": 68,
     "metadata": {},
     "output_type": "execute_result"
    }
   ],
   "source": [
    "alexaGlobalRank('https://www.google.com')"
   ]
  },
  {
   "cell_type": "code",
   "execution_count": 17,
   "metadata": {
    "collapsed": true
   },
   "outputs": [],
   "source": [
    "def yearlyUniqueVisitors(x):\n",
    "    res = requests.get('http://www.siteworthtraffic.com/report/'+x)\n",
    "    if res.status_code == requests.codes.ok:\n",
    "        websitesoup = bs4.BeautifulSoup(res.text)\n",
    "        elem = websitesoup.select('h1')\n",
    "        if elem[0].getText() == 'An Error Occurred':\n",
    "            return -1\n",
    "        else:\n",
    "            elems = websitesoup.select('td')\n",
    "            return int(elems[13].getText().replace(',', ''))\n",
    "    else:\n",
    "        return -1"
   ]
  },
  {
   "cell_type": "code",
   "execution_count": null,
   "metadata": {
    "collapsed": true
   },
   "outputs": [],
   "source": [
    "http://www.siteworthtraffic.com/report/diaryofagameaddict.com\n",
    "http://www.siteworthtraffic.com/report/google.com"
   ]
  },
  {
   "cell_type": "code",
   "execution_count": 16,
   "metadata": {},
   "outputs": [
    {
     "name": "stdout",
     "output_type": "stream",
     "text": [
      "38881346140\n"
     ]
    }
   ],
   "source": [
    "res = requests.get('http://www.siteworthtraffic.com/report/google.com')\n",
    "if res.status_code == requests.codes.ok:\n",
    "    websitesoup = bs4.BeautifulSoup(res.text)\n",
    "    elem = websitesoup.select('h1')\n",
    "    if elem[0].getText() == 'An Error Occurred':\n",
    "        print(-1)\n",
    "    else:\n",
    "        elems = websitesoup.select('td')\n",
    "        print(int(elems[13].getText().replace(',', '')))\n",
    "else:\n",
    "    print(-1)"
   ]
  },
  {
   "cell_type": "code",
   "execution_count": 5,
   "metadata": {},
   "outputs": [
    {
     "name": "stdout",
     "output_type": "stream",
     "text": [
      "Alexa Traffic Ranks\n",
      "Unique Visitors and Pageviews\n",
      "Audience Geography\n",
      "Alexa Traffic Ranks\n",
      "Alexa Traffic Rank\n",
      "Updated Daily\n",
      "\n",
      "\n",
      "1              \n",
      "Traffic Rank in Country\n",
      "Updated Daily\n",
      "\n",
      "1              \n",
      "Monthly Unique Visitor Metrics\n",
      "Country\n",
      "Estimated Unique Visitors\n",
      "Updated Daily\n",
      "Estimated Visits\n",
      "Updated Daily\n",
      "Estimated Pageviews\n",
      "Updated Daily\n",
      "Loyalty Metrics\n",
      "Advanced Plan Only\n",
      "Advanced Plan Only\n",
      "Advanced Plan Only\n",
      "Loyalty Metrics\n",
      "Advanced Plan Only\n",
      "Advanced Plan Only\n",
      "Advanced Plan Only\n",
      "Loyalty Metrics\n",
      "Advanced Plan Only\n",
      "Advanced Plan Only\n",
      "Advanced Plan Only\n",
      "Loyalty Metrics\n",
      "Advanced Plan Only\n",
      "Advanced Plan Only\n",
      "Advanced Plan Only\n",
      "Loyalty Metrics\n",
      "Advanced Plan Only\n",
      "Advanced Plan Only\n",
      "Advanced Plan Only\n",
      "Loyalty Metrics\n",
      "Advanced Plan Only\n",
      "Advanced Plan Only\n",
      "Advanced Plan Only\n",
      "Audience Geography\n",
      "Alexa Pro Advanced\n",
      "Alexa Pro Advanced\n",
      "How engaged are visitors to this site?\n",
      "Bounce Rate (%)\n",
      "Daily Pageviews per Visitor\n",
      "Daily Time on Site\n",
      "\n",
      "34.90%              \n",
      "\n",
      "9.34              \n",
      "\n",
      "7:36              \n",
      "Search Traffic\n",
      "Top Keywords from Search Engines\n",
      "Upstream Sites\n",
      "Search Traffic\n",
      "\n",
      "2.50%              \n",
      "Top Keywords from Search Engines\n",
      "Upstream Sites\n",
      "Alexa Pro Advanced\n",
      "Alexa Pro Advanced\n",
      "Alexa Pro Advanced Plan\n",
      "Alexa Pro Advanced Plan\n",
      "Alexa Pro Basic Plan\n",
      "2,628,975\n",
      "2,628,975\n",
      "Alexa Pro Basic Plan\n",
      "2,628,975\n",
      "Other Sites Owned\n",
      "Sites with Similar Names\n",
      "Categories with Related Sites\n",
      "Alexa Pro Advanced\n",
      "Alexa Pro Advanced\n",
      "Site Description\n",
      "Audience Demographics\n",
      "Audience Demographics\n",
      "Alexa Pro Insight Plan\n",
      "Alexa Pro Insight Plan\n"
     ]
    }
   ],
   "source": [
    "res = requests.get('https://www.alexa.com/siteinfo/google.com')\n",
    "if res.status_code == requests.codes.ok:\n",
    "    websitesoup = bs4.BeautifulSoup(res.text)\n",
    "    elems = websitesoup.select('strong')\n",
    "    for elem in elems:\n",
    "        print(elem.getText())"
   ]
  },
  {
   "cell_type": "code",
   "execution_count": null,
   "metadata": {
    "collapsed": true
   },
   "outputs": [],
   "source": []
  }
 ],
 "metadata": {
  "kernelspec": {
   "display_name": "Python 3",
   "language": "python",
   "name": "python3"
  },
  "language_info": {
   "codemirror_mode": {
    "name": "ipython",
    "version": 3
   },
   "file_extension": ".py",
   "mimetype": "text/x-python",
   "name": "python",
   "nbconvert_exporter": "python",
   "pygments_lexer": "ipython3",
   "version": "3.5.4"
  }
 },
 "nbformat": 4,
 "nbformat_minor": 2
}

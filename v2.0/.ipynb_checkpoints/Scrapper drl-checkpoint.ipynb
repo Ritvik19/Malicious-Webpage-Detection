{
 "cells": [
  {
   "cell_type": "code",
   "execution_count": 1,
   "metadata": {
    "collapsed": true
   },
   "outputs": [],
   "source": [
    "import numpy as np\n",
    "import pandas as pd"
   ]
  },
  {
   "cell_type": "code",
   "execution_count": 2,
   "metadata": {
    "collapsed": true
   },
   "outputs": [],
   "source": [
    "import requests, bs4\n",
    "from datetime import datetime\n",
    "import math"
   ]
  },
  {
   "cell_type": "code",
   "execution_count": 3,
   "metadata": {
    "collapsed": true
   },
   "outputs": [],
   "source": [
    "dataset = pd.read_csv('data.csv')"
   ]
  },
  {
   "cell_type": "code",
   "execution_count": 4,
   "metadata": {},
   "outputs": [
    {
     "data": {
      "text/html": [
       "<div>\n",
       "<style scoped>\n",
       "    .dataframe tbody tr th:only-of-type {\n",
       "        vertical-align: middle;\n",
       "    }\n",
       "\n",
       "    .dataframe tbody tr th {\n",
       "        vertical-align: top;\n",
       "    }\n",
       "\n",
       "    .dataframe thead th {\n",
       "        text-align: right;\n",
       "    }\n",
       "</style>\n",
       "<table border=\"1\" class=\"dataframe\">\n",
       "  <thead>\n",
       "    <tr style=\"text-align: right;\">\n",
       "      <th></th>\n",
       "      <th>URL</th>\n",
       "      <th>Label</th>\n",
       "    </tr>\n",
       "  </thead>\n",
       "  <tbody>\n",
       "    <tr>\n",
       "      <th>0</th>\n",
       "      <td>https://pages.tmall.com</td>\n",
       "      <td>0</td>\n",
       "    </tr>\n",
       "    <tr>\n",
       "      <th>1</th>\n",
       "      <td>http://habrahabr.ru</td>\n",
       "      <td>0</td>\n",
       "    </tr>\n",
       "    <tr>\n",
       "      <th>2</th>\n",
       "      <td>https://ebay.de</td>\n",
       "      <td>0</td>\n",
       "    </tr>\n",
       "    <tr>\n",
       "      <th>3</th>\n",
       "      <td>http://account-chek-police.000webhostapp.com/p...</td>\n",
       "      <td>1</td>\n",
       "    </tr>\n",
       "    <tr>\n",
       "      <th>4</th>\n",
       "      <td>http://aprecnotis.clan.su/recovery-login.htm</td>\n",
       "      <td>1</td>\n",
       "    </tr>\n",
       "  </tbody>\n",
       "</table>\n",
       "</div>"
      ],
      "text/plain": [
       "                                                 URL  Label\n",
       "0                            https://pages.tmall.com      0\n",
       "1                                http://habrahabr.ru      0\n",
       "2                                    https://ebay.de      0\n",
       "3  http://account-chek-police.000webhostapp.com/p...      1\n",
       "4       http://aprecnotis.clan.su/recovery-login.htm      1"
      ]
     },
     "execution_count": 4,
     "metadata": {},
     "output_type": "execute_result"
    }
   ],
   "source": [
    "dataset.head()"
   ]
  },
  {
   "cell_type": "code",
   "execution_count": 5,
   "metadata": {},
   "outputs": [
    {
     "data": {
      "text/plain": [
       "5894"
      ]
     },
     "execution_count": 5,
     "metadata": {},
     "output_type": "execute_result"
    }
   ],
   "source": [
    "len(dataset)"
   ]
  },
  {
   "cell_type": "code",
   "execution_count": 6,
   "metadata": {
    "collapsed": true
   },
   "outputs": [],
   "source": [
    "to_datetime = lambda x : datetime(int(x.getText()[:4]), int(x.getText()[5:7]), int(x.getText()[8:]))"
   ]
  },
  {
   "cell_type": "code",
   "execution_count": 7,
   "metadata": {
    "collapsed": true
   },
   "outputs": [],
   "source": [
    "def domainRegistrationLength(x):\n",
    "    try:\n",
    "        res = requests.get('https://www.whois.com/whois/'+x)\n",
    "        if res.status_code == requests.codes.ok:\n",
    "            websitesoup = bs4.BeautifulSoup(res.text)\n",
    "            elems = websitesoup.select('.df-value')\n",
    "            regOn, expOn = elems[2:4]\n",
    "            regOn = to_datetime(regOn)\n",
    "            expOn = to_datetime(expOn)\n",
    "            duration = (expOn - regOn).total_seconds()//31556926\n",
    "            return int(duration)\n",
    "        else:\n",
    "            return -1\n",
    "    except:\n",
    "        return -1"
   ]
  },
  {
   "cell_type": "code",
   "execution_count": null,
   "metadata": {},
   "outputs": [
    {
     "name": "stdout",
     "output_type": "stream",
     "text": [
      "0 23\n",
      "1 12\n",
      "2 -1\n",
      "3 5\n",
      "4 12\n",
      "5 -1\n",
      "6 -1\n",
      "7 -1\n",
      "8 -1\n",
      "9 -1\n",
      "10 21\n",
      "11 16\n",
      "12 5\n",
      "13 5\n",
      "14 21\n",
      "15 -1\n",
      "16 5\n",
      "17 14\n",
      "18 -1\n",
      "19 5\n",
      "20 0\n",
      "21 5\n",
      "22 5\n",
      "23 4\n",
      "24 9\n",
      "25 -1\n",
      "26 -1\n",
      "27 9\n",
      "28 -1\n",
      "29 -1\n",
      "30 -1\n",
      "31 12\n",
      "32 22\n",
      "33 21\n",
      "34 27\n",
      "35 -1\n",
      "36 22\n",
      "37 15\n",
      "38 5\n",
      "39 5\n",
      "40 5\n",
      "41 4\n",
      "42 -1\n",
      "43 5\n",
      "44 24\n",
      "45 12\n",
      "46 28\n",
      "47 5\n",
      "48 20\n",
      "49 -1\n",
      "50 -1\n",
      "51 8\n",
      "52 22\n",
      "53 -1\n",
      "54 -1\n",
      "55 16\n",
      "56 17\n",
      "57 -1\n",
      "58 18\n",
      "59 -1\n",
      "60 -1\n",
      "61 -1\n",
      "62 -1\n",
      "63 12\n",
      "64 8\n",
      "65 -1\n",
      "66 32\n",
      "67 -1\n",
      "68 20\n",
      "69 -1\n",
      "70 5\n",
      "71 5\n",
      "72 5\n",
      "73 5\n",
      "74 16\n",
      "75 21\n",
      "76 -1\n",
      "77 -1\n",
      "78 19\n",
      "79 31\n"
     ]
    }
   ],
   "source": [
    "drl = []\n",
    "for i, x in enumerate(dataset['URL']):\n",
    "    drl.append(domainRegistrationLength(x))\n",
    "    print(i, drl[-1])"
   ]
  },
  {
   "cell_type": "code",
   "execution_count": null,
   "metadata": {
    "collapsed": true
   },
   "outputs": [],
   "source": [
    "print(len(drl))\n",
    "print(drl)"
   ]
  },
  {
   "cell_type": "code",
   "execution_count": null,
   "metadata": {
    "collapsed": true
   },
   "outputs": [],
   "source": [
    "dataset['domainRegistrationLength'] = drl"
   ]
  },
  {
   "cell_type": "code",
   "execution_count": null,
   "metadata": {},
   "outputs": [],
   "source": [
    "dataset.head()"
   ]
  },
  {
   "cell_type": "code",
   "execution_count": null,
   "metadata": {
    "collapsed": true
   },
   "outputs": [],
   "source": [
    "dataset.to_csv('DomainRegistrationLength.csv', index=False)"
   ]
  },
  {
   "cell_type": "code",
   "execution_count": null,
   "metadata": {
    "collapsed": true
   },
   "outputs": [],
   "source": []
  }
 ],
 "metadata": {
  "kernelspec": {
   "display_name": "Python 3",
   "language": "python",
   "name": "python3"
  },
  "language_info": {
   "codemirror_mode": {
    "name": "ipython",
    "version": 3
   },
   "file_extension": ".py",
   "mimetype": "text/x-python",
   "name": "python",
   "nbconvert_exporter": "python",
   "pygments_lexer": "ipython3",
   "version": "3.5.4"
  }
 },
 "nbformat": 4,
 "nbformat_minor": 2
}
